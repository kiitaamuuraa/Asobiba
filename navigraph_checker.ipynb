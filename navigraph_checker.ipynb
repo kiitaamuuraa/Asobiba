{
  "nbformat": 4,
  "nbformat_minor": 5,
  "metadata": {
    "kernelspec": {
      "display_name": "Python 3",
      "language": "python",
      "name": "python3"
    },
    "language_info": {
      "codemirror_mode": {
        "name": "ipython",
        "version": 3
      },
      "file_extension": ".py",
      "mimetype": "text/x-python",
      "name": "python",
      "nbconvert_exporter": "python",
      "pygments_lexer": "ipython3",
      "version": "3.6.13"
    },
    "colab": {
      "name": "navigraph_checker.ipynb",
      "provenance": [],
      "collapsed_sections": [],
      "include_colab_link": true
    }
  },
  "cells": [
    {
      "cell_type": "markdown",
      "metadata": {
        "id": "view-in-github",
        "colab_type": "text"
      },
      "source": [
        "<a href=\"https://colab.research.google.com/github/kiitaamuuraa/Asobiba/blob/main/navigraph_checker.ipynb\" target=\"_parent\"><img src=\"https://colab.research.google.com/assets/colab-badge.svg\" alt=\"Open In Colab\"/></a>"
      ]
    },
    {
      "cell_type": "code",
      "metadata": {
        "id": "275f217f-7497-4dcd-ad51-002e537db1cb"
      },
      "source": [
        "# from utils import load_datasets, load_nav_graphs"
      ],
      "id": "275f217f-7497-4dcd-ad51-002e537db1cb",
      "execution_count": null,
      "outputs": []
    },
    {
      "cell_type": "code",
      "metadata": {
        "id": "c09522fa-a5ce-4da7-b60b-5094f877f9a5"
      },
      "source": [
        "import networkx as nx\n",
        "import json\n",
        "import numpy as np"
      ],
      "id": "c09522fa-a5ce-4da7-b60b-5094f877f9a5",
      "execution_count": null,
      "outputs": []
    },
    {
      "cell_type": "code",
      "metadata": {
        "id": "ae40a1a8-3a45-4861-b201-2d0189e898fd"
      },
      "source": [
        "def my_load_nav_graphs(scans):\n",
        "    ''' Load connectivity graph for each scan '''\n",
        "\n",
        "    def distance(pose1, pose2):\n",
        "        ''' Euclidean distance between two graph poses '''\n",
        "        return ((pose1['pose'][3]-pose2['pose'][3])**2\\\n",
        "          + (pose1['pose'][7]-pose2['pose'][7])**2\\\n",
        "          + (pose1['pose'][11]-pose2['pose'][11])**2)**0.5\n",
        "\n",
        "    graphs = {}\n",
        "    for scan in scans:\n",
        "        with open('../../connectivity/%s_connectivity.json' % scan) as f:\n",
        "            G = nx.Graph()\n",
        "            positions = {}\n",
        "            data = json.load(f)\n",
        "            for i,item in enumerate(data):\n",
        "                if item['included']:\n",
        "                    for j,conn in enumerate(item['unobstructed']):\n",
        "                        if conn and data[j]['included']:\n",
        "                            positions[item['image_id']] = np.array([item['pose'][3],\n",
        "                                    item['pose'][7], item['pose'][11]]);\n",
        "                            assert data[j]['unobstructed'][i], 'Graph should be undirected'\n",
        "                            G.add_edge(item['image_id'],data[j]['image_id'],weight=distance(item,data[j]))\n",
        "            nx.set_node_attributes(G, values=positions, name='position')\n",
        "            graphs[scan] = G\n",
        "    return graphs\n"
      ],
      "id": "ae40a1a8-3a45-4861-b201-2d0189e898fd",
      "execution_count": null,
      "outputs": []
    },
    {
      "cell_type": "code",
      "metadata": {
        "id": "935a5854-462c-4a5d-8475-fff0af551d46"
      },
      "source": [
        "g_dict = my_load_nav_graphs(['17DRP5sb8fy'])"
      ],
      "id": "935a5854-462c-4a5d-8475-fff0af551d46",
      "execution_count": null,
      "outputs": []
    },
    {
      "cell_type": "code",
      "metadata": {
        "id": "5b2ff741-b92d-4df9-9919-c6c421e46afc"
      },
      "source": [
        "g = g_dict['17DRP5sb8fy']"
      ],
      "id": "5b2ff741-b92d-4df9-9919-c6c421e46afc",
      "execution_count": null,
      "outputs": []
    },
    {
      "cell_type": "code",
      "metadata": {
        "id": "9dcdf23a-1c52-4c9d-8b48-79765f6126e1",
        "outputId": "c49afc3c-3ae9-4ba7-9d7c-83c3fddb7cae"
      },
      "source": [
        "nx.draw_networkx(g, with_labels=False, node_size=50, width=0.5)"
      ],
      "id": "9dcdf23a-1c52-4c9d-8b48-79765f6126e1",
      "execution_count": null,
      "outputs": [
        {
          "data": {
            "image/png": "[encoded data removed]",
            "text/plain": [
              "<Figure size 432x288 with 1 Axes>"
            ]
          },
          "metadata": {},
          "output_type": "display_data"
        }
      ]
    },
    {
      "cell_type": "code",
      "metadata": {
        "id": "04f851c1-95ca-4696-90d1-c2716280f325"
      },
      "source": [
        "pair = dict(nx.all_pairs_dijkstra_path(g))"
      ],
      "id": "04f851c1-95ca-4696-90d1-c2716280f325",
      "execution_count": null,
      "outputs": []
    },
    {
      "cell_type": "code",
      "metadata": {
        "id": "517faf56-2914-44e6-a09b-f3748ad283e3",
        "outputId": "5379e5f0-1d42-4d86-edba-48bc644e2b5c"
      },
      "source": [
        "pair['10c252c90fa24ef3b698c6f54d984c5c']['10c252c90fa24ef3b698c6f54d984c5c']"
      ],
      "id": "517faf56-2914-44e6-a09b-f3748ad283e3",
      "execution_count": null,
      "outputs": [
        {
          "data": {
            "text/plain": [
              "['10c252c90fa24ef3b698c6f54d984c5c']"
            ]
          },
          "execution_count": 97,
          "metadata": {},
          "output_type": "execute_result"
        }
      ]
    },
    {
      "cell_type": "code",
      "metadata": {
        "id": "0db8c8de-944d-43dc-9860-d48971666e52"
      },
      "source": [
        "f = open('../../connectivity/17DRP5sb8fy_connectivity.json')\n",
        "json_g = json.load(f)"
      ],
      "id": "0db8c8de-944d-43dc-9860-d48971666e52",
      "execution_count": null,
      "outputs": []
    },
    {
      "cell_type": "markdown",
      "metadata": {
        "id": "74546e6a-da9d-4b67-ad9b-f2f9ddae1186"
      },
      "source": [
        "## connectivity\n",
        "Connectivity graphs indicating the navigable paths between viewpoints in each scan.\n",
        "\n",
        "Each json file contains an array of annotations, one for each viewpoint in the scan. All annotations share the same basic structure as follows:\n",
        "\n",
        "```\n",
        "{\n",
        "  \"image_id\": str,\n",
        "  \"pose\": [float x 16],\n",
        "  \"included\": boolean,\n",
        "  \"visible\": [boolean x num_viewpoints],\n",
        "  \"unobstructed\": [boolean x num_viewpoints],\n",
        "  \"height\": float\n",
        "}\n",
        "```\n",
        "- `image_id`: matterport skybox prefix\n",
        "- `pose`: 4x4 matrix in row major order that transforms matterport skyboxes to global coordinates (z-up). Pose matrices are based on the assumption that the camera is facing skybox image 3.\n",
        "- `included`: whether viewpoint is included in the simulator. Some overlapping viewpoints are excluded.\n",
        "- `visible`: indicates other viewpoints that can be seen from this viewpoint.\n",
        "- `unobstructed`: indicates transitions to other viewpoints that are considered navigable for an agent.\n",
        "- `height`: estimated height of the viewpoint above the floor. Not required for the simulator.\n",
        "\n",
        "Units are in metres.\n",
        "\n",
        "`scans.txt` contains a list of all the scan ids in the dataset.\n"
      ],
      "id": "74546e6a-da9d-4b67-ad9b-f2f9ddae1186"
    },
    {
      "cell_type": "code",
      "metadata": {
        "id": "1c293281-1b9b-4f72-9b09-94dc58f9a49e"
      },
      "source": [
        "import glob"
      ],
      "id": "1c293281-1b9b-4f72-9b09-94dc58f9a49e",
      "execution_count": null,
      "outputs": []
    },
    {
      "cell_type": "code",
      "metadata": {
        "id": "adeb2285-d27e-467f-870e-53ba4da67357",
        "outputId": "d79ad8ed-9306-4c72-c816-3c570c2d4a10"
      },
      "source": [
        "'num of json: {}'.format(len(glob.glob('../../connectivity/*.json')))"
      ],
      "id": "adeb2285-d27e-467f-870e-53ba4da67357",
      "execution_count": null,
      "outputs": [
        {
          "data": {
            "text/plain": [
              "'num of json: 90'"
            ]
          },
          "execution_count": 83,
          "metadata": {},
          "output_type": "execute_result"
        }
      ]
    },
    {
      "cell_type": "code",
      "metadata": {
        "id": "5a8ca8e7-472c-48e0-b28d-0f5873da0307",
        "outputId": "1ed600fc-ed4c-4cb8-85dd-2aeccb4d1903"
      },
      "source": [
        "json_g[0]"
      ],
      "id": "5a8ca8e7-472c-48e0-b28d-0f5873da0307",
      "execution_count": null,
      "outputs": [
        {
          "data": {
            "text/plain": [
              "{'image_id': '10c252c90fa24ef3b698c6f54d984c5c',\n",
              " 'pose': [-0.934268,\n",
              "  -0.00147015,\n",
              "  -0.35657,\n",
              "  -5.48891,\n",
              "  0.356526,\n",
              "  -0.0200643,\n",
              "  -0.93407,\n",
              "  1.4484,\n",
              "  -0.00578122,\n",
              "  -0.999798,\n",
              "  0.0192692,\n",
              "  1.53509,\n",
              "  0,\n",
              "  0,\n",
              "  0,\n",
              "  1],\n",
              " 'included': True,\n",
              " 'visible': [False,\n",
              "  False,\n",
              "  True,\n",
              "  False,\n",
              "  False,\n",
              "  False,\n",
              "  False,\n",
              "  False,\n",
              "  True,\n",
              "  False,\n",
              "  False,\n",
              "  False,\n",
              "  True,\n",
              "  False,\n",
              "  True,\n",
              "  True,\n",
              "  False,\n",
              "  True,\n",
              "  True,\n",
              "  False,\n",
              "  False,\n",
              "  False,\n",
              "  False,\n",
              "  True,\n",
              "  False,\n",
              "  False,\n",
              "  False,\n",
              "  False,\n",
              "  False,\n",
              "  True,\n",
              "  True,\n",
              "  True,\n",
              "  False,\n",
              "  False,\n",
              "  False,\n",
              "  False,\n",
              "  True,\n",
              "  False,\n",
              "  False,\n",
              "  False,\n",
              "  False,\n",
              "  False,\n",
              "  False,\n",
              "  False,\n",
              "  False,\n",
              "  False,\n",
              "  True,\n",
              "  False],\n",
              " 'unobstructed': [False,\n",
              "  False,\n",
              "  False,\n",
              "  False,\n",
              "  False,\n",
              "  False,\n",
              "  False,\n",
              "  False,\n",
              "  False,\n",
              "  False,\n",
              "  False,\n",
              "  False,\n",
              "  True,\n",
              "  False,\n",
              "  False,\n",
              "  False,\n",
              "  False,\n",
              "  False,\n",
              "  True,\n",
              "  False,\n",
              "  False,\n",
              "  False,\n",
              "  False,\n",
              "  True,\n",
              "  False,\n",
              "  False,\n",
              "  False,\n",
              "  False,\n",
              "  False,\n",
              "  False,\n",
              "  False,\n",
              "  False,\n",
              "  False,\n",
              "  False,\n",
              "  False,\n",
              "  False,\n",
              "  False,\n",
              "  False,\n",
              "  False,\n",
              "  False,\n",
              "  False,\n",
              "  False,\n",
              "  False,\n",
              "  False,\n",
              "  False,\n",
              "  False,\n",
              "  False,\n",
              "  False],\n",
              " 'height': 1.5357383388956596}"
            ]
          },
          "execution_count": 85,
          "metadata": {},
          "output_type": "execute_result"
        }
      ]
    },
    {
      "cell_type": "code",
      "metadata": {
        "id": "53a8e40c-8e20-4074-8017-85b0b9ab6877"
      },
      "source": [
        ""
      ],
      "id": "53a8e40c-8e20-4074-8017-85b0b9ab6877",
      "execution_count": null,
      "outputs": []
    }
  ]
}