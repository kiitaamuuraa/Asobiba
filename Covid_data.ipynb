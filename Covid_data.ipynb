{
  "nbformat": 4,
  "nbformat_minor": 0,
  "metadata": {
    "colab": {
      "name": "Covid_data.ipynb",
      "provenance": [],
      "authorship_tag": "ABX9TyNs42XPf4T6ib8Giru5HYo1",
      "include_colab_link": true
    },
    "kernelspec": {
      "name": "python3",
      "display_name": "Python 3"
    }
  },
  "cells": [
    {
      "cell_type": "markdown",
      "metadata": {
        "id": "view-in-github",
        "colab_type": "text"
      },
      "source": [
        "<a href=\"https://colab.research.google.com/github/kiitaamuuraa/Asobiba/blob/main/Covid_data.ipynb\" target=\"_parent\"><img src=\"https://colab.research.google.com/assets/colab-badge.svg\" alt=\"Open In Colab\"/></a>"
      ]
    },
    {
      "cell_type": "code",
      "metadata": {
        "id": "8Hn6kbWufOVM"
      },
      "source": [
        "import requests\r\n",
        "import json"
      ],
      "execution_count": 16,
      "outputs": []
    },
    {
      "cell_type": "code",
      "metadata": {
        "id": "As4eYR5eftx2"
      },
      "source": [
        "api_key = \"あああああ\""
      ],
      "execution_count": 5,
      "outputs": []
    },
    {
      "cell_type": "code",
      "metadata": {
        "id": "UvsUNSo5fvle"
      },
      "source": [
        "uri = 'https://api.covidactnow.org/v2/counties.json?apiKey=' + api_key"
      ],
      "execution_count": 13,
      "outputs": []
    },
    {
      "cell_type": "code",
      "metadata": {
        "id": "VX8dc8WAf5AR"
      },
      "source": [
        "a = requests.get(uri)"
      ],
      "execution_count": 14,
      "outputs": []
    },
    {
      "cell_type": "code",
      "metadata": {
        "id": "pMEfQRJbgCsw"
      },
      "source": [
        "b = json.loads(a.text)"
      ],
      "execution_count": 19,
      "outputs": []
    },
    {
      "cell_type": "code",
      "metadata": {
        "colab": {
          "base_uri": "https://localhost:8080/"
        },
        "id": "-6ddmvBrgEMi",
        "outputId": "f28cf28c-c2c3-4da7-e852-2554e7dd8e28"
      },
      "source": [
        "b[0].keys()"
      ],
      "execution_count": 23,
      "outputs": [
        {
          "output_type": "execute_result",
          "data": {
            "text/plain": [
              "dict_keys(['fips', 'country', 'state', 'county', 'level', 'lat', 'locationId', 'long', 'population', 'metrics', 'riskLevels', 'actuals', 'annotations', 'lastUpdatedDate', 'url'])"
            ]
          },
          "metadata": {
            "tags": []
          },
          "execution_count": 23
        }
      ]
    },
    {
      "cell_type": "code",
      "metadata": {
        "id": "-2IY19RXgx6X"
      },
      "source": [
        "for a in b:\r\n",
        "    if a['country'] != 'USA':\r\n",
        "        print(a['country'])"
      ],
      "execution_count": 47,
      "outputs": []
    },
    {
      "cell_type": "code",
      "metadata": {
        "colab": {
          "base_uri": "https://localhost:8080/"
        },
        "id": "Ia7hMM0Bg8eB",
        "outputId": "40b11717-73c7-42a2-8fad-a71686f2f9b5"
      },
      "source": [
        "len(b)"
      ],
      "execution_count": 26,
      "outputs": [
        {
          "output_type": "execute_result",
          "data": {
            "text/plain": [
              "3222"
            ]
          },
          "metadata": {
            "tags": []
          },
          "execution_count": 26
        }
      ]
    },
    {
      "cell_type": "code",
      "metadata": {
        "colab": {
          "base_uri": "https://localhost:8080/"
        },
        "id": "IZJ0fMKhhBsP",
        "outputId": "98cb10bb-3ba0-4deb-f452-4039003316eb"
      },
      "source": [
        "b[0]['metrics']"
      ],
      "execution_count": 27,
      "outputs": [
        {
          "output_type": "execute_result",
          "data": {
            "text/plain": [
              "{'caseDensity': 12.843015540048803,\n",
              " 'contactTracerCapacityRatio': None,\n",
              " 'icuCapacityRatio': None,\n",
              " 'icuHeadroomDetails': None,\n",
              " 'icuHeadroomRatio': None,\n",
              " 'infectionRate': 0.380843756137,\n",
              " 'infectionRateCI90': 0.9350075125630002,\n",
              " 'testPositivityRatio': 0.0161,\n",
              " 'testPositivityRatioDetails': {'source': 'other'},\n",
              " 'vaccinationsCompletedRatio': None,\n",
              " 'vaccinationsInitiatedRatio': None}"
            ]
          },
          "metadata": {
            "tags": []
          },
          "execution_count": 27
        }
      ]
    },
    {
      "cell_type": "code",
      "metadata": {
        "id": "-HP2k8UTnAKn"
      },
      "source": [
        ""
      ],
      "execution_count": null,
      "outputs": []
    },
    {
      "cell_type": "code",
      "metadata": {
        "id": "grLdjbcyhJhU"
      },
      "source": [
        "for i in b:\r\n",
        "    if i['country'] == 'CANADA':\r\n",
        "        print(i['metrics']['icuHeadroomDetails'])\r\n",
        "        "
      ],
      "execution_count": 45,
      "outputs": []
    },
    {
      "cell_type": "code",
      "metadata": {
        "id": "Esif_gSljpy4"
      },
      "source": [
        "etails': {'source': 'other'}, 'caseDensity': 22.050405794428425, 'contactTracerCapacityRatio': None, 'infectionRate': 1.00029698955, 'infectionRateCI90': 0.09999999999999987, 'icuHeadroomRatio': 0.16715982180263056, 'icuHeadroomDetails': {'currentIcuCovid': 49, 'currentIcuCovidMethod': 'estimated', 'currentIcuNonCovid': 263, 'currentIcuNonCovidMethod': 'estimated_from_typical_utilization'}, 'icuCapacityRatio': 0.7665478793369745, 'vaccinationsInitiatedRatio': 0.15186609048184893, 'vaccinationsCompletedRatio': 0.05791150820898898}"
      ],
      "execution_count": null,
      "outputs": []
    },
    {
      "cell_type": "code",
      "metadata": {
        "id": "IFpsxQoelaZN"
      },
      "source": [
        "uri = 'https://api.covidactnow.org/v2/county/42003.json?apiKey=' + api_key\r\n",
        "\r\n",
        "\r\n",
        "PGH_data = requests.get(uri)"
      ],
      "execution_count": 38,
      "outputs": []
    },
    {
      "cell_type": "code",
      "metadata": {
        "id": "jLhXulrAlreN"
      },
      "source": [
        "PGH_data = json.loads(PGH_data.text)"
      ],
      "execution_count": 40,
      "outputs": []
    },
    {
      "cell_type": "code",
      "metadata": {
        "colab": {
          "base_uri": "https://localhost:8080/"
        },
        "id": "Oqy5xXcElyIu",
        "outputId": "0d855ee2-b627-45bf-9d9c-4698fd9986da"
      },
      "source": [
        "PGH_data['metrics']"
      ],
      "execution_count": 42,
      "outputs": [
        {
          "output_type": "execute_result",
          "data": {
            "text/plain": [
              "{'caseDensity': 22.050405794428425,\n",
              " 'contactTracerCapacityRatio': None,\n",
              " 'icuCapacityRatio': 0.7665478793369745,\n",
              " 'icuHeadroomDetails': {'currentIcuCovid': 49,\n",
              "  'currentIcuCovidMethod': 'estimated',\n",
              "  'currentIcuNonCovid': 263,\n",
              "  'currentIcuNonCovidMethod': 'estimated_from_typical_utilization'},\n",
              " 'icuHeadroomRatio': 0.16715982180263056,\n",
              " 'infectionRate': 1.00029698955,\n",
              " 'infectionRateCI90': 0.09999999999999987,\n",
              " 'testPositivityRatio': 0.0546,\n",
              " 'testPositivityRatioDetails': {'source': 'other'},\n",
              " 'vaccinationsCompletedRatio': 0.05791150820898898,\n",
              " 'vaccinationsInitiatedRatio': 0.15186609048184893}"
            ]
          },
          "metadata": {
            "tags": []
          },
          "execution_count": 42
        }
      ]
    },
    {
      "cell_type": "code",
      "metadata": {
        "id": "tnZKnsY6l4Tt"
      },
      "source": [
        ""
      ],
      "execution_count": null,
      "outputs": []
    }
  ]
}