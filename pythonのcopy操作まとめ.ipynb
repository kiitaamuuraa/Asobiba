{
  "nbformat": 4,
  "nbformat_minor": 0,
  "metadata": {
    "colab": {
      "name": "pythonのcopy操作まとめ.ipynb",
      "provenance": [],
      "authorship_tag": "ABX9TyN796YbLgwYRjtfVK+wewaq",
      "include_colab_link": true
    },
    "kernelspec": {
      "name": "python3",
      "display_name": "Python 3"
    },
    "language_info": {
      "name": "python"
    }
  },
  "cells": [
    {
      "cell_type": "markdown",
      "metadata": {
        "id": "view-in-github",
        "colab_type": "text"
      },
      "source": [
        "<a href=\"https://colab.research.google.com/github/kiitaamuuraa/Asobiba/blob/main/python%E3%81%AEcopy%E6%93%8D%E4%BD%9C%E3%81%BE%E3%81%A8%E3%82%81.ipynb\" target=\"_parent\"><img src=\"https://colab.research.google.com/assets/colab-badge.svg\" alt=\"Open In Colab\"/></a>"
      ]
    },
    {
      "cell_type": "code",
      "metadata": {
        "id": "HqrKruHvqCyy",
        "colab": {
          "base_uri": "https://localhost:8080/"
        },
        "outputId": "328f50b6-6c72-4d33-91ca-0aeac1d339ec"
      },
      "source": [
        "list_a = [1, 2, 3, 4]\n",
        "list_b = list_a\n",
        "list_b[0] = 3\n",
        "list_a, list_b"
      ],
      "execution_count": 5,
      "outputs": [
        {
          "output_type": "execute_result",
          "data": {
            "text/plain": [
              "([3, 2, 3, 4], [3, 2, 3, 4])"
            ]
          },
          "metadata": {
            "tags": []
          },
          "execution_count": 5
        }
      ]
    },
    {
      "cell_type": "code",
      "metadata": {
        "colab": {
          "base_uri": "https://localhost:8080/"
        },
        "id": "8TFIgDf9nSYJ",
        "outputId": "6016f80c-41e5-4261-a4fd-07ab6052ea41"
      },
      "source": [
        "list_a = [1, 2, 3, 4]\n",
        "list_b = list_a.copy()\n",
        "list_b[0] = 3\n",
        "list_a, list_b"
      ],
      "execution_count": 4,
      "outputs": [
        {
          "output_type": "execute_result",
          "data": {
            "text/plain": [
              "([1, 2, 3, 4], [3, 2, 3, 4])"
            ]
          },
          "metadata": {
            "tags": []
          },
          "execution_count": 4
        }
      ]
    },
    {
      "cell_type": "code",
      "metadata": {
        "id": "DEx3XnOm4wr0"
      },
      "source": [
        "import copy"
      ],
      "execution_count": 24,
      "outputs": []
    },
    {
      "cell_type": "code",
      "metadata": {
        "colab": {
          "base_uri": "https://localhost:8080/"
        },
        "id": "NndtRZsBpyZq",
        "outputId": "a87d40a4-7f7a-4023-a2cb-afefb6170a48"
      },
      "source": [
        "dict_a = {\n",
        "            'aaa': {'key': 1111},\n",
        "            'bbb': {'key': 2222},\n",
        "            'ccc': {'key': 3333},\n",
        "            'ddd': {'key': 4444},\n",
        "            'eee': {'key': 5555},\n",
        "            'fff': {'key': 6666},\n",
        "            'ggg': {'key': 7777}          \n",
        "        }   \n",
        "\n",
        "dict_b = copy.copy(dict_a)\n",
        "for k, v in dict_b.items():\n",
        "    v['key'] += 1\n",
        "dict_a"
      ],
      "execution_count": 23,
      "outputs": [
        {
          "output_type": "execute_result",
          "data": {
            "text/plain": [
              "{'aaa': {'key': 1112},\n",
              " 'bbb': {'key': 2223},\n",
              " 'ccc': {'key': 3334},\n",
              " 'ddd': {'key': 4445},\n",
              " 'eee': {'key': 5556},\n",
              " 'fff': {'key': 6667},\n",
              " 'ggg': {'key': 7778}}"
            ]
          },
          "metadata": {
            "tags": []
          },
          "execution_count": 23
        }
      ]
    },
    {
      "cell_type": "code",
      "metadata": {
        "colab": {
          "base_uri": "https://localhost:8080/"
        },
        "id": "hPSrJc_w3tfq",
        "outputId": "a8058c21-6e2d-4311-f8e4-db2129f8ef44"
      },
      "source": [
        "dict_a = {\n",
        "            'aaa': {'key': 1111},\n",
        "            'bbb': {'key': 2222},\n",
        "            'ccc': {'key': 3333},\n",
        "            'ddd': {'key': 4444},\n",
        "            'eee': {'key': 5555},\n",
        "            'fff': {'key': 6666},\n",
        "            'ggg': {'key': 7777}          \n",
        "        }   \n",
        "\n",
        "dict_b = copy.deepcopy(dict_a)\n",
        "for k, v in dict_b.items():\n",
        "    v['key'] += 1\n",
        "dict_a"
      ],
      "execution_count": 25,
      "outputs": [
        {
          "output_type": "execute_result",
          "data": {
            "text/plain": [
              "{'aaa': {'key': 1111},\n",
              " 'bbb': {'key': 2222},\n",
              " 'ccc': {'key': 3333},\n",
              " 'ddd': {'key': 4444},\n",
              " 'eee': {'key': 5555},\n",
              " 'fff': {'key': 6666},\n",
              " 'ggg': {'key': 7777}}"
            ]
          },
          "metadata": {
            "tags": []
          },
          "execution_count": 25
        }
      ]
    },
    {
      "cell_type": "code",
      "metadata": {
        "id": "_m7EYoSv34xf"
      },
      "source": [
        ""
      ],
      "execution_count": null,
      "outputs": []
    }
  ]
}