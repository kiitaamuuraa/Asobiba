{
  "nbformat": 4,
  "nbformat_minor": 0,
  "metadata": {
    "colab": {
      "name": "VIsualGenome.ipynb",
      "provenance": [],
      "toc_visible": true,
      "authorship_tag": "ABX9TyMzXuLf792KHRSTwfxD9blb",
      "include_colab_link": true
    },
    "kernelspec": {
      "name": "python3",
      "display_name": "Python 3"
    },
    "language_info": {
      "name": "python"
    }
  },
  "cells": [
    {
      "cell_type": "markdown",
      "metadata": {
        "id": "view-in-github",
        "colab_type": "text"
      },
      "source": [
        "<a href=\"https://colab.research.google.com/github/kiitaamuuraa/Asobiba/blob/main/VIsualGenome.ipynb\" target=\"_parent\"><img src=\"https://colab.research.google.com/assets/colab-badge.svg\" alt=\"Open In Colab\"/></a>"
      ]
    },
    {
      "cell_type": "markdown",
      "metadata": {
        "id": "-PBpVWkdLJB5"
      },
      "source": [
        "# Visual Genome のデータスキーマの確認用"
      ]
    },
    {
      "cell_type": "code",
      "metadata": {
        "id": "kRrZLshRaqIt"
      },
      "source": [
        "import glob\n",
        "import json\n",
        "import random\n",
        "import re\n",
        "from IPython.display import Image"
      ],
      "execution_count": 1,
      "outputs": []
    },
    {
      "cell_type": "code",
      "metadata": {
        "id": "l5dSMRgwBAxL"
      },
      "source": [
        "# !wget -r -l1 -A zip 'https://visualgenome.org/static/data/dataset/'"
      ],
      "execution_count": null,
      "outputs": []
    },
    {
      "cell_type": "code",
      "metadata": {
        "id": "nltG75Z947T2"
      },
      "source": [
        "! wget 'https://visualgenome.org/static/data/dataset/relationships_v1.json.zip' \\\n",
        "'https://visualgenome.org/static/data/dataset/image_data_v1.json.zip' \\\n",
        "'https://visualgenome.org/static/data/dataset/region_descriptions_v1.json.zip' \\\n",
        "'https://visualgenome.org/static/data/dataset/attributes_v1.json.zip'\n",
        "! yes | unzip '/content/*.zip'"
      ],
      "execution_count": null,
      "outputs": []
    },
    {
      "cell_type": "code",
      "metadata": {
        "id": "N_7KYb_o84PB"
      },
      "source": [
        "VG = {re.split('[/.]', f)[-2]: json.load(open(f)) for f in glob.glob('/content/*.json')}"
      ],
      "execution_count": 3,
      "outputs": []
    },
    {
      "cell_type": "code",
      "metadata": {
        "colab": {
          "base_uri": "https://localhost:8080/"
        },
        "id": "owLWwTE7c6ng",
        "outputId": "9c04016c-5d27-47ed-e5ff-40cebbe3a155"
      },
      "source": [
        "for k, v in VG.items():\n",
        "    num_data = len(v)\n",
        "    print(f'{k}:\\n\\tnum_data:{num_data}\\n\\t{v[0].keys()}\\n')"
      ],
      "execution_count": 16,
      "outputs": [
        {
          "output_type": "stream",
          "text": [
            "region_descriptions:\n",
            "\tnum_data:108077\n",
            "\tdict_keys(['regions', 'id'])\n",
            "\n",
            "relationships:\n",
            "\tnum_data:108077\n",
            "\tdict_keys(['relationships', 'id'])\n",
            "\n",
            "image_data:\n",
            "\tnum_data:108077\n",
            "\tdict_keys(['url', 'height', 'width', 'coco_id', 'id', 'flickr_id'])\n",
            "\n",
            "attributes:\n",
            "\tnum_data:108077\n",
            "\tdict_keys(['attributes', 'id'])\n",
            "\n"
          ],
          "name": "stdout"
        }
      ]
    },
    {
      "cell_type": "code",
      "metadata": {
        "id": "8pMJIIeWeQV4"
      },
      "source": [
        "def get_VG_instance(idx):\n",
        "    ret = dict()\n",
        "    for k, v in VG.items():\n",
        "        ret[k] = v[idx]\n",
        "    return ret"
      ],
      "execution_count": 20,
      "outputs": []
    },
    {
      "cell_type": "code",
      "metadata": {
        "id": "-LE0ho9rHXRV"
      },
      "source": [
        "inst = get_VG_instance(10000)"
      ],
      "execution_count": 31,
      "outputs": []
    },
    {
      "cell_type": "code",
      "metadata": {
        "id": "H-w0jMNE1j5X",
        "outputId": "b8c676fb-3ce7-4d3f-900d-c8269cbf5e47",
        "colab": {
          "base_uri": "https://localhost:8080/",
          "height": 1000
        }
      },
      "source": [
        "Image(url=inst['image_data']['url'])"
      ],
      "execution_count": 32,
      "outputs": [
        {
          "output_type": "execute_result",
          "data": {
            "text/html": [
              "<img src=\"https://cs.stanford.edu/people/rak248/VG_100K/1593160.jpg\"/>"
            ],
            "text/plain": [
              "<IPython.core.display.Image object>"
            ]
          },
          "metadata": {
            "tags": []
          },
          "execution_count": 32
        }
      ]
    },
    {
      "cell_type": "code",
      "metadata": {
        "id": "eyM5eeXiKiUL"
      },
      "source": [
        ""
      ],
      "execution_count": null,
      "outputs": []
    }
  ]
}