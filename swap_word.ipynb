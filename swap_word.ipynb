{
  "nbformat": 4,
  "nbformat_minor": 0,
  "metadata": {
    "colab": {
      "name": "swap_word.ipynb",
      "provenance": [],
      "authorship_tag": "ABX9TyOqrh5sBQMCawIWJEe5O8Fw",
      "include_colab_link": true
    },
    "kernelspec": {
      "name": "python3",
      "display_name": "Python 3"
    },
    "language_info": {
      "name": "python"
    }
  },
  "cells": [
    {
      "cell_type": "markdown",
      "metadata": {
        "id": "view-in-github",
        "colab_type": "text"
      },
      "source": [
        "<a href=\"https://colab.research.google.com/github/kiitaamuuraa/Asobiba/blob/main/swap_word.ipynb\" target=\"_parent\"><img src=\"https://colab.research.google.com/assets/colab-badge.svg\" alt=\"Open In Colab\"/></a>"
      ]
    },
    {
      "cell_type": "code",
      "metadata": {
        "id": "F81aEwZT-imi"
      },
      "source": [
        "import re"
      ],
      "execution_count": 2,
      "outputs": []
    },
    {
      "cell_type": "code",
      "metadata": {
        "id": "joF6zRfaJxpg"
      },
      "source": [
        "sents = [\n",
        "         'make a left; then, you will find a blue store on your right',\n",
        "         \"i think that is my friend on the left, can you park next to the man with the black shirt please \",\n",
        "         \"slow down, i want to write down the phone number on the side of that van, coming from the other direction \",\n",
        "         'that is the parking lot up there. turn right into the driveway just in front of that scooter',\n",
        "         \"there are a bunch of guys over there by the corner on the left. i need to pick up the one standing on the right. pick him up.\"\n",
        "        ] "
      ],
      "execution_count": 16,
      "outputs": []
    },
    {
      "cell_type": "code",
      "metadata": {
        "id": "f4y6dZWF_jD8"
      },
      "source": [
        "def swap_rl(sent):\n",
        "    new_sent = str()    \n",
        "    if re.search(' right( |,|.|:|;|!|\\?|)', sent):\n",
        "        new_sent = sent.replace('right', 'LEFT')\n",
        "    if re.search(' left( |,|.|:|;|!|\\?|)', sent):\n",
        "        new_sent = new_sent.replace('left', 'RIGHT')\n",
        "    new_sent = new_sent.replace('LEFT', 'left')\n",
        "    new_sent = new_sent.replace('RIGHT', 'right')\n",
        "\n",
        "    return new_sent\n"
      ],
      "execution_count": 17,
      "outputs": []
    },
    {
      "cell_type": "code",
      "metadata": {
        "colab": {
          "base_uri": "https://localhost:8080/"
        },
        "id": "iRokrTzfPDng",
        "outputId": "04a4c87e-6d3d-4a4a-a98a-1aaac15fd192"
      },
      "source": [
        "for sent in sents:\n",
        "    print(sent)\n",
        "    print(swap_rl(sent))"
      ],
      "execution_count": 18,
      "outputs": [
        {
          "output_type": "stream",
          "text": [
            "make a left; then, you will find a blue store on your right\n",
            "make a right; then, you will find a blue store on your left\n",
            "i think that is my friend on the left, can you park next to the man with the black shirt please \n",
            "\n",
            "slow down, i want to write down the phone number on the side of that van, coming from the other direction \n",
            "\n",
            "that is the parking lot up there. turn right into the driveway just in front of that scooter\n",
            "that is the parking lot up there. turn left into the driveway just in front of that scooter\n",
            "there are a bunch of guys over there by the corner on the left. i need to pick up the one standing on the right. pick him up.\n",
            "there are a bunch of guys over there by the corner on the right. i need to pick up the one standing on the left. pick him up.\n"
          ],
          "name": "stdout"
        }
      ]
    },
    {
      "cell_type": "code",
      "metadata": {
        "id": "msSS5HOyK7Dt"
      },
      "source": [
        ""
      ],
      "execution_count": null,
      "outputs": []
    }
  ]
}