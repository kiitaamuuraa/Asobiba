{
  "nbformat": 4,
  "nbformat_minor": 0,
  "metadata": {
    "colab": {
      "name": "drop_color_adj.ipynb",
      "provenance": [],
      "authorship_tag": "ABX9TyNjlRRsiIjUPM64CvkTEaEM",
      "include_colab_link": true
    },
    "kernelspec": {
      "name": "python3",
      "display_name": "Python 3"
    },
    "language_info": {
      "name": "python"
    }
  },
  "cells": [
    {
      "cell_type": "markdown",
      "metadata": {
        "id": "view-in-github",
        "colab_type": "text"
      },
      "source": [
        "<a href=\"https://colab.research.google.com/github/kiitaamuuraa/Asobiba/blob/main/drop_color_adj.ipynb\" target=\"_parent\"><img src=\"https://colab.research.google.com/assets/colab-badge.svg\" alt=\"Open In Colab\"/></a>"
      ]
    },
    {
      "cell_type": "code",
      "metadata": {
        "id": "wLVuhlj3bPVU"
      },
      "source": [
        "import urllib.request\n",
        "from bs4 import BeautifulSoup\n",
        "import re"
      ],
      "execution_count": 14,
      "outputs": []
    },
    {
      "cell_type": "code",
      "metadata": {
        "colab": {
          "base_uri": "https://localhost:8080/"
        },
        "id": "bF4dfL8hbUHp",
        "outputId": "0b39ac16-e854-4b20-8cd7-ba1cec0d0ca2"
      },
      "source": [
        "html = urllib.request.urlopen('http://www.w3schools.com/colors/colors_names.asp').read()\n",
        "soup = BeautifulSoup(html, 'html.parser')\n",
        "children = [item.string for item in soup.find_all('span', class_=\"colornamespan\")]\n",
        "print(children, '\\n', len(children))"
      ],
      "execution_count": 2,
      "outputs": [
        {
          "output_type": "stream",
          "text": [
            "['AliceBlue', 'AntiqueWhite', 'Aqua', 'Aquamarine', 'Azure', 'Beige', 'Bisque', 'Black', 'BlanchedAlmond', 'Blue', 'BlueViolet', 'Brown', 'BurlyWood', 'CadetBlue', 'Chartreuse', 'Chocolate', 'Coral', 'CornflowerBlue', 'Cornsilk', 'Crimson', 'Cyan', 'DarkBlue', 'DarkCyan', 'DarkGoldenRod', 'DarkGray', 'DarkGrey', 'DarkGreen', 'DarkKhaki', 'DarkMagenta', 'DarkOliveGreen', 'DarkOrange', 'DarkOrchid', 'DarkRed', 'DarkSalmon', 'DarkSeaGreen', 'DarkSlateBlue', 'DarkSlateGray', 'DarkSlateGrey', 'DarkTurquoise', 'DarkViolet', 'DeepPink', 'DeepSkyBlue', 'DimGray', 'DimGrey', 'DodgerBlue', 'FireBrick', 'FloralWhite', 'ForestGreen', 'Fuchsia', 'Gainsboro', 'GhostWhite', 'Gold', 'GoldenRod', 'Gray', 'Grey', 'Green', 'GreenYellow', 'HoneyDew', 'HotPink', 'IndianRed ', 'Indigo  ', 'Ivory', 'Khaki', 'Lavender', 'LavenderBlush', 'LawnGreen', 'LemonChiffon', 'LightBlue', 'LightCoral', 'LightCyan', 'LightGoldenRodYellow', 'LightGray', 'LightGrey', 'LightGreen', 'LightPink', 'LightSalmon', 'LightSeaGreen', 'LightSkyBlue', 'LightSlateGray', 'LightSlateGrey', 'LightSteelBlue', 'LightYellow', 'Lime', 'LimeGreen', 'Linen', 'Magenta', 'Maroon', 'MediumAquaMarine', 'MediumBlue', 'MediumOrchid', 'MediumPurple', 'MediumSeaGreen', 'MediumSlateBlue', 'MediumSpringGreen', 'MediumTurquoise', 'MediumVioletRed', 'MidnightBlue', 'MintCream', 'MistyRose', 'Moccasin', 'NavajoWhite', 'Navy', 'OldLace', 'Olive', 'OliveDrab', 'Orange', 'OrangeRed', 'Orchid', 'PaleGoldenRod', 'PaleGreen', 'PaleTurquoise', 'PaleVioletRed', 'PapayaWhip', 'PeachPuff', 'Peru', 'Pink', 'Plum', 'PowderBlue', 'Purple', 'RebeccaPurple', 'Red', 'RosyBrown', 'RoyalBlue', 'SaddleBrown', 'Salmon', 'SandyBrown', 'SeaGreen', 'SeaShell', 'Sienna', 'Silver', 'SkyBlue', 'SlateBlue', 'SlateGray', 'SlateGrey', 'Snow', 'SpringGreen', 'SteelBlue', 'Tan', 'Teal', 'Thistle', 'Tomato', 'Turquoise', 'Violet', 'Wheat', 'White', 'WhiteSmoke', 'Yellow', 'YellowGreen'] \n",
            " 148\n"
          ],
          "name": "stdout"
        }
      ]
    },
    {
      "cell_type": "code",
      "metadata": {
        "id": "n-9tF44ihx5_"
      },
      "source": [
        "# コピペ（色を表す複合語を分離、分離の仕方は大文字）\n",
        "colors = [''.join( ' '+x if 'A' <= x <= 'Z' else x for x in item.replace(u'\\xa0', '')).strip().lower() for item in children]"
      ],
      "execution_count": 4,
      "outputs": []
    },
    {
      "cell_type": "code",
      "metadata": {
        "id": "9YHYtDW-ecKc"
      },
      "source": [
        "import spacy\n",
        "nlp = spacy.load(\"en_core_web_sm\")"
      ],
      "execution_count": 5,
      "outputs": []
    },
    {
      "cell_type": "code",
      "metadata": {
        "id": "k7uw5MshhNZ1"
      },
      "source": [
        "compound_colors = list()\n",
        "single_colors = list()\n",
        "\n",
        "for color in colors:\n",
        "    if ' ' in color:\n",
        "        compound_colors.append(color)\n",
        "    else:\n",
        "        single_colors.append(color)"
      ],
      "execution_count": 8,
      "outputs": []
    },
    {
      "cell_type": "code",
      "metadata": {
        "id": "MiFCxD0clHmL"
      },
      "source": [
        "sents = [\n",
        "         'I wear a dark gray shirt and a sandy brown hat',\n",
        "         'I have a black pen',\n",
        "         'turn left at that corner where that person is standing',\n",
        "         'there person with the umbrella is on the street, move slightly right in order to not hit her',\n",
        "         \"go park next to the white van, up ahead.\"\n",
        "         ]"
      ],
      "execution_count": 21,
      "outputs": []
    },
    {
      "cell_type": "code",
      "metadata": {
        "id": "olc5l5VXor09"
      },
      "source": [
        "new_sents  = list()\n",
        "for sent in sents:\n",
        "\n",
        "    for compound_color in compound_colors:\n",
        "        if re.search(' {compound_color}|{compound_color} '.format(compound_color=compound_color), sent):\n",
        "           sent = sent.replace(compound_color,'')\n",
        "           sent = sent.replace('  ','')\n",
        "\n",
        "    sent = nlp(sent)\n",
        "    new_sent = str()\n",
        "\n",
        "\n",
        "    # TODO: なんか汚い\n",
        "    for token in sent:\n",
        "        if token.text in single_colors: # and token.pos_ == 'ADJ':\n",
        "            pass\n",
        "        else:\n",
        "            new_sent += (token.text + ' ')\n",
        "    \n",
        "    new_sent = new_sent[:-1].replace(' .', '.').replace(' ,', ',').replace(' !', '!').replace(' ?', '?')\n",
        "\n",
        "    new_sents.append(new_sent)\n"
      ],
      "execution_count": 38,
      "outputs": []
    },
    {
      "cell_type": "code",
      "metadata": {
        "colab": {
          "base_uri": "https://localhost:8080/"
        },
        "id": "Au0h6p9Yw10S",
        "outputId": "b074b167-4d39-4ded-e06b-3820ad99f2d8"
      },
      "source": [
        "new_sents"
      ],
      "execution_count": 39,
      "outputs": [
        {
          "output_type": "execute_result",
          "data": {
            "text/plain": [
              "['I wear ashirt and ahat',\n",
              " 'I have a pen',\n",
              " 'turn left at that corner where that person is standing',\n",
              " 'there person with the umbrella is on the street, move slightly right in order to not hit her',\n",
              " 'go park next to the van, up ahead.']"
            ]
          },
          "metadata": {
            "tags": []
          },
          "execution_count": 39
        }
      ]
    },
    {
      "cell_type": "code",
      "metadata": {
        "id": "He5Fw8DUHr1r"
      },
      "source": [
        ""
      ],
      "execution_count": null,
      "outputs": []
    }
  ]
}