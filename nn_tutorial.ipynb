{
  "nbformat": 4,
  "nbformat_minor": 0,
  "metadata": {
    "colab": {
      "name": "nn_tutorial.ipynb",
      "provenance": [],
      "collapsed_sections": [],
      "authorship_tag": "ABX9TyO+Zj9Om/kbOx40cXhs1I7Y",
      "include_colab_link": true
    },
    "kernelspec": {
      "name": "python3",
      "display_name": "Python 3"
    }
  },
  "cells": [
    {
      "cell_type": "markdown",
      "metadata": {
        "id": "view-in-github",
        "colab_type": "text"
      },
      "source": [
        "<a href=\"https://colab.research.google.com/github/kiitaamuuraa/Asobiba/blob/main/nn_tutorial.ipynb\" target=\"_parent\"><img src=\"https://colab.research.google.com/assets/colab-badge.svg\" alt=\"Open In Colab\"/></a>"
      ]
    },
    {
      "cell_type": "code",
      "metadata": {
        "id": "Dy-BRZtEGZnG"
      },
      "source": [
        "# MNIST data setup\n",
        "\n",
        "from pathlib import Path\n",
        "import requests\n",
        "\n",
        "DATA_PATH = Path(\"data\")\n",
        "PATH = DATA_PATH\n",
        "PATH.mkdir(parents=True, exist_ok=True)"
      ],
      "execution_count": 34,
      "outputs": []
    },
    {
      "cell_type": "code",
      "metadata": {
        "id": "V1pfwFFNIL7m"
      },
      "source": [
        "URL = \"https://github.com/pytorch/tutorials/raw/master/_static/\"\n",
        "FILENAME = \"mnist.pkl.gz\""
      ],
      "execution_count": 37,
      "outputs": []
    },
    {
      "cell_type": "code",
      "metadata": {
        "id": "Dib4gfvuITpx"
      },
      "source": [
        "if not (PATH / FILENAME).exists():\n",
        "        content = requests.get(URL + FILENAME).content\n",
        "        (PATH / FILENAME).open(\"wb\").write(content)"
      ],
      "execution_count": 38,
      "outputs": []
    },
    {
      "cell_type": "code",
      "metadata": {
        "colab": {
          "base_uri": "https://localhost:8080/"
        },
        "id": "fCaeXEtZKCge",
        "outputId": "5600afc3-9e13-40e7-93e8-b86d00a6f661"
      },
      "source": [
        "print(PATH / FILENAME)"
      ],
      "execution_count": 39,
      "outputs": [
        {
          "output_type": "stream",
          "text": [
            "data/mnist.pkl.gz\n"
          ],
          "name": "stdout"
        }
      ]
    },
    {
      "cell_type": "code",
      "metadata": {
        "colab": {
          "base_uri": "https://localhost:8080/"
        },
        "id": "9kBDUcgbKNFt",
        "outputId": "695a3ec9-b5f5-4ff8-8b37-99091807938c"
      },
      "source": [
        "Path(\"aaa\")/\"bbb\""
      ],
      "execution_count": 43,
      "outputs": [
        {
          "output_type": "execute_result",
          "data": {
            "text/plain": [
              "PosixPath('aaa/bbb')"
            ]
          },
          "metadata": {
            "tags": []
          },
          "execution_count": 43
        }
      ]
    },
    {
      "cell_type": "code",
      "metadata": {
        "id": "Fs0yrCPIKP_y"
      },
      "source": [
        "import pickle\n",
        "import gzip\n",
        "\n",
        "with gzip.open((PATH / FILENAME).as_posix(), 'rb') as f:\n",
        "    ((x_train, y_train), (x_valid, y_valid), _) = pickle.load(f, encoding= 'latin-1')"
      ],
      "execution_count": 46,
      "outputs": []
    },
    {
      "cell_type": "code",
      "metadata": {
        "colab": {
          "base_uri": "https://localhost:8080/"
        },
        "id": "G400UbyHMWDG",
        "outputId": "d32046d1-aa55-412e-c0b6-e0eaaccca716"
      },
      "source": [
        "x_train[0].shape, y_train[0].shape, x_valid[0].shape, y_valid[0].shape, len(x_train), len(x_valid)"
      ],
      "execution_count": 63,
      "outputs": [
        {
          "output_type": "execute_result",
          "data": {
            "text/plain": [
              "((784,), (), (784,), (), 50000, 10000)"
            ]
          },
          "metadata": {
            "tags": []
          },
          "execution_count": 63
        }
      ]
    },
    {
      "cell_type": "code",
      "metadata": {
        "colab": {
          "base_uri": "https://localhost:8080/"
        },
        "id": "Ps5yGe4bMxxe",
        "outputId": "27d102d4-ea70-4de0-b2a1-4edcd6836aa9"
      },
      "source": [
        "for i in range(5):\n",
        "    print(\"train :\", y_train[i], \"valid :\",y_valid[i])"
      ],
      "execution_count": 62,
      "outputs": [
        {
          "output_type": "stream",
          "text": [
            "train : 5 valid : 3\n",
            "train : 0 valid : 8\n",
            "train : 4 valid : 6\n",
            "train : 1 valid : 9\n",
            "train : 9 valid : 6\n"
          ],
          "name": "stdout"
        }
      ]
    },
    {
      "cell_type": "code",
      "metadata": {
        "colab": {
          "base_uri": "https://localhost:8080/"
        },
        "id": "092eyV5_Nm3C",
        "outputId": "383c7a7a-0db2-4af5-8393-4824cbec0c53"
      },
      "source": [
        "import collections\n",
        "\n",
        "collections.Counter(y_train), collections.Counter(y_valid)"
      ],
      "execution_count": 61,
      "outputs": [
        {
          "output_type": "execute_result",
          "data": {
            "text/plain": [
              "(Counter({0: 4932,\n",
              "          1: 5678,\n",
              "          2: 4968,\n",
              "          3: 5101,\n",
              "          4: 4859,\n",
              "          5: 4506,\n",
              "          6: 4951,\n",
              "          7: 5175,\n",
              "          8: 4842,\n",
              "          9: 4988}),\n",
              " Counter({0: 991,\n",
              "          1: 1064,\n",
              "          2: 990,\n",
              "          3: 1030,\n",
              "          4: 983,\n",
              "          5: 915,\n",
              "          6: 967,\n",
              "          7: 1090,\n",
              "          8: 1009,\n",
              "          9: 961}))"
            ]
          },
          "metadata": {
            "tags": []
          },
          "execution_count": 61
        }
      ]
    },
    {
      "cell_type": "code",
      "metadata": {
        "id": "pHmK1DavLgQc"
      },
      "source": [
        "from matplotlib import pyplot\n",
        "import numpy as np"
      ],
      "execution_count": 47,
      "outputs": []
    },
    {
      "cell_type": "code",
      "metadata": {
        "colab": {
          "base_uri": "https://localhost:8080/",
          "height": 282
        },
        "id": "8oSHIiEMMPIr",
        "outputId": "fbd71449-bd41-4fda-a017-656bed5797ae"
      },
      "source": [
        "import random\n",
        "pyplot.imshow(x_train[random.randint(0, len(x_train))].reshape((28, 28)), cmap=\"gray\")"
      ],
      "execution_count": 71,
      "outputs": [
        {
          "output_type": "execute_result",
          "data": {
            "text/plain": [
              "<matplotlib.image.AxesImage at 0x7f8748208048>"
            ]
          },
          "metadata": {
            "tags": []
          },
          "execution_count": 71
        },
        {
          "output_type": "display_data",
          "data": {
            "image/png": "[encoded data removed]",
            "text/plain": [
              "<Figure size 432x288 with 1 Axes>"
            ]
          },
          "metadata": {
            "tags": [],
            "needs_background": "light"
          }
        }
      ]
    },
    {
      "cell_type": "code",
      "metadata": {
        "colab": {
          "base_uri": "https://localhost:8080/"
        },
        "id": "TOzBzTxEODto",
        "outputId": "2e442f82-0662-4e9a-ba93-b5fcfe3c2b37"
      },
      "source": [
        "import torch\n",
        "\n",
        "x_train, y_train, x_valid, y_valid = map(torch.tensor, (x_train, y_train, x_valid, y_valid))\n",
        "n, c = x_train.shape\n",
        "x_train, x_train.shape, y_train.min(), y_train.max()\n",
        "print(x_train, y_train)\n",
        "print(x_train.shape)\n",
        "print(y_train.min(), y_train.max())"
      ],
      "execution_count": 72,
      "outputs": [
        {
          "output_type": "stream",
          "text": [
            "tensor([[0., 0., 0.,  ..., 0., 0., 0.],\n",
            "        [0., 0., 0.,  ..., 0., 0., 0.],\n",
            "        [0., 0., 0.,  ..., 0., 0., 0.],\n",
            "        ...,\n",
            "        [0., 0., 0.,  ..., 0., 0., 0.],\n",
            "        [0., 0., 0.,  ..., 0., 0., 0.],\n",
            "        [0., 0., 0.,  ..., 0., 0., 0.]]) tensor([5, 0, 4,  ..., 8, 4, 8])\n",
            "torch.Size([50000, 784])\n",
            "tensor(0) tensor(9)\n"
          ],
          "name": "stdout"
        }
      ]
    },
    {
      "cell_type": "code",
      "metadata": {
        "id": "XRNt4aIZO4h_"
      },
      "source": [
        "# Neural net from scratch (no torch.nn)\n",
        "import math\n",
        "\n",
        "weights = torch.randn(784, 10) / math.sqrt(784)\n",
        "weights.requires_grad_()\n",
        "bias = torch.zeros(10, requires_grad=True)"
      ],
      "execution_count": 78,
      "outputs": []
    },
    {
      "cell_type": "code",
      "metadata": {
        "id": "Gohv_2yhUCIF"
      },
      "source": [
        "def log_softmax(x):\n",
        "    return x - x.exp().sum(-1).log().unsqueeze(-1)"
      ],
      "execution_count": 96,
      "outputs": []
    },
    {
      "cell_type": "code",
      "metadata": {
        "id": "eajACveFUGJ-"
      },
      "source": [
        "x = np.random.random((3, 10, 2))"
      ],
      "execution_count": 109,
      "outputs": []
    },
    {
      "cell_type": "code",
      "metadata": {
        "colab": {
          "base_uri": "https://localhost:8080/"
        },
        "id": "q39MszuLUmb8",
        "outputId": "265f713d-959d-445b-c76c-454f32924db6"
      },
      "source": [
        "x"
      ],
      "execution_count": 110,
      "outputs": [
        {
          "output_type": "execute_result",
          "data": {
            "text/plain": [
              "array([[[0.61999871, 0.39315117],\n",
              "        [0.48447383, 0.07876068],\n",
              "        [0.79384069, 0.55629842],\n",
              "        [0.46721961, 0.84466117],\n",
              "        [0.34645565, 0.70454192],\n",
              "        [0.75525616, 0.8623781 ],\n",
              "        [0.49896878, 0.70062083],\n",
              "        [0.30753318, 0.23614878],\n",
              "        [0.85999991, 0.52545569],\n",
              "        [0.76020759, 0.00771405]],\n",
              "\n",
              "       [[0.0224088 , 0.13084131],\n",
              "        [0.82321125, 0.0839759 ],\n",
              "        [0.12215662, 0.12023145],\n",
              "        [0.53389313, 0.27260574],\n",
              "        [0.01242354, 0.01284786],\n",
              "        [0.69809554, 0.70719651],\n",
              "        [0.98543974, 0.21994602],\n",
              "        [0.06810236, 0.09692676],\n",
              "        [0.80405229, 0.81244345],\n",
              "        [0.66023099, 0.76472654]],\n",
              "\n",
              "       [[0.27085376, 0.88108128],\n",
              "        [0.80205326, 0.83025342],\n",
              "        [0.86256449, 0.97249086],\n",
              "        [0.50405068, 0.49792101],\n",
              "        [0.89116026, 0.29639506],\n",
              "        [0.03502777, 0.11893617],\n",
              "        [0.09705081, 0.82312269],\n",
              "        [0.8687833 , 0.96928069],\n",
              "        [0.19601659, 0.51728734],\n",
              "        [0.58131219, 0.02033689]]])"
            ]
          },
          "metadata": {
            "tags": []
          },
          "execution_count": 110
        }
      ]
    },
    {
      "cell_type": "code",
      "metadata": {
        "id": "dakxqkM1UoIF"
      },
      "source": [
        "x = torch.tensor(x)"
      ],
      "execution_count": 111,
      "outputs": []
    },
    {
      "cell_type": "code",
      "metadata": {
        "colab": {
          "base_uri": "https://localhost:8080/"
        },
        "id": "DFQEpTRVVAG1",
        "outputId": "581894e5-1a5d-4e79-b353-60515b5ad90a"
      },
      "source": [
        "x.exp()"
      ],
      "execution_count": 112,
      "outputs": [
        {
          "output_type": "execute_result",
          "data": {
            "text/plain": [
              "tensor([[[1.8589, 1.4816],\n",
              "         [1.6233, 1.0819],\n",
              "         [2.2119, 1.7442],\n",
              "         [1.5956, 2.3272],\n",
              "         [1.4140, 2.0229],\n",
              "         [2.1282, 2.3688],\n",
              "         [1.6470, 2.0150],\n",
              "         [1.3601, 1.2664],\n",
              "         [2.3632, 1.6912],\n",
              "         [2.1387, 1.0077]],\n",
              "\n",
              "        [[1.0227, 1.1398],\n",
              "         [2.2778, 1.0876],\n",
              "         [1.1299, 1.1278],\n",
              "         [1.7056, 1.3134],\n",
              "         [1.0125, 1.0129],\n",
              "         [2.0099, 2.0283],\n",
              "         [2.6790, 1.2460],\n",
              "         [1.0705, 1.1018],\n",
              "         [2.2346, 2.2534],\n",
              "         [1.9352, 2.1484]],\n",
              "\n",
              "        [[1.3111, 2.4135],\n",
              "         [2.2301, 2.2939],\n",
              "         [2.3692, 2.6445],\n",
              "         [1.6554, 1.6453],\n",
              "         [2.4380, 1.3450],\n",
              "         [1.0356, 1.1263],\n",
              "         [1.1019, 2.2776],\n",
              "         [2.3840, 2.6360],\n",
              "         [1.2165, 1.6775],\n",
              "         [1.7884, 1.0205]]], dtype=torch.float64)"
            ]
          },
          "metadata": {
            "tags": []
          },
          "execution_count": 112
        }
      ]
    },
    {
      "cell_type": "code",
      "metadata": {
        "colab": {
          "base_uri": "https://localhost:8080/"
        },
        "id": "kHjoNOx-VPQx",
        "outputId": "6821b757-ea69-4316-9503-ed8652be33fd"
      },
      "source": [
        "x.exp().sum(-1)"
      ],
      "execution_count": 115,
      "outputs": [
        {
          "output_type": "execute_result",
          "data": {
            "text/plain": [
              "tensor([[3.3406, 2.7053, 3.9561, 3.9227, 3.4370, 4.4969, 3.6620, 2.6264, 4.0544,\n",
              "         3.1465],\n",
              "        [2.1624, 3.3654, 2.2577, 3.0189, 2.0254, 4.0382, 3.9250, 2.1723, 4.4880,\n",
              "         4.0836],\n",
              "        [3.7246, 4.5240, 5.0138, 3.3007, 3.7830, 2.1619, 3.3795, 5.0201, 2.8940,\n",
              "         2.8089]], dtype=torch.float64)"
            ]
          },
          "metadata": {
            "tags": []
          },
          "execution_count": 115
        }
      ]
    },
    {
      "cell_type": "code",
      "metadata": {
        "colab": {
          "base_uri": "https://localhost:8080/"
        },
        "id": "yLWGeDVEXFl5",
        "outputId": "57133884-aab3-405b-d979-fc7e6131ee1c"
      },
      "source": [
        "x.exp().sum()"
      ],
      "execution_count": 116,
      "outputs": [
        {
          "output_type": "execute_result",
          "data": {
            "text/plain": [
              "tensor(103.4954, dtype=torch.float64)"
            ]
          },
          "metadata": {
            "tags": []
          },
          "execution_count": 116
        }
      ]
    },
    {
      "cell_type": "code",
      "metadata": {
        "colab": {
          "base_uri": "https://localhost:8080/"
        },
        "id": "9roDiLUSXIoR",
        "outputId": "5594b487-f12a-40e1-bc0c-44ac85890c46"
      },
      "source": [
        "x.exp().sum(-1).log().unsqueeze(-1)"
      ],
      "execution_count": 121,
      "outputs": [
        {
          "output_type": "execute_result",
          "data": {
            "text/plain": [
              "tensor([[[1.2061],\n",
              "         [0.9952],\n",
              "         [1.3753],\n",
              "         [1.3668],\n",
              "         [1.2346],\n",
              "         [1.5034],\n",
              "         [1.2980],\n",
              "         [0.9656],\n",
              "         [1.3998],\n",
              "         [1.1463]],\n",
              "\n",
              "        [[0.7712],\n",
              "         [1.2135],\n",
              "         [0.8143],\n",
              "         [1.1049],\n",
              "         [0.7058],\n",
              "         [1.3958],\n",
              "         [1.3674],\n",
              "         [0.7758],\n",
              "         [1.5014],\n",
              "         [1.4070]],\n",
              "\n",
              "        [[1.3150],\n",
              "         [1.5094],\n",
              "         [1.6122],\n",
              "         [1.1941],\n",
              "         [1.3305],\n",
              "         [0.7710],\n",
              "         [1.2177],\n",
              "         [1.6134],\n",
              "         [1.0626],\n",
              "         [1.0328]]], dtype=torch.float64)"
            ]
          },
          "metadata": {
            "tags": []
          },
          "execution_count": 121
        }
      ]
    },
    {
      "cell_type": "code",
      "metadata": {
        "colab": {
          "base_uri": "https://localhost:8080/"
        },
        "id": "FOm4w-HAXNph",
        "outputId": "d6efd1ad-c85d-44cb-aa17-518f68ced443"
      },
      "source": [
        "x.exp().sum(-1).log()"
      ],
      "execution_count": 123,
      "outputs": [
        {
          "output_type": "execute_result",
          "data": {
            "text/plain": [
              "tensor([[1.2061, 0.9952, 1.3753, 1.3668, 1.2346, 1.5034, 1.2980, 0.9656, 1.3998,\n",
              "         1.1463],\n",
              "        [0.7712, 1.2135, 0.8143, 1.1049, 0.7058, 1.3958, 1.3674, 0.7758, 1.5014,\n",
              "         1.4070],\n",
              "        [1.3150, 1.5094, 1.6122, 1.1941, 1.3305, 0.7710, 1.2177, 1.6134, 1.0626,\n",
              "         1.0328]], dtype=torch.float64)"
            ]
          },
          "metadata": {
            "tags": []
          },
          "execution_count": 123
        }
      ]
    },
    {
      "cell_type": "code",
      "metadata": {
        "id": "Djt623XDXxcq"
      },
      "source": [
        "def model(xb):\n",
        "    return log_softmax(xb @ weights + bias)"
      ],
      "execution_count": 124,
      "outputs": []
    },
    {
      "cell_type": "code",
      "metadata": {
        "colab": {
          "base_uri": "https://localhost:8080/"
        },
        "id": "Nfq_jO2sYRvE",
        "outputId": "3ef53be8-01da-4151-930d-e791a626a54d"
      },
      "source": [
        "bs = 64  # batch size\n",
        "\n",
        "xb = x_train[0:bs]  # a mini-batch from x\n",
        "preds = model(xb)  # predictions\n",
        "preds[0], preds.shape\n",
        "print(preds[0], preds.shape)"
      ],
      "execution_count": 125,
      "outputs": [
        {
          "output_type": "stream",
          "text": [
            "tensor([-2.7920, -1.8481, -2.2636, -2.3227, -2.0658, -2.5632, -2.1233, -2.4534,\n",
            "        -2.3312, -2.6228], grad_fn=<SelectBackward>) torch.Size([64, 10])\n"
          ],
          "name": "stdout"
        }
      ]
    },
    {
      "cell_type": "code",
      "metadata": {
        "colab": {
          "base_uri": "https://localhost:8080/"
        },
        "id": "_TY_xUsCYYKJ",
        "outputId": "e91ab07e-82a7-4a3f-e102-d4d27246dc2a"
      },
      "source": [
        "xb.shape"
      ],
      "execution_count": 126,
      "outputs": [
        {
          "output_type": "execute_result",
          "data": {
            "text/plain": [
              "torch.Size([64, 784])"
            ]
          },
          "metadata": {
            "tags": []
          },
          "execution_count": 126
        }
      ]
    },
    {
      "cell_type": "code",
      "metadata": {
        "colab": {
          "base_uri": "https://localhost:8080/"
        },
        "id": "x2gx7yICYZzJ",
        "outputId": "adea0cee-578d-4964-9596-ce5ad39b82ec"
      },
      "source": [
        "(xb @ weights).shape, bias.shape"
      ],
      "execution_count": 130,
      "outputs": [
        {
          "output_type": "execute_result",
          "data": {
            "text/plain": [
              "(torch.Size([64, 10]), torch.Size([10]))"
            ]
          },
          "metadata": {
            "tags": []
          },
          "execution_count": 130
        }
      ]
    },
    {
      "cell_type": "code",
      "metadata": {
        "colab": {
          "base_uri": "https://localhost:8080/"
        },
        "id": "ToQ0vAypYi1I",
        "outputId": "dcc8a03a-6c8b-4b30-dec3-41634cefae83"
      },
      "source": [
        "(xb @ weights + bias).shape"
      ],
      "execution_count": 132,
      "outputs": [
        {
          "output_type": "execute_result",
          "data": {
            "text/plain": [
              "torch.Size([64, 10])"
            ]
          },
          "metadata": {
            "tags": []
          },
          "execution_count": 132
        }
      ]
    },
    {
      "cell_type": "code",
      "metadata": {
        "colab": {
          "base_uri": "https://localhost:8080/"
        },
        "id": "U5EmTDUVYuRA",
        "outputId": "a6d34826-5216-4e00-93be-f49ced64162a"
      },
      "source": [
        "bias"
      ],
      "execution_count": 133,
      "outputs": [
        {
          "output_type": "execute_result",
          "data": {
            "text/plain": [
              "tensor([0., 0., 0., 0., 0., 0., 0., 0., 0., 0.], requires_grad=True)"
            ]
          },
          "metadata": {
            "tags": []
          },
          "execution_count": 133
        }
      ]
    },
    {
      "cell_type": "code",
      "metadata": {
        "id": "4vIvjSEFYyU2"
      },
      "source": [
        "def nll(input, target):\n",
        "    return -input[range(target.shape[0]), target].mean()\n",
        "\n",
        "loss_func = nll"
      ],
      "execution_count": 136,
      "outputs": []
    },
    {
      "cell_type": "code",
      "metadata": {
        "colab": {
          "base_uri": "https://localhost:8080/"
        },
        "id": "anTUlhFdZTWj",
        "outputId": "b06ccd57-c14f-4356-e844-547829418f50"
      },
      "source": [
        "yb = y_train[0:bs]\n",
        "print(loss_func(preds, yb))"
      ],
      "execution_count": 139,
      "outputs": [
        {
          "output_type": "stream",
          "text": [
            "tensor(2.3957, grad_fn=<NegBackward>)\n"
          ],
          "name": "stdout"
        }
      ]
    },
    {
      "cell_type": "code",
      "metadata": {
        "id": "O4hLwmoKZT9H"
      },
      "source": [
        "def accuracy(out, yb):\n",
        "    preds = torch.argmax(out, dim=1)\n",
        "    return (preds == yb).float().mean()"
      ],
      "execution_count": 140,
      "outputs": []
    },
    {
      "cell_type": "code",
      "metadata": {
        "colab": {
          "base_uri": "https://localhost:8080/"
        },
        "id": "g3ebWQC7fIoJ",
        "outputId": "3c98fbae-7381-4bb8-984b-7c2cabf3e9eb"
      },
      "source": [
        "print(accuracy(preds, yb))"
      ],
      "execution_count": 141,
      "outputs": [
        {
          "output_type": "stream",
          "text": [
            "tensor(0.1094)\n"
          ],
          "name": "stdout"
        }
      ]
    },
    {
      "cell_type": "code",
      "metadata": {
        "colab": {
          "base_uri": "https://localhost:8080/"
        },
        "id": "Uu_p1phufQuJ",
        "outputId": "94c10a0e-c621-4380-f8d9-32bb9b2412ed"
      },
      "source": [
        " torch.argmax(preds, dim=1)"
      ],
      "execution_count": 143,
      "outputs": [
        {
          "output_type": "execute_result",
          "data": {
            "text/plain": [
              "tensor([1, 1, 1, 1, 8, 4, 4, 1, 4, 9, 4, 9, 1, 9, 4, 1, 9, 7, 1, 6, 8, 1, 9, 1,\n",
              "        9, 9, 1, 9, 5, 9, 1, 5, 1, 9, 9, 9, 1, 9, 9, 9, 4, 2, 1, 0, 1, 1, 1, 9,\n",
              "        9, 2, 5, 9, 5, 1, 4, 9, 8, 9, 1, 1, 9, 1, 9, 9])"
            ]
          },
          "metadata": {
            "tags": []
          },
          "execution_count": 143
        }
      ]
    },
    {
      "cell_type": "code",
      "metadata": {
        "colab": {
          "base_uri": "https://localhost:8080/"
        },
        "id": "1E08m3NsfR_z",
        "outputId": "201b7648-a30d-4f43-fdd0-e063931a5ec2"
      },
      "source": [
        "yb"
      ],
      "execution_count": 144,
      "outputs": [
        {
          "output_type": "execute_result",
          "data": {
            "text/plain": [
              "tensor([5, 0, 4, 1, 9, 2, 1, 3, 1, 4, 3, 5, 3, 6, 1, 7, 2, 8, 6, 9, 4, 0, 9, 1,\n",
              "        1, 2, 4, 3, 2, 7, 3, 8, 6, 9, 0, 5, 6, 0, 7, 6, 1, 8, 7, 9, 3, 9, 8, 5,\n",
              "        9, 3, 3, 0, 7, 4, 9, 8, 0, 9, 4, 1, 4, 4, 6, 0])"
            ]
          },
          "metadata": {
            "tags": []
          },
          "execution_count": 144
        }
      ]
    },
    {
      "cell_type": "code",
      "metadata": {
        "id": "txRmgsAlf83y"
      },
      "source": [
        "ans = (yb== torch.argmax(preds, dim=1))"
      ],
      "execution_count": 146,
      "outputs": []
    },
    {
      "cell_type": "code",
      "metadata": {
        "colab": {
          "base_uri": "https://localhost:8080/",
          "height": 167
        },
        "id": "6bhsE8wrgBj6",
        "outputId": "38679d37-2652-4624-8401-697d719cceef"
      },
      "source": [
        ""
      ],
      "execution_count": 149,
      "outputs": [
        {
          "output_type": "error",
          "ename": "AttributeError",
          "evalue": "ignored",
          "traceback": [
            "\u001b[0;31m---------------------------------------------------------------------------\u001b[0m",
            "\u001b[0;31mAttributeError\u001b[0m                            Traceback (most recent call last)",
            "\u001b[0;32m<ipython-input-149-5b19a844058e>\u001b[0m in \u001b[0;36m<module>\u001b[0;34m()\u001b[0m\n\u001b[0;32m----> 1\u001b[0;31m \u001b[0mans\u001b[0m\u001b[0;34m.\u001b[0m\u001b[0mtolist\u001b[0m\u001b[0;34m(\u001b[0m\u001b[0;34m)\u001b[0m\u001b[0;34m.\u001b[0m\u001b[0mcounter\u001b[0m\u001b[0;34m(\u001b[0m\u001b[0;34m)\u001b[0m\u001b[0;34m\u001b[0m\u001b[0;34m\u001b[0m\u001b[0m\n\u001b[0m",
            "\u001b[0;31mAttributeError\u001b[0m: 'list' object has no attribute 'counter'"
          ]
        }
      ]
    },
    {
      "cell_type": "code",
      "metadata": {
        "colab": {
          "base_uri": "https://localhost:8080/"
        },
        "id": "070NTNxigHZr",
        "outputId": "6e6ac0f5-f716-49b1-e738-dcc5e9a3059b"
      },
      "source": [
        "collections.Counter(ans.tolist())"
      ],
      "execution_count": 155,
      "outputs": [
        {
          "output_type": "execute_result",
          "data": {
            "text/plain": [
              "Counter({False: 57, True: 7})"
            ]
          },
          "metadata": {
            "tags": []
          },
          "execution_count": 155
        }
      ]
    },
    {
      "cell_type": "code",
      "metadata": {
        "colab": {
          "base_uri": "https://localhost:8080/"
        },
        "id": "w7BLK6zNgcR5",
        "outputId": "dc39a0e0-d303-4da6-e166-3d8c1cb7bd34"
      },
      "source": [
        "collections.Counter(yb.tolist())"
      ],
      "execution_count": 156,
      "outputs": [
        {
          "output_type": "execute_result",
          "data": {
            "text/plain": [
              "Counter({0: 7, 1: 8, 2: 4, 3: 8, 4: 8, 5: 4, 6: 6, 7: 5, 8: 5, 9: 9})"
            ]
          },
          "metadata": {
            "tags": []
          },
          "execution_count": 156
        }
      ]
    },
    {
      "cell_type": "code",
      "metadata": {
        "colab": {
          "base_uri": "https://localhost:8080/"
        },
        "id": "oC3yxaa5gms0",
        "outputId": "ea12990a-e75c-4737-b1a1-893b992df22e"
      },
      "source": [
        "collections.Counter(torch.argmax(preds, dim=1).tolist())"
      ],
      "execution_count": 153,
      "outputs": [
        {
          "output_type": "execute_result",
          "data": {
            "text/plain": [
              "Counter({0: 1, 1: 22, 2: 2, 4: 7, 5: 4, 6: 1, 7: 1, 8: 3, 9: 23})"
            ]
          },
          "metadata": {
            "tags": []
          },
          "execution_count": 153
        }
      ]
    },
    {
      "cell_type": "code",
      "metadata": {
        "colab": {
          "base_uri": "https://localhost:8080/"
        },
        "id": "MKgOw1mCgtZZ",
        "outputId": "d8a2e410-1fca-4d48-f064-15e6f2a3bb44"
      },
      "source": [
        "len(yb)"
      ],
      "execution_count": 154,
      "outputs": [
        {
          "output_type": "execute_result",
          "data": {
            "text/plain": [
              "64"
            ]
          },
          "metadata": {
            "tags": []
          },
          "execution_count": 154
        }
      ]
    },
    {
      "cell_type": "code",
      "metadata": {
        "id": "wUNl1E-ygx0j"
      },
      "source": [
        ""
      ],
      "execution_count": null,
      "outputs": []
    }
  ]
}