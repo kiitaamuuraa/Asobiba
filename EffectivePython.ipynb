{
  "nbformat": 4,
  "nbformat_minor": 0,
  "metadata": {
    "colab": {
      "name": "EffectivePython.ipynb",
      "provenance": [],
      "authorship_tag": "ABX9TyM7UybBy6gGIkWfPMxM67Hs",
      "include_colab_link": true
    },
    "kernelspec": {
      "name": "python3",
      "display_name": "Python 3"
    },
    "language_info": {
      "name": "python"
    }
  },
  "cells": [
    {
      "cell_type": "markdown",
      "metadata": {
        "id": "view-in-github",
        "colab_type": "text"
      },
      "source": [
        "<a href=\"https://colab.research.google.com/github/kiitaamuuraa/Asobiba/blob/main/EffectivePython.ipynb\" target=\"_parent\"><img src=\"https://colab.research.google.com/assets/colab-badge.svg\" alt=\"Open In Colab\"/></a>"
      ]
    },
    {
      "cell_type": "code",
      "metadata": {
        "id": "N9c-QOX8KfhE"
      },
      "source": [
        ""
      ],
      "execution_count": null,
      "outputs": []
    },
    {
      "cell_type": "markdown",
      "metadata": {
        "id": "W7Ea3jdKKofu"
      },
      "source": [
        "## 項目4 Cスタイルフォーマット文字列とstr.formatは使わずf文字列で埋め込む"
      ]
    },
    {
      "cell_type": "code",
      "metadata": {
        "colab": {
          "base_uri": "https://localhost:8080/"
        },
        "id": "FARghOrsKret",
        "outputId": "a78a6eab-794a-4732-ed88-b85206870679"
      },
      "source": [
        "key = 'my_var'\n",
        "value = 1.234\n",
        "formatted = f'{key} = {value}'\n",
        "print(formatted)"
      ],
      "execution_count": 1,
      "outputs": [
        {
          "output_type": "stream",
          "text": [
            "my_var = 1.234\n"
          ],
          "name": "stdout"
        }
      ]
    },
    {
      "cell_type": "code",
      "metadata": {
        "colab": {
          "base_uri": "https://localhost:8080/"
        },
        "id": "UItHP8baKzJb",
        "outputId": "02bbcd95-956f-43eb-be2a-2bbdb36c4f19"
      },
      "source": [
        "places = 2 #3, 4, 5とかに変えてみる\n",
        "number = 1.23456\n",
        "print(f'My number is {number:.{places}f}')"
      ],
      "execution_count": 5,
      "outputs": [
        {
          "output_type": "stream",
          "text": [
            "My number is 1.23\n"
          ],
          "name": "stdout"
        }
      ]
    },
    {
      "cell_type": "code",
      "metadata": {
        "colab": {
          "base_uri": "https://localhost:8080/"
        },
        "id": "h8l4qVW2K9wu",
        "outputId": "1528a391-4e9c-4043-907c-5cca6c01c451"
      },
      "source": [
        "a = list()\n",
        "if not a:\n",
        "    print(\"oo\")"
      ],
      "execution_count": 10,
      "outputs": [
        {
          "output_type": "stream",
          "text": [
            "oo\n"
          ],
          "name": "stdout"
        }
      ]
    },
    {
      "cell_type": "markdown",
      "metadata": {
        "id": "lgY-NwpnWFKM"
      },
      "source": [
        "## 項目13　スライスではなくcatch-allアンパックを使う\n"
      ]
    },
    {
      "cell_type": "code",
      "metadata": {
        "id": "E3dBk20eLFnF"
      },
      "source": [
        "car_ages = [0, 9, 4, 8, 7, 20, 19, 1, 6, 15]\n",
        "car_ages_descending = sorted(car_ages, reverse=True)\n"
      ],
      "execution_count": 2,
      "outputs": []
    },
    {
      "cell_type": "code",
      "metadata": {
        "colab": {
          "base_uri": "https://localhost:8080/",
          "height": 164
        },
        "id": "dEM0TCuVLxA5",
        "outputId": "cadf45ee-a8f8-4213-cdb1-8fad8308069b"
      },
      "source": [
        "oldest, second_oldest = car_ages_descending # これはエラーがでる"
      ],
      "execution_count": 3,
      "outputs": [
        {
          "output_type": "error",
          "ename": "ValueError",
          "evalue": "ignored",
          "traceback": [
            "\u001b[0;31m---------------------------------------------------------------------------\u001b[0m",
            "\u001b[0;31mValueError\u001b[0m                                Traceback (most recent call last)",
            "\u001b[0;32m<ipython-input-3-55724f31e50f>\u001b[0m in \u001b[0;36m<module>\u001b[0;34m()\u001b[0m\n\u001b[0;32m----> 1\u001b[0;31m \u001b[0moldest\u001b[0m\u001b[0;34m,\u001b[0m \u001b[0msecond_oldest\u001b[0m \u001b[0;34m=\u001b[0m \u001b[0mcar_ages_descending\u001b[0m \u001b[0;31m# これはエラーがでる\u001b[0m\u001b[0;34m\u001b[0m\u001b[0;34m\u001b[0m\u001b[0m\n\u001b[0m",
            "\u001b[0;31mValueError\u001b[0m: too many values to unpack (expected 2)"
          ]
        }
      ]
    },
    {
      "cell_type": "code",
      "metadata": {
        "id": "mRd-gBnJWOGT"
      },
      "source": [
        "oldest, second_oldest, *other = car_ages_descending # これがcatch all"
      ],
      "execution_count": 5,
      "outputs": []
    },
    {
      "cell_type": "code",
      "metadata": {
        "colab": {
          "base_uri": "https://localhost:8080/"
        },
        "id": "DdE5QCZUWRd4",
        "outputId": "4f882470-9bb7-4a22-ed91-17ebb09d3e31"
      },
      "source": [
        "other"
      ],
      "execution_count": 7,
      "outputs": [
        {
          "output_type": "execute_result",
          "data": {
            "text/plain": [
              "[15, 9, 8, 7, 6, 4, 1, 0]"
            ]
          },
          "metadata": {
            "tags": []
          },
          "execution_count": 7
        }
      ]
    },
    {
      "cell_type": "markdown",
      "metadata": {
        "id": "F9JfqemkgHD0"
      },
      "source": [
        "## 項目14 key引数を使い複雑な基準でソートする\n"
      ]
    },
    {
      "cell_type": "code",
      "metadata": {
        "id": "TLscCJwxWU55"
      },
      "source": [
        "class Tool:\n",
        "    def __init__(self, name, weight):\n",
        "        self.name = name\n",
        "        self.weight = weight\n",
        "\n",
        "    def __repr__(self):\n",
        "        return f'Tool({self.name!r}, {self.weight})'\n"
      ],
      "execution_count": 9,
      "outputs": []
    },
    {
      "cell_type": "code",
      "metadata": {
        "id": "SIQcbRJtgOLr"
      },
      "source": [
        "tools = [\n",
        "         Tool('level', 3.5),\n",
        "         Tool('hammer', 1.25),\n",
        "         Tool('screwdriver', 0.5),\n",
        "         Tool('chisel', 0.25),\n",
        "        ]"
      ],
      "execution_count": 10,
      "outputs": []
    },
    {
      "cell_type": "code",
      "metadata": {
        "colab": {
          "base_uri": "https://localhost:8080/",
          "height": 164
        },
        "id": "5yc38OrwganP",
        "outputId": "1b0e91ff-9f25-47c5-bc6f-b3be77421ccc"
      },
      "source": [
        "tools.sort() #できない"
      ],
      "execution_count": 11,
      "outputs": [
        {
          "output_type": "error",
          "ename": "TypeError",
          "evalue": "ignored",
          "traceback": [
            "\u001b[0;31m---------------------------------------------------------------------------\u001b[0m",
            "\u001b[0;31mTypeError\u001b[0m                                 Traceback (most recent call last)",
            "\u001b[0;32m<ipython-input-11-934c749d7824>\u001b[0m in \u001b[0;36m<module>\u001b[0;34m()\u001b[0m\n\u001b[0;32m----> 1\u001b[0;31m \u001b[0mtools\u001b[0m\u001b[0;34m.\u001b[0m\u001b[0msort\u001b[0m\u001b[0;34m(\u001b[0m\u001b[0;34m)\u001b[0m\u001b[0;34m\u001b[0m\u001b[0;34m\u001b[0m\u001b[0m\n\u001b[0m",
            "\u001b[0;31mTypeError\u001b[0m: '<' not supported between instances of 'Tool' and 'Tool'"
          ]
        }
      ]
    },
    {
      "cell_type": "code",
      "metadata": {
        "colab": {
          "base_uri": "https://localhost:8080/"
        },
        "id": "nO9g0dVfgdiS",
        "outputId": "8192af6d-9f0d-4f9e-d6f4-689c88be3196"
      },
      "source": [
        "tools.sort(key = lambda x: x.weight)\n",
        "tools"
      ],
      "execution_count": 15,
      "outputs": [
        {
          "output_type": "execute_result",
          "data": {
            "text/plain": [
              "[Tool('chisel', 0.25),\n",
              " Tool('screwdriver', 0.5),\n",
              " Tool('hammer', 1.25),\n",
              " Tool('level', 3.5)]"
            ]
          },
          "metadata": {
            "tags": []
          },
          "execution_count": 15
        }
      ]
    },
    {
      "cell_type": "code",
      "metadata": {
        "colab": {
          "base_uri": "https://localhost:8080/"
        },
        "id": "gydq51TviEVZ",
        "outputId": "89dd7c80-e854-4cf1-dffe-54a854d36af3"
      },
      "source": [
        "tools.sort(key = lambda x: x.name)\n",
        "tools"
      ],
      "execution_count": 16,
      "outputs": [
        {
          "output_type": "execute_result",
          "data": {
            "text/plain": [
              "[Tool('chisel', 0.25),\n",
              " Tool('hammer', 1.25),\n",
              " Tool('level', 3.5),\n",
              " Tool('screwdriver', 0.5)]"
            ]
          },
          "metadata": {
            "tags": []
          },
          "execution_count": 16
        }
      ]
    },
    {
      "cell_type": "markdown",
      "metadata": {
        "id": "tyAb4nC9is2r"
      },
      "source": [
        "## 項目75　出力のデバッグにはrepr文字列を使う\n",
        "よく出てくるので先にやる  \n",
        "組み込み関数reprは、オブジェクトの出力可能な表現を\n",
        "返すので、その最も明確に理解可能な文字列表現であるはず"
      ]
    },
    {
      "cell_type": "code",
      "metadata": {
        "id": "od_hqOFMiUdw"
      },
      "source": [
        "class BetterClass:\n",
        "    def __init__(self, x, y):\n",
        "        self.x = x\n",
        "        self.y = y\n",
        "\n",
        "    # __repr__消すと変わる\n",
        "    def __repr__(self):\n",
        "        return f'BetterClass({self.x!r}, {self.y!r})'"
      ],
      "execution_count": 30,
      "outputs": []
    },
    {
      "cell_type": "code",
      "metadata": {
        "id": "RTjqknTGjBT_"
      },
      "source": [
        "obj = BetterClass(1, 'bar')"
      ],
      "execution_count": 27,
      "outputs": []
    },
    {
      "cell_type": "code",
      "metadata": {
        "colab": {
          "base_uri": "https://localhost:8080/"
        },
        "id": "5ehJDrGojHSf",
        "outputId": "247225d5-091d-4ee0-f8c3-ca819228a349"
      },
      "source": [
        "print(obj)"
      ],
      "execution_count": 31,
      "outputs": [
        {
          "output_type": "stream",
          "text": [
            "BetterClass(1, 'bar')\n"
          ],
          "name": "stdout"
        }
      ]
    },
    {
      "cell_type": "code",
      "metadata": {
        "id": "-zEDa1mJjIln"
      },
      "source": [
        ""
      ],
      "execution_count": 30,
      "outputs": []
    }
  ]
}