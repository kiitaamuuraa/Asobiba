{
  "nbformat": 4,
  "nbformat_minor": 0,
  "metadata": {
    "colab": {
      "name": "EffectivePython.ipynb",
      "provenance": [],
      "authorship_tag": "ABX9TyPM1amCTY24bamFlDQFHxRx",
      "include_colab_link": true
    },
    "kernelspec": {
      "name": "python3",
      "display_name": "Python 3"
    },
    "language_info": {
      "name": "python"
    }
  },
  "cells": [
    {
      "cell_type": "markdown",
      "metadata": {
        "id": "view-in-github",
        "colab_type": "text"
      },
      "source": [
        "<a href=\"https://colab.research.google.com/github/kiitaamuuraa/Asobiba/blob/main/EffectivePython.ipynb\" target=\"_parent\"><img src=\"https://colab.research.google.com/assets/colab-badge.svg\" alt=\"Open In Colab\"/></a>"
      ]
    },
    {
      "cell_type": "code",
      "metadata": {
        "id": "N9c-QOX8KfhE"
      },
      "source": [
        ""
      ],
      "execution_count": null,
      "outputs": []
    },
    {
      "cell_type": "markdown",
      "metadata": {
        "id": "W7Ea3jdKKofu"
      },
      "source": [
        "## 項目4 Cスタイルフォーマット文字列とstr.formatは使わずf文字列で埋め込む"
      ]
    },
    {
      "cell_type": "code",
      "metadata": {
        "colab": {
          "base_uri": "https://localhost:8080/"
        },
        "id": "FARghOrsKret",
        "outputId": "a78a6eab-794a-4732-ed88-b85206870679"
      },
      "source": [
        "key = 'my_var'\n",
        "value = 1.234\n",
        "formatted = f'{key} = {value}'\n",
        "print(formatted)"
      ],
      "execution_count": 1,
      "outputs": [
        {
          "output_type": "stream",
          "text": [
            "my_var = 1.234\n"
          ],
          "name": "stdout"
        }
      ]
    },
    {
      "cell_type": "code",
      "metadata": {
        "colab": {
          "base_uri": "https://localhost:8080/"
        },
        "id": "UItHP8baKzJb",
        "outputId": "02bbcd95-956f-43eb-be2a-2bbdb36c4f19"
      },
      "source": [
        "places = 2 #3, 4, 5とかに変えてみる\n",
        "number = 1.23456\n",
        "print(f'My number is {number:.{places}f}')"
      ],
      "execution_count": 5,
      "outputs": [
        {
          "output_type": "stream",
          "text": [
            "My number is 1.23\n"
          ],
          "name": "stdout"
        }
      ]
    },
    {
      "cell_type": "code",
      "metadata": {
        "colab": {
          "base_uri": "https://localhost:8080/"
        },
        "id": "h8l4qVW2K9wu",
        "outputId": "1528a391-4e9c-4043-907c-5cca6c01c451"
      },
      "source": [
        "a = list()\n",
        "if not a:\n",
        "    print(\"oo\")"
      ],
      "execution_count": 10,
      "outputs": [
        {
          "output_type": "stream",
          "text": [
            "oo\n"
          ],
          "name": "stdout"
        }
      ]
    },
    {
      "cell_type": "markdown",
      "metadata": {
        "id": "TpPJoe-Jx4zJ"
      },
      "source": [
        "## 項目10　代入式で繰り返しを防ぐ"
      ]
    },
    {
      "cell_type": "code",
      "metadata": {
        "id": "KEmwxkLSx6Lp"
      },
      "source": [
        "fresh_fruit = {\n",
        "               'apple': 10,\n",
        "               'banana': 8,\n",
        "               'lemon': 5,\n",
        "               }\n",
        "\n",
        "def make_lemonade(count):\n",
        "    print(f\"make_lemonade: {count}\") # Cスタイルフォーマット文字列とstr.formatは使わずf文字列で埋め込む\n",
        "\n",
        "def out_of_stock():\n",
        "    print(\"out_of_stock\")"
      ],
      "execution_count": 61,
      "outputs": []
    },
    {
      "cell_type": "code",
      "metadata": {
        "colab": {
          "base_uri": "https://localhost:8080/"
        },
        "id": "u9RoaWTZx5mX",
        "outputId": "c0f9c819-308e-42bf-8237-94d45bb00508"
      },
      "source": [
        "count = fresh_fruit.get('banana', 0)\n",
        "if count:\n",
        "    make_lemonade(count)\n",
        "else:\n",
        "    out_of_stock()\n",
        "# この単純に見えるコードの問題点は、必要以上に読みにくいことです。\n",
        "# 読みにくいのか？"
      ],
      "execution_count": 63,
      "outputs": [
        {
          "output_type": "stream",
          "text": [
            "make_lemonade: 8\n"
          ],
          "name": "stdout"
        }
      ]
    },
    {
      "cell_type": "code",
      "metadata": {
        "colab": {
          "base_uri": "https://localhost:8080/",
          "height": 35
        },
        "id": "lOSQnsJI0AGf",
        "outputId": "50eb0c04-ad45-48f7-d545-f08bd4022da4"
      },
      "source": [
        "import sys\n",
        "sys.version"
      ],
      "execution_count": 72,
      "outputs": [
        {
          "output_type": "execute_result",
          "data": {
            "application/vnd.google.colaboratory.intrinsic+json": {
              "type": "string"
            },
            "text/plain": [
              "'3.7.10 (default, May  3 2021, 02:48:31) \\n[GCC 7.5.0]'"
            ]
          },
          "metadata": {
            "tags": []
          },
          "execution_count": 72
        }
      ]
    },
    {
      "cell_type": "code",
      "metadata": {
        "colab": {
          "base_uri": "https://localhost:8080/",
          "height": 130
        },
        "id": "AVFedqfRz7Yz",
        "outputId": "118125a3-1c74-4f64-9c7c-f55267a18d55"
      },
      "source": [
        "if count := fresh_fruit.get('lemon', 0):\n",
        "        # ^\n",
        "        # SyntaxError: invalid syntax <- Colabのpythonはまだ3.7\n",
        "    make_lemonade(count)\n",
        "else:\n",
        "    out_of_stock()"
      ],
      "execution_count": 73,
      "outputs": [
        {
          "output_type": "error",
          "ename": "SyntaxError",
          "evalue": "ignored",
          "traceback": [
            "\u001b[0;36m  File \u001b[0;32m\"<ipython-input-73-a268d6fd3598>\"\u001b[0;36m, line \u001b[0;32m1\u001b[0m\n\u001b[0;31m    if count := fresh_fruit.get('lemon', 0):\u001b[0m\n\u001b[0m              ^\u001b[0m\n\u001b[0;31mSyntaxError\u001b[0m\u001b[0;31m:\u001b[0m invalid syntax\n"
          ]
        }
      ]
    },
    {
      "cell_type": "markdown",
      "metadata": {
        "id": "lgY-NwpnWFKM"
      },
      "source": [
        "## 項目13　スライスではなくcatch-allアンパックを使う\n"
      ]
    },
    {
      "cell_type": "code",
      "metadata": {
        "id": "E3dBk20eLFnF"
      },
      "source": [
        "car_ages = [0, 9, 4, 8, 7, 20, 19, 1, 6, 15]\n",
        "car_ages_descending = sorted(car_ages, reverse=True)\n"
      ],
      "execution_count": 2,
      "outputs": []
    },
    {
      "cell_type": "code",
      "metadata": {
        "colab": {
          "base_uri": "https://localhost:8080/",
          "height": 164
        },
        "id": "dEM0TCuVLxA5",
        "outputId": "cadf45ee-a8f8-4213-cdb1-8fad8308069b"
      },
      "source": [
        "oldest, second_oldest = car_ages_descending # これはエラーがでる"
      ],
      "execution_count": 3,
      "outputs": [
        {
          "output_type": "error",
          "ename": "ValueError",
          "evalue": "ignored",
          "traceback": [
            "\u001b[0;31m---------------------------------------------------------------------------\u001b[0m",
            "\u001b[0;31mValueError\u001b[0m                                Traceback (most recent call last)",
            "\u001b[0;32m<ipython-input-3-55724f31e50f>\u001b[0m in \u001b[0;36m<module>\u001b[0;34m()\u001b[0m\n\u001b[0;32m----> 1\u001b[0;31m \u001b[0moldest\u001b[0m\u001b[0;34m,\u001b[0m \u001b[0msecond_oldest\u001b[0m \u001b[0;34m=\u001b[0m \u001b[0mcar_ages_descending\u001b[0m \u001b[0;31m# これはエラーがでる\u001b[0m\u001b[0;34m\u001b[0m\u001b[0;34m\u001b[0m\u001b[0m\n\u001b[0m",
            "\u001b[0;31mValueError\u001b[0m: too many values to unpack (expected 2)"
          ]
        }
      ]
    },
    {
      "cell_type": "code",
      "metadata": {
        "id": "mRd-gBnJWOGT"
      },
      "source": [
        "oldest, second_oldest, *other = car_ages_descending # これがcatch all"
      ],
      "execution_count": 5,
      "outputs": []
    },
    {
      "cell_type": "code",
      "metadata": {
        "colab": {
          "base_uri": "https://localhost:8080/"
        },
        "id": "DdE5QCZUWRd4",
        "outputId": "4f882470-9bb7-4a22-ed91-17ebb09d3e31"
      },
      "source": [
        "other"
      ],
      "execution_count": 7,
      "outputs": [
        {
          "output_type": "execute_result",
          "data": {
            "text/plain": [
              "[15, 9, 8, 7, 6, 4, 1, 0]"
            ]
          },
          "metadata": {
            "tags": []
          },
          "execution_count": 7
        }
      ]
    },
    {
      "cell_type": "markdown",
      "metadata": {
        "id": "F9JfqemkgHD0"
      },
      "source": [
        "## 項目14 key引数を使い複雑な基準でソートする\n"
      ]
    },
    {
      "cell_type": "code",
      "metadata": {
        "id": "TLscCJwxWU55"
      },
      "source": [
        "class Tool:\n",
        "    def __init__(self, name, weight):\n",
        "        self.name = name\n",
        "        self.weight = weight\n",
        "\n",
        "    def __repr__(self):\n",
        "        return f'Tool({self.name!r}, {self.weight})'\n"
      ],
      "execution_count": 9,
      "outputs": []
    },
    {
      "cell_type": "code",
      "metadata": {
        "id": "SIQcbRJtgOLr"
      },
      "source": [
        "tools = [\n",
        "         Tool('level', 3.5),\n",
        "         Tool('hammer', 1.25),\n",
        "         Tool('screwdriver', 0.5),\n",
        "         Tool('chisel', 0.25),\n",
        "        ]"
      ],
      "execution_count": 10,
      "outputs": []
    },
    {
      "cell_type": "code",
      "metadata": {
        "colab": {
          "base_uri": "https://localhost:8080/",
          "height": 164
        },
        "id": "5yc38OrwganP",
        "outputId": "1b0e91ff-9f25-47c5-bc6f-b3be77421ccc"
      },
      "source": [
        "tools.sort() #できない"
      ],
      "execution_count": 11,
      "outputs": [
        {
          "output_type": "error",
          "ename": "TypeError",
          "evalue": "ignored",
          "traceback": [
            "\u001b[0;31m---------------------------------------------------------------------------\u001b[0m",
            "\u001b[0;31mTypeError\u001b[0m                                 Traceback (most recent call last)",
            "\u001b[0;32m<ipython-input-11-934c749d7824>\u001b[0m in \u001b[0;36m<module>\u001b[0;34m()\u001b[0m\n\u001b[0;32m----> 1\u001b[0;31m \u001b[0mtools\u001b[0m\u001b[0;34m.\u001b[0m\u001b[0msort\u001b[0m\u001b[0;34m(\u001b[0m\u001b[0;34m)\u001b[0m\u001b[0;34m\u001b[0m\u001b[0;34m\u001b[0m\u001b[0m\n\u001b[0m",
            "\u001b[0;31mTypeError\u001b[0m: '<' not supported between instances of 'Tool' and 'Tool'"
          ]
        }
      ]
    },
    {
      "cell_type": "code",
      "metadata": {
        "colab": {
          "base_uri": "https://localhost:8080/"
        },
        "id": "nO9g0dVfgdiS",
        "outputId": "8192af6d-9f0d-4f9e-d6f4-689c88be3196"
      },
      "source": [
        "tools.sort(key = lambda x: x.weight)\n",
        "tools"
      ],
      "execution_count": 15,
      "outputs": [
        {
          "output_type": "execute_result",
          "data": {
            "text/plain": [
              "[Tool('chisel', 0.25),\n",
              " Tool('screwdriver', 0.5),\n",
              " Tool('hammer', 1.25),\n",
              " Tool('level', 3.5)]"
            ]
          },
          "metadata": {
            "tags": []
          },
          "execution_count": 15
        }
      ]
    },
    {
      "cell_type": "code",
      "metadata": {
        "colab": {
          "base_uri": "https://localhost:8080/"
        },
        "id": "gydq51TviEVZ",
        "outputId": "89dd7c80-e854-4cf1-dffe-54a854d36af3"
      },
      "source": [
        "tools.sort(key = lambda x: x.name)\n",
        "tools"
      ],
      "execution_count": 16,
      "outputs": [
        {
          "output_type": "execute_result",
          "data": {
            "text/plain": [
              "[Tool('chisel', 0.25),\n",
              " Tool('hammer', 1.25),\n",
              " Tool('level', 3.5),\n",
              " Tool('screwdriver', 0.5)]"
            ]
          },
          "metadata": {
            "tags": []
          },
          "execution_count": 16
        }
      ]
    },
    {
      "cell_type": "markdown",
      "metadata": {
        "id": "Z6R9iG4IQ84V"
      },
      "source": [
        "## 項目17　内部状態の欠損要素を扱うにはsetdefaultではなくdefaultdictを使う"
      ]
    },
    {
      "cell_type": "code",
      "metadata": {
        "id": "m-TpP0jURBK7"
      },
      "source": [
        "visits = {\n",
        "        'Mexico': {'Tulum', 'Puerto Vallarta'},\n",
        "        'Japan': {'Hakone'},\n",
        "        }"
      ],
      "execution_count": 4,
      "outputs": []
    },
    {
      "cell_type": "code",
      "metadata": {
        "colab": {
          "base_uri": "https://localhost:8080/"
        },
        "id": "VoFTM6X_Ridv",
        "outputId": "336fc688-cacf-4262-d07a-4ec7f1b0979a"
      },
      "source": [
        "visits.setdefault('France', set()).add('Arles') \n",
        "print(visits)\n",
        "_ = visits.pop('France')"
      ],
      "execution_count": 12,
      "outputs": [
        {
          "output_type": "stream",
          "text": [
            "{'Mexico': {'Tulum', 'Puerto Vallarta'}, 'Japan': {'Hakone'}, 'France': {'Arles'}}\n"
          ],
          "name": "stdout"
        }
      ]
    },
    {
      "cell_type": "code",
      "metadata": {
        "colab": {
          "base_uri": "https://localhost:8080/"
        },
        "id": "gOINEgnVSD_-",
        "outputId": "aad4d295-8b2a-4cdd-e023-0bf8c53a4e9b"
      },
      "source": [
        "visits.setdefault('France', {'Arles'}) \n",
        "print(visits)\n",
        "_ = visits.pop('France')"
      ],
      "execution_count": 14,
      "outputs": [
        {
          "output_type": "stream",
          "text": [
            "{'Mexico': {'Tulum', 'Puerto Vallarta'}, 'Japan': {'Hakone'}, 'France': {'Arles'}}\n"
          ],
          "name": "stdout"
        }
      ]
    },
    {
      "cell_type": "code",
      "metadata": {
        "colab": {
          "base_uri": "https://localhost:8080/"
        },
        "id": "bEoyo4s6SyJh",
        "outputId": "28b0092a-299d-4aa0-b351-0079938b2b8e"
      },
      "source": [
        "from collections import defaultdict\n",
        "init_100 = lambda : int(100)\n",
        "d = defaultdict(init_100)\n",
        "print(d)\n",
        "d['test'] \n",
        "d"
      ],
      "execution_count": 32,
      "outputs": [
        {
          "output_type": "stream",
          "text": [
            "defaultdict(<function <lambda> at 0x7fe165735ef0>, {})\n"
          ],
          "name": "stdout"
        },
        {
          "output_type": "execute_result",
          "data": {
            "text/plain": [
              "defaultdict(<function __main__.<lambda>>, {'test': 100})"
            ]
          },
          "metadata": {
            "tags": []
          },
          "execution_count": 32
        }
      ]
    },
    {
      "cell_type": "markdown",
      "metadata": {
        "id": "tyAb4nC9is2r"
      },
      "source": [
        "## 項目75　出力のデバッグにはrepr文字列を使う\n",
        "よく出てくるので先にやる  \n",
        "組み込み関数reprは、オブジェクトの出力可能な表現を\n",
        "返すので、その最も明確に理解可能な文字列表現であるはず"
      ]
    },
    {
      "cell_type": "code",
      "metadata": {
        "id": "od_hqOFMiUdw"
      },
      "source": [
        "class BetterClass:\n",
        "    def __init__(self, x, y):\n",
        "        self.x = x\n",
        "        self.y = y\n",
        "\n",
        "    # __repr__消すと変わる\n",
        "    def __repr__(self):\n",
        "        return f'BetterClass({self.x!r}, {self.y!r})'"
      ],
      "execution_count": 30,
      "outputs": []
    },
    {
      "cell_type": "code",
      "metadata": {
        "id": "RTjqknTGjBT_"
      },
      "source": [
        "obj = BetterClass(1, 'bar')"
      ],
      "execution_count": 27,
      "outputs": []
    },
    {
      "cell_type": "code",
      "metadata": {
        "colab": {
          "base_uri": "https://localhost:8080/"
        },
        "id": "5ehJDrGojHSf",
        "outputId": "247225d5-091d-4ee0-f8c3-ca819228a349"
      },
      "source": [
        "print(obj)"
      ],
      "execution_count": 31,
      "outputs": [
        {
          "output_type": "stream",
          "text": [
            "BetterClass(1, 'bar')\n"
          ],
          "name": "stdout"
        }
      ]
    },
    {
      "cell_type": "markdown",
      "metadata": {
        "id": "U6X4zqkatxbI"
      },
      "source": [
        "## 項目16　辞書の欠損キーの処理にはinやKeyErrorではなくgetを使う"
      ]
    },
    {
      "cell_type": "code",
      "metadata": {
        "id": "-zEDa1mJjIln"
      },
      "source": [
        "counters = {\n",
        "            'pumpernickel': 2,\n",
        "            'sourdough': 1,\n",
        "            }\n"
      ],
      "execution_count": 7,
      "outputs": []
    },
    {
      "cell_type": "markdown",
      "metadata": {
        "id": "dhYoxB8yv44P"
      },
      "source": [
        "### inではなく"
      ]
    },
    {
      "cell_type": "code",
      "metadata": {
        "colab": {
          "base_uri": "https://localhost:8080/"
        },
        "id": "jdGncNNOt4sO",
        "outputId": "01df1e3c-bf05-47f7-d538-0d8598dd1257"
      },
      "source": [
        "key = 'wheat' # 欠損キー\n",
        "if key in counters:\n",
        "    count = counters[key]\n",
        "else:\n",
        "    count = 0\n",
        "counters[key] = count + 1\n",
        "\n",
        "print(counters)\n",
        "counters.pop('wheat')"
      ],
      "execution_count": 28,
      "outputs": [
        {
          "output_type": "stream",
          "text": [
            "{'pumpernickel': 2, 'sourdough': 1, 'wheat': 1}\n"
          ],
          "name": "stdout"
        },
        {
          "output_type": "execute_result",
          "data": {
            "text/plain": [
              "1"
            ]
          },
          "metadata": {
            "tags": []
          },
          "execution_count": 28
        }
      ]
    },
    {
      "cell_type": "markdown",
      "metadata": {
        "id": "Av9Ct5yev7Z4"
      },
      "source": [
        "### KeyErrorでもなく"
      ]
    },
    {
      "cell_type": "code",
      "metadata": {
        "colab": {
          "base_uri": "https://localhost:8080/"
        },
        "id": "GCUjXPSot9rP",
        "outputId": "7e06df1c-b1ee-4cb4-9ef9-c269f6ad2362"
      },
      "source": [
        "key = 'wheat' # 欠損キー\n",
        "try:\n",
        "    count = counters[key]\n",
        "except KeyError:\n",
        "    count = 0\n",
        "\n",
        "counters[key] = count + 1\n",
        "print(counters)\n",
        "counters.pop('wheat')"
      ],
      "execution_count": 29,
      "outputs": [
        {
          "output_type": "stream",
          "text": [
            "{'pumpernickel': 2, 'sourdough': 1, 'wheat': 1}\n"
          ],
          "name": "stdout"
        },
        {
          "output_type": "execute_result",
          "data": {
            "text/plain": [
              "1"
            ]
          },
          "metadata": {
            "tags": []
          },
          "execution_count": 29
        }
      ]
    },
    {
      "cell_type": "markdown",
      "metadata": {
        "id": "Ai1l1rcuwAXb"
      },
      "source": [
        "### getを使う"
      ]
    },
    {
      "cell_type": "code",
      "metadata": {
        "colab": {
          "base_uri": "https://localhost:8080/"
        },
        "id": "uQy38V8_udzq",
        "outputId": "080006d0-d5e8-4d8d-9b22-9b522ce43508"
      },
      "source": [
        "count = counters.get(key, 0)\n",
        "counters[key] = count + 1\n",
        "print(counters)\n",
        "counters.pop('wheat')"
      ],
      "execution_count": 38,
      "outputs": [
        {
          "output_type": "stream",
          "text": [
            "{'pumpernickel': 2, 'sourdough': 1, 'wheat': 1}\n"
          ],
          "name": "stdout"
        },
        {
          "output_type": "execute_result",
          "data": {
            "text/plain": [
              "1"
            ]
          },
          "metadata": {
            "tags": []
          },
          "execution_count": 38
        }
      ]
    },
    {
      "cell_type": "code",
      "metadata": {
        "colab": {
          "base_uri": "https://localhost:8080/"
        },
        "id": "UiCer7sjvw2s",
        "outputId": "92b0a1e4-90b4-4d87-e476-1ff2a1a3f477"
      },
      "source": [
        "count = counters.get('sourdough', 0)\n",
        "count"
      ],
      "execution_count": 41,
      "outputs": [
        {
          "output_type": "execute_result",
          "data": {
            "text/plain": [
              "1"
            ]
          },
          "metadata": {
            "tags": []
          },
          "execution_count": 41
        }
      ]
    },
    {
      "cell_type": "code",
      "metadata": {
        "id": "EbkjRTjqwTan"
      },
      "source": [
        ""
      ],
      "execution_count": null,
      "outputs": []
    }
  ]
}