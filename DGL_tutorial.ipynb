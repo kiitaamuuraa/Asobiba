{
  "nbformat": 4,
  "nbformat_minor": 0,
  "metadata": {
    "colab": {
      "name": "DGL_tutorial.ipynb",
      "provenance": [],
      "authorship_tag": "ABX9TyMkgmpywshMJNGDVIek0SHQ",
      "include_colab_link": true
    },
    "kernelspec": {
      "name": "python3",
      "display_name": "Python 3"
    },
    "language_info": {
      "name": "python"
    },
    "accelerator": "GPU"
  },
  "cells": [
    {
      "cell_type": "markdown",
      "metadata": {
        "id": "view-in-github",
        "colab_type": "text"
      },
      "source": [
        "<a href=\"https://colab.research.google.com/github/kiitaamuuraa/Asobiba/blob/main/DGL_tutorial.ipynb\" target=\"_parent\"><img src=\"https://colab.research.google.com/assets/colab-badge.svg\" alt=\"Open In Colab\"/></a>"
      ]
    },
    {
      "cell_type": "markdown",
      "metadata": {
        "id": "x6uIUFV6xBKW"
      },
      "source": [
        "# はじめに\n",
        "[A Blitz Introduction to DGL](https://docs.dgl.ai/tutorials/blitz/index.html) を一気にやって、GNNの実装面の基礎固めをする。8/3/2021に開始\n"
      ]
    },
    {
      "cell_type": "markdown",
      "metadata": {
        "id": "GGTFDVhiTZ3S"
      },
      "source": [
        "# 00. インストール"
      ]
    },
    {
      "cell_type": "code",
      "metadata": {
        "colab": {
          "base_uri": "https://localhost:8080/"
        },
        "id": "9YDX5UzwRBQr",
        "outputId": "bf9ae712-6399-4933-c151-7f4463044af5"
      },
      "source": [
        "!nvidia-smi"
      ],
      "execution_count": 1,
      "outputs": [
        {
          "output_type": "stream",
          "text": [
            "Wed Aug  4 14:28:17 2021       \n",
            "+-----------------------------------------------------------------------------+\n",
            "| NVIDIA-SMI 470.42.01    Driver Version: 460.32.03    CUDA Version: 11.2     |\n",
            "|-------------------------------+----------------------+----------------------+\n",
            "| GPU  Name        Persistence-M| Bus-Id        Disp.A | Volatile Uncorr. ECC |\n",
            "| Fan  Temp  Perf  Pwr:Usage/Cap|         Memory-Usage | GPU-Util  Compute M. |\n",
            "|                               |                      |               MIG M. |\n",
            "|===============================+======================+======================|\n",
            "|   0  Tesla T4            Off  | 00000000:00:04.0 Off |                    0 |\n",
            "| N/A   43C    P8    10W /  70W |      0MiB / 15109MiB |      0%      Default |\n",
            "|                               |                      |                  N/A |\n",
            "+-------------------------------+----------------------+----------------------+\n",
            "                                                                               \n",
            "+-----------------------------------------------------------------------------+\n",
            "| Processes:                                                                  |\n",
            "|  GPU   GI   CI        PID   Type   Process name                  GPU Memory |\n",
            "|        ID   ID                                                   Usage      |\n",
            "|=============================================================================|\n",
            "|  No running processes found                                                 |\n",
            "+-----------------------------------------------------------------------------+\n"
          ],
          "name": "stdout"
        }
      ]
    },
    {
      "cell_type": "code",
      "metadata": {
        "colab": {
          "base_uri": "https://localhost:8080/"
        },
        "id": "m7FPLCflRWqf",
        "outputId": "71a88109-0375-4498-a713-faab193eb373"
      },
      "source": [
        "# CUDA のバージョンを見てDGLを落とすこと\n",
        "!pip install dgl-cu111 -f https://data.dgl.ai/wheels/repo.html"
      ],
      "execution_count": 2,
      "outputs": [
        {
          "output_type": "stream",
          "text": [
            "Looking in links: https://data.dgl.ai/wheels/repo.html\n",
            "Collecting dgl-cu111\n",
            "  Downloading https://data.dgl.ai/wheels/dgl_cu111-0.7.0-cp37-cp37m-manylinux1_x86_64.whl (164.0 MB)\n",
            "\u001b[K     |████████████████████████████████| 164.0 MB 233 bytes/s \n",
            "\u001b[?25hRequirement already satisfied: numpy>=1.14.0 in /usr/local/lib/python3.7/dist-packages (from dgl-cu111) (1.19.5)\n",
            "Requirement already satisfied: networkx>=2.1 in /usr/local/lib/python3.7/dist-packages (from dgl-cu111) (2.5.1)\n",
            "Requirement already satisfied: requests>=2.19.0 in /usr/local/lib/python3.7/dist-packages (from dgl-cu111) (2.23.0)\n",
            "Requirement already satisfied: scipy>=1.1.0 in /usr/local/lib/python3.7/dist-packages (from dgl-cu111) (1.4.1)\n",
            "Requirement already satisfied: decorator<5,>=4.3 in /usr/local/lib/python3.7/dist-packages (from networkx>=2.1->dgl-cu111) (4.4.2)\n",
            "Requirement already satisfied: idna<3,>=2.5 in /usr/local/lib/python3.7/dist-packages (from requests>=2.19.0->dgl-cu111) (2.10)\n",
            "Requirement already satisfied: chardet<4,>=3.0.2 in /usr/local/lib/python3.7/dist-packages (from requests>=2.19.0->dgl-cu111) (3.0.4)\n",
            "Requirement already satisfied: certifi>=2017.4.17 in /usr/local/lib/python3.7/dist-packages (from requests>=2.19.0->dgl-cu111) (2021.5.30)\n",
            "Requirement already satisfied: urllib3!=1.25.0,!=1.25.1,<1.26,>=1.21.1 in /usr/local/lib/python3.7/dist-packages (from requests>=2.19.0->dgl-cu111) (1.24.3)\n",
            "Installing collected packages: dgl-cu111\n",
            "Successfully installed dgl-cu111-0.7.0\n"
          ],
          "name": "stdout"
        }
      ]
    },
    {
      "cell_type": "markdown",
      "metadata": {
        "id": "N_HLHo08Tisr"
      },
      "source": [
        "# 01. [Node Classification with DGL](https://docs.dgl.ai/tutorials/blitz/1_introduction.html#sphx-glr-tutorials-blitz-1-introduction-py)\n",
        "\n",
        "始めのチュートリアルなので少し丁寧に記入している"
      ]
    },
    {
      "cell_type": "markdown",
      "metadata": {
        "id": "zNfq3FTVWgxw"
      },
      "source": [
        "## モジュールのインポート"
      ]
    },
    {
      "cell_type": "code",
      "metadata": {
        "colab": {
          "base_uri": "https://localhost:8080/"
        },
        "id": "6DdFoOFcTYZt",
        "outputId": "8e4401a4-a5a4-4654-9dbf-b1929170c503"
      },
      "source": [
        "import dgl\n",
        "import dgl.data\n",
        "\n",
        "import torch\n",
        "import torch.nn as nn\n",
        "import torch.nn.functional as F"
      ],
      "execution_count": 3,
      "outputs": [
        {
          "output_type": "stream",
          "text": [
            "DGL backend not selected or invalid.  Assuming PyTorch for now.\n"
          ],
          "name": "stderr"
        },
        {
          "output_type": "stream",
          "text": [
            "Setting the default backend to \"pytorch\". You can change it in the ~/.dgl/config.json file or export the DGLBACKEND environment variable.  Valid options are: pytorch, mxnet, tensorflow (all lowercase)\n"
          ],
          "name": "stdout"
        },
        {
          "output_type": "stream",
          "text": [
            "Using backend: pytorch\n"
          ],
          "name": "stderr"
        }
      ]
    },
    {
      "cell_type": "markdown",
      "metadata": {
        "id": "YNzccXlvWlMd"
      },
      "source": [
        "## データセットの読み込み"
      ]
    },
    {
      "cell_type": "code",
      "metadata": {
        "colab": {
          "base_uri": "https://localhost:8080/"
        },
        "id": "wKY8VeffTYWy",
        "outputId": "de0fdd58-4e93-470a-9855-81f2cdf394c6"
      },
      "source": [
        "dataset = dgl.data.CoraGraphDataset()"
      ],
      "execution_count": 4,
      "outputs": [
        {
          "output_type": "stream",
          "text": [
            "Downloading /root/.dgl/cora_v2.zip from https://data.dgl.ai/dataset/cora_v2.zip...\n",
            "Extracting file to /root/.dgl/cora_v2\n",
            "Finished data loading and preprocessing.\n",
            "  NumNodes: 2708\n",
            "  NumEdges: 10556\n",
            "  NumFeats: 1433\n",
            "  NumClasses: 7\n",
            "  NumTrainingSamples: 140\n",
            "  NumValidationSamples: 500\n",
            "  NumTestSamples: 1000\n",
            "Done saving data into cached files.\n"
          ],
          "name": "stdout"
        }
      ]
    },
    {
      "cell_type": "code",
      "metadata": {
        "colab": {
          "base_uri": "https://localhost:8080/"
        },
        "id": "ocM-EuyhTYUI",
        "outputId": "0be958b1-5c49-44a7-ae9f-e8b66c995ad5"
      },
      "source": [
        "g = dataset[0]\n",
        "g.to('cuda')"
      ],
      "execution_count": 68,
      "outputs": [
        {
          "output_type": "execute_result",
          "data": {
            "text/plain": [
              "Graph(num_nodes=2708, num_edges=10556,\n",
              "      ndata_schemes={'train_mask': Scheme(shape=(), dtype=torch.bool), 'val_mask': Scheme(shape=(), dtype=torch.bool), 'test_mask': Scheme(shape=(), dtype=torch.bool), 'label': Scheme(shape=(), dtype=torch.int64), 'feat': Scheme(shape=(1433,), dtype=torch.float32)}\n",
              "      edata_schemes={})"
            ]
          },
          "metadata": {
            "tags": []
          },
          "execution_count": 68
        }
      ]
    },
    {
      "cell_type": "markdown",
      "metadata": {
        "id": "yGbRAJsykkcX"
      },
      "source": [
        "### CORA データセットについて\n",
        "* 論文の参照関係のグラフ\n",
        "* ノード特徴は1,433次元のBoW（One-Hot表現）\n",
        "* ノード数は2,708（論文数）\n",
        "```python \n",
        "g.ndata['feat'].shape  # torch.Size([2708, 1433])\n",
        "```\n",
        "* リンク数は5,429\n",
        "\n"
      ]
    },
    {
      "cell_type": "markdown",
      "metadata": {
        "id": "5Y2-WhsPTL1Q"
      },
      "source": [
        "### APPENDIX 他にどんなデータセットある???"
      ]
    },
    {
      "cell_type": "code",
      "metadata": {
        "colab": {
          "base_uri": "https://localhost:8080/"
        },
        "id": "-99aPU59TTxV",
        "outputId": "d8322da5-a0ed-4c48-a5f0-61fee3f9805c"
      },
      "source": [
        "dir(dgl.data)"
      ],
      "execution_count": 138,
      "outputs": [
        {
          "output_type": "execute_result",
          "data": {
            "text/plain": [
              "['AIFBDataset',\n",
              " 'AMDataset',\n",
              " 'AmazonCoBuy',\n",
              " 'AmazonCoBuyComputerDataset',\n",
              " 'AmazonCoBuyPhotoDataset',\n",
              " 'BGSDataset',\n",
              " 'BitcoinOTC',\n",
              " 'BitcoinOTCDataset',\n",
              " 'CitationGraphDataset',\n",
              " 'CiteseerGraphDataset',\n",
              " 'Coauthor',\n",
              " 'CoauthorCSDataset',\n",
              " 'CoauthorPhysicsDataset',\n",
              " 'CoraBinary',\n",
              " 'CoraFull',\n",
              " 'CoraFullDataset',\n",
              " 'CoraGraphDataset',\n",
              " 'DGLBuiltinDataset',\n",
              " 'DGLDataset',\n",
              " 'FB15k237Dataset',\n",
              " 'FB15kDataset',\n",
              " 'FakeNewsDataset',\n",
              " 'FraudAmazonDataset',\n",
              " 'FraudDataset',\n",
              " 'FraudYelpDataset',\n",
              " 'GDELT',\n",
              " 'GDELTDataset',\n",
              " 'GINDataset',\n",
              " 'ICEWS18',\n",
              " 'ICEWS18Dataset',\n",
              " 'KarateClub',\n",
              " 'KarateClubDataset',\n",
              " 'LegacyPPIDataset',\n",
              " 'LegacyTUDataset',\n",
              " 'MUTAGDataset',\n",
              " 'MiniGCDataset',\n",
              " 'PPIDataset',\n",
              " 'PubmedGraphDataset',\n",
              " 'QM7b',\n",
              " 'QM7bDataset',\n",
              " 'QM9',\n",
              " 'QM9Dataset',\n",
              " 'QM9Edge',\n",
              " 'QM9EdgeDataset',\n",
              " 'RedditDataset',\n",
              " 'SBMMixture',\n",
              " 'SBMMixtureDataset',\n",
              " 'SST',\n",
              " 'SSTDataset',\n",
              " 'Subset',\n",
              " 'TUDataset',\n",
              " 'WN18Dataset',\n",
              " '__builtins__',\n",
              " '__cached__',\n",
              " '__doc__',\n",
              " '__file__',\n",
              " '__loader__',\n",
              " '__name__',\n",
              " '__package__',\n",
              " '__path__',\n",
              " '__spec__',\n",
              " 'absolute_import',\n",
              " 'bitcoinotc',\n",
              " 'check_sha1',\n",
              " 'citation_graph',\n",
              " 'citegrh',\n",
              " 'dgl_dataset',\n",
              " 'download',\n",
              " 'extract_archive',\n",
              " 'fakenews',\n",
              " 'fraud',\n",
              " 'gdelt',\n",
              " 'get_download_dir',\n",
              " 'gindt',\n",
              " 'gnn_benchmark',\n",
              " 'graph_serialize',\n",
              " 'heterograph_serialize',\n",
              " 'icews18',\n",
              " 'karate',\n",
              " 'knowledge_graph',\n",
              " 'load_data',\n",
              " 'load_graphs',\n",
              " 'load_labels',\n",
              " 'load_tensors',\n",
              " 'loadtxt',\n",
              " 'minigc',\n",
              " 'ppi',\n",
              " 'qm7b',\n",
              " 'qm9',\n",
              " 'qm9_edge',\n",
              " 'rdf',\n",
              " 'reddit',\n",
              " 'register_data_args',\n",
              " 'save_graphs',\n",
              " 'save_tensors',\n",
              " 'sbm',\n",
              " 'split_dataset',\n",
              " 'tensor_serialize',\n",
              " 'tree',\n",
              " 'tu',\n",
              " 'utils']"
            ]
          },
          "metadata": {
            "tags": []
          },
          "execution_count": 138
        }
      ]
    },
    {
      "cell_type": "code",
      "metadata": {
        "colab": {
          "base_uri": "https://localhost:8080/",
          "height": 248
        },
        "id": "j_5r2EKinaVo",
        "outputId": "430cf49e-e250-4feb-c52d-dffad4b5171f"
      },
      "source": [
        "import networkx as nx\n",
        "g_nx = g.to_networkx()\n",
        "nx.draw_networkx(g_nx)"
      ],
      "execution_count": 74,
      "outputs": [
        {
          "output_type": "display_data",
          "data": {
            "image/png": "[encoded data removed]",
            "text/plain": [
              "<Figure size 432x288 with 1 Axes>"
            ]
          },
          "metadata": {
            "tags": []
          }
        }
      ]
    },
    {
      "cell_type": "code",
      "metadata": {
        "colab": {
          "base_uri": "https://localhost:8080/"
        },
        "id": "HQOOCfmyTYSG",
        "outputId": "8b8c9b0f-06dd-441b-8047-98f536bc4989"
      },
      "source": [
        "print('Node features')\n",
        "print(g.ndata)\n",
        "print('Edge features')\n",
        "print(g.edata)"
      ],
      "execution_count": 34,
      "outputs": [
        {
          "output_type": "stream",
          "text": [
            "Node features\n",
            "{'train_mask': tensor([False, False, False,  ..., False, False, False]), 'val_mask': tensor([False, False,  True,  ..., False, False, False]), 'test_mask': tensor([ True,  True, False,  ..., False, False, False]), 'label': tensor([4, 4, 4,  ..., 4, 3, 3]), 'feat': tensor([[0.0000, 0.0000, 0.0000,  ..., 0.0000, 0.0000, 0.0000],\n",
            "        [0.0000, 0.0000, 0.0000,  ..., 0.0000, 0.0000, 0.0000],\n",
            "        [0.0000, 0.0000, 0.0000,  ..., 0.0000, 0.0000, 0.0000],\n",
            "        ...,\n",
            "        [0.0000, 0.0000, 0.0000,  ..., 0.0000, 0.0000, 0.0000],\n",
            "        [0.0000, 0.0000, 0.0000,  ..., 0.0000, 0.0000, 0.0000],\n",
            "        [0.0000, 0.0000, 0.0000,  ..., 0.0000, 0.0526, 0.0000]])}\n",
            "Edge features\n",
            "{}\n"
          ],
          "name": "stdout"
        }
      ]
    },
    {
      "cell_type": "code",
      "metadata": {
        "colab": {
          "base_uri": "https://localhost:8080/"
        },
        "id": "khrVDgDuTYPB",
        "outputId": "21d2e473-b7bf-4f2f-a136-c45d76639021"
      },
      "source": [
        "for k in g.ndata.keys():\n",
        "    print(f'{k}: type is {type(g.ndata[k])} \\n\\tshape is {g.ndata[k].shape}')"
      ],
      "execution_count": 19,
      "outputs": [
        {
          "output_type": "stream",
          "text": [
            "train_mask: type is <class 'torch.Tensor'> \n",
            "\tshape is torch.Size([2708])\n",
            "val_mask: type is <class 'torch.Tensor'> \n",
            "\tshape is torch.Size([2708])\n",
            "test_mask: type is <class 'torch.Tensor'> \n",
            "\tshape is torch.Size([2708])\n",
            "label: type is <class 'torch.Tensor'> \n",
            "\tshape is torch.Size([2708])\n",
            "feat: type is <class 'torch.Tensor'> \n",
            "\tshape is torch.Size([2708, 1433])\n"
          ],
          "name": "stdout"
        }
      ]
    },
    {
      "cell_type": "code",
      "metadata": {
        "colab": {
          "base_uri": "https://localhost:8080/"
        },
        "id": "qnI4URWTpwMa",
        "outputId": "31388aed-eac7-4661-fbc6-ed02f71fed79"
      },
      "source": [
        "g.ndata['train_mask'].sum(), g.ndata['val_mask'].sum(), g.ndata['test_mask'].sum()"
      ],
      "execution_count": 22,
      "outputs": [
        {
          "output_type": "execute_result",
          "data": {
            "text/plain": [
              "(tensor(140), tensor(500), tensor(1000))"
            ]
          },
          "metadata": {
            "tags": []
          },
          "execution_count": 22
        }
      ]
    },
    {
      "cell_type": "markdown",
      "metadata": {
        "id": "e5kAplVzWdCS"
      },
      "source": [
        "## 二層のGCN作成"
      ]
    },
    {
      "cell_type": "code",
      "metadata": {
        "id": "_9HmycglTYJk"
      },
      "source": [
        "from dgl.nn import GraphConv"
      ],
      "execution_count": 38,
      "outputs": []
    },
    {
      "cell_type": "code",
      "metadata": {
        "id": "aGRS7fCmTYGn"
      },
      "source": [
        "class GCN(nn.Module):\n",
        "    def __init__(self, in_feats, h_feats, num_classes):\n",
        "        super(GCN, self).__init__()\n",
        "        self.conv1 = GraphConv(in_feats, h_feats)\n",
        "        self.conv2 = GraphConv(h_feats, num_classes)\n",
        "\n",
        "    def forward(self, g, in_feat):\n",
        "        h = self.conv1(g, in_feat)\n",
        "        h = F.relu(h)\n",
        "        h = self.conv2(g, h)\n",
        "        return h\n",
        "        "
      ],
      "execution_count": 54,
      "outputs": []
    },
    {
      "cell_type": "code",
      "metadata": {
        "colab": {
          "base_uri": "https://localhost:8080/"
        },
        "id": "1cDWhemIaovY",
        "outputId": "b10048a7-90b6-4fd7-f851-31830a3aab55"
      },
      "source": [
        "model = GCN(g.ndata['feat'].shape[1], 16, dataset.num_classes)\n",
        "model.cuda()"
      ],
      "execution_count": 71,
      "outputs": [
        {
          "output_type": "execute_result",
          "data": {
            "text/plain": [
              "GCN(\n",
              "  (conv1): GraphConv(in=1433, out=16, normalization=both, activation=None)\n",
              "  (conv2): GraphConv(in=16, out=7, normalization=both, activation=None)\n",
              ")"
            ]
          },
          "metadata": {
            "tags": []
          },
          "execution_count": 71
        }
      ]
    },
    {
      "cell_type": "code",
      "metadata": {
        "colab": {
          "base_uri": "https://localhost:8080/"
        },
        "id": "H7JIQ6P3tYux",
        "outputId": "f70cd5aa-1b6a-4e2e-8073-e4ab98a40b44"
      },
      "source": [
        "features = g.ndata['feat']\n",
        "labels = g.ndata['label']\n",
        "logits = model(g, features)\n",
        "logits.shape"
      ],
      "execution_count": 58,
      "outputs": [
        {
          "output_type": "execute_result",
          "data": {
            "text/plain": [
              "torch.Size([2708, 7])"
            ]
          },
          "metadata": {
            "tags": []
          },
          "execution_count": 58
        }
      ]
    },
    {
      "cell_type": "markdown",
      "metadata": {
        "id": "m_v6vBv6VK3r"
      },
      "source": [
        "## トレーニング"
      ]
    },
    {
      "cell_type": "code",
      "metadata": {
        "id": "LLKRraH3TYDf"
      },
      "source": [
        "def train(g, model, EPOCHS=1000):\n",
        "    optimizer = torch.optim.Adagrad(model.parameters(), lr=0.001)\n",
        "    best_val_acc = 0\n",
        "    best_tet_acc = 0\n",
        "\n",
        "    features = g.ndata['feat']\n",
        "    labels = g.ndata['label']\n",
        "    train_mask = g.ndata['train_mask']\n",
        "    val_mask = g.ndata['val_mask']\n",
        "    test_mask = g.ndata['test_mask']\n",
        "\n",
        "    for e in range(EPOCHS):\n",
        "        logits = model(g, features)\n",
        "        pred = logits.argmax(1)\n",
        "\n",
        "        if e == 0:\n",
        "            print(f'The shape of logits is {logits.shape}.')\n",
        "            print(f'The pred[:20] is {pred[:20]}.\\n')\n",
        "\n",
        "        loss = F.cross_entropy(logits[train_mask], labels[train_mask])\n",
        "\n",
        "        train_acc = (pred[train_mask] == labels[train_mask]).float().mean()\n",
        "        val_acc = (pred[val_mask] == labels[val_mask]).float().mean()\n",
        "        test_acc = (pred[test_mask] == labels[test_mask]).float().mean()\n",
        "\n",
        "        # Save the best validation accuracy and the corresponding test accuracy.\n",
        "        if best_val_acc < val_acc:\n",
        "            best_val_acc = val_acc\n",
        "            best_test_acc = test_acc\n",
        "\n",
        "        # Backward\n",
        "        optimizer.zero_grad()\n",
        "        loss.backward()\n",
        "        optimizer.step()\n",
        "\n",
        "        if e % 500 == 0:\n",
        "            print('In epoch {}/{}, loss: {:.3f}, val acc: {:.3f} (best {:.3f}), test acc: {:.3f} (best {:.3f})'.format(\n",
        "                e, EPOCHS, loss, val_acc, best_val_acc, test_acc, best_test_acc))\n",
        "model = GCN(g.ndata['feat'].shape[1], 16, dataset.num_classes)\n"
      ],
      "execution_count": 75,
      "outputs": []
    },
    {
      "cell_type": "code",
      "metadata": {
        "id": "8QRHgPaYhmLr"
      },
      "source": [
        "train(g, model, EPOCHS=100000)"
      ],
      "execution_count": null,
      "outputs": []
    },
    {
      "cell_type": "markdown",
      "metadata": {
        "id": "izhT_1Q-0HX2"
      },
      "source": [
        "65000エポックでもまだloss, val acc, test acc すべて下がる  \n",
        "\n",
        "```\n",
        "In epoch 65000, loss: 0.559, val acc: 0.720 (best 0.720), test acc: 0.744 (best 0.740)  \n",
        "In epoch 65500, loss: 0.555, val acc: 0.720 (best 0.720), test acc: 0.744 (best 0.740)  \n",
        "In epoch 66000, loss: 0.552, val acc: 0.720 (best 0.720), test acc: 0.744 (best 0.740)  \n",
        "In epoch 66500, loss: 0.548, val acc: 0.720 (best 0.720), test acc: 0.744 (best 0.740)  \n",
        "```"
      ]
    },
    {
      "cell_type": "markdown",
      "metadata": {
        "id": "svwSMbk3xvZn"
      },
      "source": [
        "# 02. [How Does DGL Represent A Graph?](https://docs.dgl.ai/tutorials/blitz/2_dglgraph.html#sphx-glr-tutorials-blitz-2-dglgraph-py)\n"
      ]
    },
    {
      "cell_type": "code",
      "metadata": {
        "id": "nLxy_Lx7tvIt"
      },
      "source": [
        "import dgl \n",
        "import numpy as np\n",
        "import torch"
      ],
      "execution_count": 77,
      "outputs": []
    },
    {
      "cell_type": "code",
      "metadata": {
        "colab": {
          "base_uri": "https://localhost:8080/"
        },
        "id": "wHgyFHq_1BEQ",
        "outputId": "ac08f70f-742e-4635-b80a-57d620b3e7bd"
      },
      "source": [
        "# ノード数が6でノード0からノード1, 2, 3, 4, 5に向かって接続しているグラフ\n",
        "# 一つ目のリストが接続元ノード、二つ目のリストが接続先ノード\n",
        "NUM_NODES = 6\n",
        "g = dgl.graph(([0, 0, 0, 0, 0, 1, 1, 2, 4], [1, 2, 3, 4, 5, 2, 5, 4, 5]), num_nodes=NUM_NODES)\n",
        "g"
      ],
      "execution_count": 117,
      "outputs": [
        {
          "output_type": "execute_result",
          "data": {
            "text/plain": [
              "Graph(num_nodes=6, num_edges=9,\n",
              "      ndata_schemes={}\n",
              "      edata_schemes={})"
            ]
          },
          "metadata": {
            "tags": []
          },
          "execution_count": 117
        }
      ]
    },
    {
      "cell_type": "markdown",
      "metadata": {
        "id": "Eep7-QySBENr"
      },
      "source": [
        "全ての基本なので、[```dgl.graph```](https://docs.dgl.ai/generated/dgl.graph.html#dgl.graph) ドキュメントは読んでおいた方がいい"
      ]
    },
    {
      "cell_type": "code",
      "metadata": {
        "colab": {
          "base_uri": "https://localhost:8080/"
        },
        "id": "djrlRDaq1IlQ",
        "outputId": "98e5051a-1f12-4312-e72e-4638d2fe79bc"
      },
      "source": [
        "g.ndata['x'] = torch.randn(g.num_nodes(), 3)\n",
        "g.ndata['y'] = torch.randn(g.num_nodes(), 5, 4)\n",
        "\n",
        "g.edata['a'] = torch.randn(g.num_edges(), 4)\n",
        "\n",
        "g"
      ],
      "execution_count": 124,
      "outputs": [
        {
          "output_type": "execute_result",
          "data": {
            "text/plain": [
              "Graph(num_nodes=6, num_edges=9,\n",
              "      ndata_schemes={'x': Scheme(shape=(3,), dtype=torch.float32), 'y': Scheme(shape=(5, 4), dtype=torch.float32)}\n",
              "      edata_schemes={'a': Scheme(shape=(4,), dtype=torch.float32)})"
            ]
          },
          "metadata": {
            "tags": []
          },
          "execution_count": 124
        }
      ]
    },
    {
      "cell_type": "code",
      "metadata": {
        "colab": {
          "base_uri": "https://localhost:8080/",
          "height": 340
        },
        "id": "VY6JoWyu1wix",
        "outputId": "27d38535-fb00-4eb5-b971-6760b7bdb87a"
      },
      "source": [
        "g.ndata['z'] = torch.randn((NUM_NODES - 2), 5, 4)\n",
        "# ノードの特徴は、ノード数と一致させる必要がある。"
      ],
      "execution_count": 94,
      "outputs": [
        {
          "output_type": "error",
          "ename": "DGLError",
          "evalue": "ignored",
          "traceback": [
            "\u001b[0;31m---------------------------------------------------------------------------\u001b[0m",
            "\u001b[0;31mDGLError\u001b[0m                                  Traceback (most recent call last)",
            "\u001b[0;32m<ipython-input-94-55bfcfcbfe47>\u001b[0m in \u001b[0;36m<module>\u001b[0;34m()\u001b[0m\n\u001b[0;32m----> 1\u001b[0;31m \u001b[0mg\u001b[0m\u001b[0;34m.\u001b[0m\u001b[0mndata\u001b[0m\u001b[0;34m[\u001b[0m\u001b[0;34m'z'\u001b[0m\u001b[0;34m]\u001b[0m \u001b[0;34m=\u001b[0m \u001b[0mtorch\u001b[0m\u001b[0;34m.\u001b[0m\u001b[0mrandn\u001b[0m\u001b[0;34m(\u001b[0m\u001b[0;34m(\u001b[0m\u001b[0mNUM_NODES\u001b[0m \u001b[0;34m-\u001b[0m \u001b[0;36m2\u001b[0m\u001b[0;34m)\u001b[0m\u001b[0;34m,\u001b[0m \u001b[0;36m5\u001b[0m\u001b[0;34m,\u001b[0m \u001b[0;36m4\u001b[0m\u001b[0;34m)\u001b[0m\u001b[0;34m\u001b[0m\u001b[0;34m\u001b[0m\u001b[0m\n\u001b[0m\u001b[1;32m      2\u001b[0m \u001b[0;31m# ノードの特徴は、ノード数と一致させる必要があります。\u001b[0m\u001b[0;34m\u001b[0m\u001b[0;34m\u001b[0m\u001b[0;34m\u001b[0m\u001b[0m\n",
            "\u001b[0;32m/usr/local/lib/python3.7/dist-packages/dgl/view.py\u001b[0m in \u001b[0;36m__setitem__\u001b[0;34m(self, key, val)\u001b[0m\n\u001b[1;32m     79\u001b[0m                 \u001b[0;34m'The HeteroNodeDataView has only one node type. '\u001b[0m\u001b[0;31m \u001b[0m\u001b[0;31m\\\u001b[0m\u001b[0;34m\u001b[0m\u001b[0;34m\u001b[0m\u001b[0m\n\u001b[1;32m     80\u001b[0m                 \u001b[0;34m'please pass a tensor directly'\u001b[0m\u001b[0;34m\u001b[0m\u001b[0;34m\u001b[0m\u001b[0m\n\u001b[0;32m---> 81\u001b[0;31m             \u001b[0mself\u001b[0m\u001b[0;34m.\u001b[0m\u001b[0m_graph\u001b[0m\u001b[0;34m.\u001b[0m\u001b[0m_set_n_repr\u001b[0m\u001b[0;34m(\u001b[0m\u001b[0mself\u001b[0m\u001b[0;34m.\u001b[0m\u001b[0m_ntid\u001b[0m\u001b[0;34m,\u001b[0m \u001b[0mself\u001b[0m\u001b[0;34m.\u001b[0m\u001b[0m_nodes\u001b[0m\u001b[0;34m,\u001b[0m \u001b[0;34m{\u001b[0m\u001b[0mkey\u001b[0m \u001b[0;34m:\u001b[0m \u001b[0mval\u001b[0m\u001b[0;34m}\u001b[0m\u001b[0;34m)\u001b[0m\u001b[0;34m\u001b[0m\u001b[0;34m\u001b[0m\u001b[0m\n\u001b[0m\u001b[1;32m     82\u001b[0m \u001b[0;34m\u001b[0m\u001b[0m\n\u001b[1;32m     83\u001b[0m     \u001b[0;32mdef\u001b[0m \u001b[0m__delitem__\u001b[0m\u001b[0;34m(\u001b[0m\u001b[0mself\u001b[0m\u001b[0;34m,\u001b[0m \u001b[0mkey\u001b[0m\u001b[0;34m)\u001b[0m\u001b[0;34m:\u001b[0m\u001b[0;34m\u001b[0m\u001b[0;34m\u001b[0m\u001b[0m\n",
            "\u001b[0;32m/usr/local/lib/python3.7/dist-packages/dgl/heterograph.py\u001b[0m in \u001b[0;36m_set_n_repr\u001b[0;34m(self, ntid, u, data)\u001b[0m\n\u001b[1;32m   4109\u001b[0m             \u001b[0;32mif\u001b[0m \u001b[0mnfeats\u001b[0m \u001b[0;34m!=\u001b[0m \u001b[0mnum_nodes\u001b[0m\u001b[0;34m:\u001b[0m\u001b[0;34m\u001b[0m\u001b[0;34m\u001b[0m\u001b[0m\n\u001b[1;32m   4110\u001b[0m                 raise DGLError('Expect number of features to match number of nodes (len(u)).'\n\u001b[0;32m-> 4111\u001b[0;31m                                ' Got %d and %d instead.' % (nfeats, num_nodes))\n\u001b[0m\u001b[1;32m   4112\u001b[0m             \u001b[0;32mif\u001b[0m \u001b[0mF\u001b[0m\u001b[0;34m.\u001b[0m\u001b[0mcontext\u001b[0m\u001b[0;34m(\u001b[0m\u001b[0mval\u001b[0m\u001b[0;34m)\u001b[0m \u001b[0;34m!=\u001b[0m \u001b[0mself\u001b[0m\u001b[0;34m.\u001b[0m\u001b[0mdevice\u001b[0m\u001b[0;34m:\u001b[0m\u001b[0;34m\u001b[0m\u001b[0;34m\u001b[0m\u001b[0m\n\u001b[1;32m   4113\u001b[0m                 raise DGLError('Cannot assign node feature \"{}\" on device {} to a graph on'\n",
            "\u001b[0;31mDGLError\u001b[0m: Expect number of features to match number of nodes (len(u)). Got 4 and 6 instead."
          ]
        }
      ]
    },
    {
      "cell_type": "code",
      "metadata": {
        "colab": {
          "base_uri": "https://localhost:8080/"
        },
        "id": "GAlh8n6H5VsP",
        "outputId": "3536b4ae-9812-40d8-b58b-7cec6e9bd1d8"
      },
      "source": [
        "print(g.num_nodes())\n",
        "print(g.num_edges())\n",
        "# これはノードゼロから5本外に接続が出ていっていることを表現\n",
        "print(g.out_degrees())\n",
        "# これはノード1～5それぞれに向かって接続が入っていっていることを表現 \n",
        "print(g.in_degrees()) "
      ],
      "execution_count": 113,
      "outputs": [
        {
          "output_type": "stream",
          "text": [
            "6\n",
            "5\n",
            "tensor([5, 0, 0, 0, 0, 0])\n",
            "tensor([0, 1, 1, 1, 1, 1])\n"
          ],
          "name": "stdout"
        }
      ]
    },
    {
      "cell_type": "code",
      "metadata": {
        "id": "Fvze1dV5584f"
      },
      "source": [
        "sg1 = g.subgraph([0, 1, 3])\n",
        "sg2 = g.edge_subgraph([0, 1, 3])"
      ],
      "execution_count": 114,
      "outputs": []
    },
    {
      "cell_type": "code",
      "metadata": {
        "colab": {
          "base_uri": "https://localhost:8080/"
        },
        "id": "yI-RhmqN_oCd",
        "outputId": "1da1363e-43ca-4ead-f98f-d7623a9bc7ab"
      },
      "source": [
        "sg1"
      ],
      "execution_count": 115,
      "outputs": [
        {
          "output_type": "execute_result",
          "data": {
            "text/plain": [
              "Graph(num_nodes=3, num_edges=2,\n",
              "      ndata_schemes={'_ID': Scheme(shape=(), dtype=torch.int64)}\n",
              "      edata_schemes={'_ID': Scheme(shape=(), dtype=torch.int64)})"
            ]
          },
          "metadata": {
            "tags": []
          },
          "execution_count": 115
        }
      ]
    },
    {
      "cell_type": "markdown",
      "metadata": {
        "id": "fAT6h8f2AE_M"
      },
      "source": [
        "### 無向グラフ\n",
        "無向グラフを作ると言うよりも、以下のAPIで双方向の有向グラフを作るイメージ  \n",
        "```python\n",
        "dgl.add_reverse_edges(ORIGINAL_GRAPH_OBJECT)\n",
        "```"
      ]
    },
    {
      "cell_type": "code",
      "metadata": {
        "colab": {
          "base_uri": "https://localhost:8080/"
        },
        "id": "_l5m2_KY_s88",
        "outputId": "2fdbde2c-23af-4fb8-833f-581ce841807b"
      },
      "source": [
        "newg = dgl.add_reverse_edges(g)\n",
        "newg = dgl.add_reverse_edges(g)\n",
        "newg.edges()"
      ],
      "execution_count": 116,
      "outputs": [
        {
          "output_type": "execute_result",
          "data": {
            "text/plain": [
              "(tensor([0, 0, 0, 0, 0, 1, 2, 3, 4, 5]),\n",
              " tensor([1, 2, 3, 4, 5, 0, 0, 0, 0, 0]))"
            ]
          },
          "metadata": {
            "tags": []
          },
          "execution_count": 116
        }
      ]
    },
    {
      "cell_type": "markdown",
      "metadata": {
        "id": "IGwJwj1qAtw8"
      },
      "source": [
        "### 保存と読み出し"
      ]
    },
    {
      "cell_type": "code",
      "metadata": {
        "id": "M5EL9hXwAKv0"
      },
      "source": [
        "dgl.save_graphs('graph.dgl', g)\n",
        "dgl.save_graphs('graphs.dgl', [g, sg1, sg2])\n",
        "\n",
        "# Load graphs\n",
        "(g,), _ = dgl.load_graphs('graph.dgl')\n",
        "print(g)\n",
        "(g, sg1, sg2), _ = dgl.load_graphs('graphs.dgl')\n",
        "print(g)\n",
        "print(sg1)\n",
        "print(sg2)"
      ],
      "execution_count": null,
      "outputs": []
    },
    {
      "cell_type": "markdown",
      "metadata": {
        "id": "qglwYXdwNTNH"
      },
      "source": [
        "# 03. [Write your own GNN module](https://docs.dgl.ai/tutorials/blitz/3_message_passing.html#sphx-glr-tutorials-blitz-3-message-passing-py)\n"
      ]
    },
    {
      "cell_type": "code",
      "metadata": {
        "id": "6SxbxLkANb2D"
      },
      "source": [
        "import dgl \n",
        "import torch\n",
        "import torch.nn\n",
        "import torch.nn.functional as F"
      ],
      "execution_count": 125,
      "outputs": []
    },
    {
      "cell_type": "code",
      "metadata": {
        "id": "1Mg4Fj8cN_VA"
      },
      "source": [
        "import dgl.function as fn"
      ],
      "execution_count": 126,
      "outputs": []
    },
    {
      "cell_type": "markdown",
      "metadata": {
        "id": "jF5fj5nXQHU2"
      },
      "source": [
        "実はSAGEConvはあるらしいが、ここでは勉強のために実装するとのこと\n",
        "```python\n",
        "# 例\n",
        "dgl.nn.SAGEConv(100, 20, 'gcn')\n",
        "```"
      ]
    },
    {
      "cell_type": "code",
      "metadata": {
        "id": "0TSbgUu9OeKn"
      },
      "source": [
        "class SAGEConv(nn.Module):\n",
        "    def __init__(self, in_feat, out_feat):\n",
        "        super(SAGEConv, self).__init__()\n",
        "        self.linear = nn.Linear(in_feat * 2, out_feat)\n",
        "\n",
        "    def forward(self, g, h):\n",
        "        # with文はグラフの特徴量を途中で変更しない的な役割\n",
        "        with g.local_scope():\n",
        "            g.ndata['h'] = h\n",
        "            g.update_all(message_func=fn.copy_u('h', 'm'), reduce_func=fn.mean('m', 'h_N'))\n",
        "            h_N = g.ndata['h_N']\n",
        "            h_total = torch.cat([h, h_N], dim=1)\n",
        "            return self.linear(h_total)"
      ],
      "execution_count": 135,
      "outputs": []
    },
    {
      "cell_type": "markdown",
      "metadata": {
        "id": "LysM_vsSRjh-"
      },
      "source": [
        "```update_all```で近傍の特徴量を集約し、平均する。"
      ]
    },
    {
      "cell_type": "code",
      "metadata": {
        "id": "_647vmC6PtXn"
      },
      "source": [
        "class Model(nn.Module):\n",
        "    def __init__(self, in_feats, h_feats, num_classes):\n",
        "        super(Model, self).__init__()\n",
        "        self.conv1 = SAGEConv(in_feats, h_feats)\n",
        "        self.conv2 = SAGEConv(h_feats, num_classes)\n",
        "\n",
        "    def forward(self, g, in_feat):\n",
        "        h = self.conv1(g, in_feat)\n",
        "        h = F.relu(h)\n",
        "        h = self.conv2(g, h)\n",
        "        return h"
      ],
      "execution_count": 136,
      "outputs": []
    },
    {
      "cell_type": "markdown",
      "metadata": {
        "id": "gbbLR2V4UIVn"
      },
      "source": [
        "上の[二層のGCN作成](https://colab.research.google.com/drive/1OInjZZpi5OyQOeojAimmLT41TYxmaMBj#scrollTo=_GCN_)で定義した```GCN```とほぼ同じなことが分かるので比較すると良い"
      ]
    },
    {
      "cell_type": "markdown",
      "metadata": {
        "id": "JIX9CTT9UsDR"
      },
      "source": [
        "# 04. [Link Prediction using Graph Neural Networks](https://docs.dgl.ai/tutorials/blitz/4_link_predict.html#sphx-glr-tutorials-blitz-4-link-predict-py)"
      ]
    },
    {
      "cell_type": "code",
      "metadata": {
        "id": "cdoQRzPjUHiy"
      },
      "source": [
        "import dgl\n",
        "import torch\n",
        "import torch.nn as nn\n",
        "import torch.nn.functional as F\n",
        "import itertools\n",
        "import numpy as np\n",
        "import scipy.sparse as sp"
      ],
      "execution_count": 139,
      "outputs": []
    },
    {
      "cell_type": "code",
      "metadata": {
        "colab": {
          "base_uri": "https://localhost:8080/"
        },
        "id": "eS-DmthLTHvV",
        "outputId": "0e1a67fe-e77a-44de-b1f2-d08d8ccef539"
      },
      "source": [
        "import dgl.data\n",
        "\n",
        "dataset = dgl.data.CoraGraphDataset()\n",
        "g = dataset[0]"
      ],
      "execution_count": 140,
      "outputs": [
        {
          "output_type": "stream",
          "text": [
            "  NumNodes: 2708\n",
            "  NumEdges: 10556\n",
            "  NumFeats: 1433\n",
            "  NumClasses: 7\n",
            "  NumTrainingSamples: 140\n",
            "  NumValidationSamples: 500\n",
            "  NumTestSamples: 1000\n",
            "Done loading data from cached files.\n"
          ],
          "name": "stdout"
        }
      ]
    },
    {
      "cell_type": "code",
      "metadata": {
        "colab": {
          "base_uri": "https://localhost:8080/"
        },
        "id": "u_9-0op0bHsG",
        "outputId": "d7c1e6bf-2b65-4feb-eb14-47bfd192c117"
      },
      "source": [
        "u, v = g.edges()\n",
        "u.shape, v.shape"
      ],
      "execution_count": 147,
      "outputs": [
        {
          "output_type": "execute_result",
          "data": {
            "text/plain": [
              "(torch.Size([10556]), torch.Size([10556]))"
            ]
          },
          "metadata": {
            "tags": []
          },
          "execution_count": 147
        }
      ]
    },
    {
      "cell_type": "code",
      "metadata": {
        "colab": {
          "base_uri": "https://localhost:8080/"
        },
        "id": "coY40RVobOCc",
        "outputId": "8e053a91-690e-4b02-dcde-0bd44e85b1eb"
      },
      "source": [
        "print(u[:30])\n",
        "print(v[:30])"
      ],
      "execution_count": 150,
      "outputs": [
        {
          "output_type": "stream",
          "text": [
            "tensor([3, 5, 6, 2, 1, 5, 3, 6, 0, 0, 5, 3, 6, 5, 4, 0, 1, 2, 7, 6, 3, 5, 7, 8,\n",
            "        6, 2, 4, 1, 0, 3])\n",
            "tensor([0, 0, 0, 0, 0, 1, 1, 1, 1, 2, 2, 2, 2, 3, 3, 3, 3, 3, 3, 4, 4, 4, 4, 5,\n",
            "        5, 5, 5, 5, 5, 5])\n"
          ],
          "name": "stdout"
        }
      ]
    },
    {
      "cell_type": "code",
      "metadata": {
        "colab": {
          "base_uri": "https://localhost:8080/"
        },
        "id": "n_jUp5R9bPcx",
        "outputId": "e4b2e770-3d41-4984-98eb-3e9cd37840af"
      },
      "source": [
        "eids = np.arange(g.number_of_edges())\n",
        "eids = np.random.permutation(eids)\n",
        "test_size = int(len(eids) * 0.1)\n",
        "train_size = g.number_of_edges() - test_size\n",
        "test_size, train_size"
      ],
      "execution_count": 154,
      "outputs": [
        {
          "output_type": "execute_result",
          "data": {
            "text/plain": [
              "(1055, 9501)"
            ]
          },
          "metadata": {
            "tags": []
          },
          "execution_count": 154
        }
      ]
    },
    {
      "cell_type": "code",
      "metadata": {
        "id": "6REX8Ah-bmTK"
      },
      "source": [
        "test_pos_u, test_pos_v = u[eids[:test_size]], v[eids[:test_size]]\n",
        "train_pos_u, train_pos_v = u[eids[test_size:]], v[eids[test_size:]]\n",
        "\n",
        "assert len(test_pos_u) == len(test_pos_v) and \\\n",
        "        len(train_pos_u) == len(train_pos_v)"
      ],
      "execution_count": 179,
      "outputs": []
    },
    {
      "cell_type": "code",
      "metadata": {
        "id": "IESlYI5vbnfB"
      },
      "source": [
        "adj = sp.coo_matrix((\n",
        "                    np.ones(len(u)), (u.numpy(), v.numpy())\n",
        "                     ))"
      ],
      "execution_count": 163,
      "outputs": []
    },
    {
      "cell_type": "code",
      "metadata": {
        "id": "rTGZ_LuAepeW"
      },
      "source": [
        "adj_neg = 1 - adj.todense() - np.eye(g.number_of_nodes())"
      ],
      "execution_count": 166,
      "outputs": []
    },
    {
      "cell_type": "code",
      "metadata": {
        "id": "8E-xuqu_jZiP"
      },
      "source": [
        "neg_u, neg_v = np.where(adj_neg != 0)"
      ],
      "execution_count": 167,
      "outputs": []
    },
    {
      "cell_type": "code",
      "metadata": {
        "id": "HLSSJXz4kglm"
      },
      "source": [
        "neg_eids = np.random.choice(len(neg_u), g.number_of_edges())\n",
        "test_neg_u, test_neg_v = neg_u[neg_eids[:test_size]], neg_v[neg_eids[:test_size]]\n",
        "train_neg_u, train_neg_v = neg_u[neg_eids[train_size:]], neg_v[neg_eids[train_size:]]"
      ],
      "execution_count": 169,
      "outputs": []
    },
    {
      "cell_type": "code",
      "metadata": {
        "id": "La5t8tbskiyO"
      },
      "source": [
        "train_g = dgl.remove_edges(g, eids[:test_size])"
      ],
      "execution_count": 170,
      "outputs": []
    },
    {
      "cell_type": "code",
      "metadata": {
        "id": "ctFHzL1gk4KO"
      },
      "source": [
        "from dgl.nn import SAGEConv\n",
        "\n",
        "class GraphSAGE(nn.Module):\n",
        "    def __init__(self, in_feats, h_feats):\n",
        "        super(GraphSAGE, self).__init__()\n",
        "        self.conv1 = SAGEConv(in_feats, h_feats, 'mean')\n",
        "        self.conv2 = SAGEConv(h_feats, h_feats, 'mean')\n",
        "\n",
        "    def forward(self, g, in_feat):\n",
        "        h = self.conv1(g, in_feat)\n",
        "        h = F.relu(h)\n",
        "        h = self.conv2(g, h)\n",
        "        return h"
      ],
      "execution_count": 187,
      "outputs": []
    },
    {
      "cell_type": "markdown",
      "metadata": {
        "id": "QW0ffyj7lyWS"
      },
      "source": [
        "リンク予測ではノードのペアの表現を計算しないといけない"
      ]
    },
    {
      "cell_type": "code",
      "metadata": {
        "id": "PWQOeVRwlnL9"
      },
      "source": [
        "train_pos_g = dgl.graph((train_pos_u, train_pos_v), num_nodes=g.number_of_nodes())\n",
        "train_neg_g = dgl.graph((train_neg_u, train_neg_v), num_nodes=g.number_of_nodes())\n",
        "\n",
        "test_pos_g = dgl.graph((test_pos_u, test_pos_v), num_nodes=g.number_of_nodes())\n",
        "test_neg_g = dgl.graph((test_neg_u, test_neg_v), num_nodes=g.number_of_nodes())"
      ],
      "execution_count": 188,
      "outputs": []
    },
    {
      "cell_type": "code",
      "metadata": {
        "id": "IrcXJ_CwmP21"
      },
      "source": [
        "import dgl.function as fn\n",
        "\n",
        "class DotPredictor(nn.Module):\n",
        "    def forward(self, g, h):\n",
        "        with g.local_scope():\n",
        "            g.ndata['h'] = h\n",
        "            g.apply_edges(fn.u_dot_v('h', 'h', 'score'))\n",
        "            return g.edata['score'][:, 0]"
      ],
      "execution_count": 203,
      "outputs": []
    },
    {
      "cell_type": "code",
      "metadata": {
        "id": "071FF0X-ofN4"
      },
      "source": [
        "class MLPPredictor(nn.Module):\n",
        "    def __init__(self):\n",
        "        super().__init__()\n",
        "        self.W1 = nn.Linear(h_feats * 2, h_feats)\n",
        "        self.W2 = nn.Linear(h_feats, 1)\n",
        "\n",
        "    def apply_edges(self, edges):\n",
        "        h = torch.cat([edges.src['h'], edges.dst['h']], 1)\n",
        "        return {'score': self.W2(F.relu(self.W1(h))).squeeze(1)}\n",
        "\n",
        "    def forward(self, g, h):\n",
        "        with g.local_scope():\n",
        "            g.ndata['h'] = h\n",
        "            g.apply_edges(self.apply_edges)\n",
        "            return g.edata['score']"
      ],
      "execution_count": 190,
      "outputs": []
    },
    {
      "cell_type": "code",
      "metadata": {
        "id": "E405fsEdpu8-"
      },
      "source": [
        "model = GraphSAGE(train_g.ndata['feat'].shape[1], 16)\n",
        "pred = DotPredictor() # MLPPredictorに交換可能"
      ],
      "execution_count": 200,
      "outputs": []
    },
    {
      "cell_type": "code",
      "metadata": {
        "id": "yY5xQ4MbwNVa"
      },
      "source": [
        "def compute_loss(pos_score, neg_score):\n",
        "    scores = torch.cat([pos_score, neg_score])\n",
        "    labels = torch.cat([torch.ones(pos_score.shape[0]), torch.zeros(neg_score.shape[0])])\n",
        "    return F.binary_cross_entropy_with_logits(scores, labels)\n",
        "\n",
        "def compute_auc(pos_score, neg_score):\n",
        "    scores = torch.cat([pos_score, neg_score]).numpy()\n",
        "    labels = torch.cat([torch.ones(pos_score.shape[0]), torch.zeros(neg_score.shape[0])]).numpy()\n",
        "    return roc_auc_score(labels, scores)"
      ],
      "execution_count": 201,
      "outputs": []
    },
    {
      "cell_type": "code",
      "metadata": {
        "colab": {
          "base_uri": "https://localhost:8080/"
        },
        "id": "b5tG60UByQmR",
        "outputId": "10504c88-b7f1-434e-99a1-772b1f21182a"
      },
      "source": [
        "optimizer = torch.optim.Adam(itertools.chain(model.parameters(), pred.parameters()), lr=0.01)\n",
        "for e in range(100):\n",
        "    # forward\n",
        "    h = model(train_g, train_g.ndata['feat'])\n",
        "    pos_score = pred(train_pos_g, h)\n",
        "    neg_score = pred(train_neg_g, h)\n",
        "    loss = compute_loss(pos_score, neg_score)\n",
        "\n",
        "    # backward\n",
        "    optimizer.zero_grad()\n",
        "    loss.backward()\n",
        "    optimizer.step()\n",
        "\n",
        "    if e % 5 == 0:\n",
        "        print('In epoch {}, loss: {}'.format(e, loss))\n",
        "\n",
        "# ----------- 5. check results ------------------------ #\n",
        "from sklearn.metrics import roc_auc_score\n",
        "with torch.no_grad():\n",
        "    pos_score = pred(test_pos_g, h)\n",
        "    neg_score = pred(test_neg_g, h)\n",
        "    print('AUC', compute_auc(pos_score, neg_score))\n"
      ],
      "execution_count": 202,
      "outputs": [
        {
          "output_type": "stream",
          "text": [
            "In epoch 0, loss: 0.6922218799591064\n",
            "In epoch 5, loss: 0.3516864478588104\n",
            "In epoch 10, loss: 0.3153718113899231\n",
            "In epoch 15, loss: 0.33701276779174805\n",
            "In epoch 20, loss: 0.31960529088974\n",
            "In epoch 25, loss: 0.30015215277671814\n",
            "In epoch 30, loss: 0.3010431230068207\n",
            "In epoch 35, loss: 0.29419785737991333\n",
            "In epoch 40, loss: 0.2859377861022949\n",
            "In epoch 45, loss: 0.2812596559524536\n",
            "In epoch 50, loss: 0.276080459356308\n",
            "In epoch 55, loss: 0.2695831060409546\n",
            "In epoch 60, loss: 0.2629373073577881\n",
            "In epoch 65, loss: 0.25635358691215515\n",
            "In epoch 70, loss: 0.24944013357162476\n",
            "In epoch 75, loss: 0.24127860367298126\n",
            "In epoch 80, loss: 0.23035061359405518\n",
            "In epoch 85, loss: 0.2156180590391159\n",
            "In epoch 90, loss: 0.1950709968805313\n",
            "In epoch 95, loss: 0.17013922333717346\n",
            "AUC 0.7473300240336023\n"
          ],
          "name": "stdout"
        }
      ]
    },
    {
      "cell_type": "code",
      "metadata": {
        "id": "wIZZp1LVyvSQ"
      },
      "source": [
        ""
      ],
      "execution_count": 199,
      "outputs": []
    },
    {
      "cell_type": "code",
      "metadata": {
        "id": "cmPRu_02y_me"
      },
      "source": [
        ""
      ],
      "execution_count": null,
      "outputs": []
    }
  ]
}