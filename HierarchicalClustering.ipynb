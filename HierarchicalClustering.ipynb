{
  "nbformat": 4,
  "nbformat_minor": 0,
  "metadata": {
    "colab": {
      "name": "HierarchicalClustering.ipynb",
      "provenance": [],
      "authorship_tag": "ABX9TyMfQxmWYkB5MPG1t58lHfkc",
      "include_colab_link": true
    },
    "kernelspec": {
      "name": "python3",
      "display_name": "Python 3"
    }
  },
  "cells": [
    {
      "cell_type": "markdown",
      "metadata": {
        "id": "view-in-github",
        "colab_type": "text"
      },
      "source": [
        "<a href=\"https://colab.research.google.com/github/kiitaamuuraa/Asobiba/blob/main/HierarchicalClustering.ipynb\" target=\"_parent\"><img src=\"https://colab.research.google.com/assets/colab-badge.svg\" alt=\"Open In Colab\"/></a>"
      ]
    },
    {
      "cell_type": "code",
      "metadata": {
        "id": "nUvCD-_iIKE_"
      },
      "source": [
        "from sklearn.cluster import AgglomerativeClustering\r\n",
        "from sklearn.datasets import load_iris\r\n"
      ],
      "execution_count": 2,
      "outputs": []
    },
    {
      "cell_type": "code",
      "metadata": {
        "id": "CDFt07-cIoB6"
      },
      "source": [
        "data = load_iris()"
      ],
      "execution_count": 3,
      "outputs": []
    },
    {
      "cell_type": "code",
      "metadata": {
        "colab": {
          "base_uri": "https://localhost:8080/"
        },
        "id": "UuVD6qrAI_K5",
        "outputId": "1e869558-e9ba-4fea-881d-f2698feb58b8"
      },
      "source": [
        "data.data[:5]"
      ],
      "execution_count": 10,
      "outputs": [
        {
          "output_type": "execute_result",
          "data": {
            "text/plain": [
              "array([[5.1, 3.5, 1.4, 0.2],\n",
              "       [4.9, 3. , 1.4, 0.2],\n",
              "       [4.7, 3.2, 1.3, 0.2],\n",
              "       [4.6, 3.1, 1.5, 0.2],\n",
              "       [5. , 3.6, 1.4, 0.2]])"
            ]
          },
          "metadata": {
            "tags": []
          },
          "execution_count": 10
        }
      ]
    },
    {
      "cell_type": "code",
      "metadata": {
        "id": "tFSE2u6oI_m2"
      },
      "source": [
        "clustering = AgglomerativeClustering(distance_threshold=0, n_clusters=None).fit(data.data)"
      ],
      "execution_count": 31,
      "outputs": []
    },
    {
      "cell_type": "code",
      "metadata": {
        "colab": {
          "base_uri": "https://localhost:8080/"
        },
        "id": "bboVXeU6JXv_",
        "outputId": "399f9b12-8e38-499d-c8f6-4a2e55d0c1dd"
      },
      "source": [
        "clustering.labels_"
      ],
      "execution_count": 32,
      "outputs": [
        {
          "output_type": "execute_result",
          "data": {
            "text/plain": [
              "array([147, 131, 115, 136, 143,  85,  92, 148, 137, 146, 144,  97, 123,\n",
              "        84, 105, 107, 132, 114, 101, 142,  98,  89, 119, 120, 135, 117,\n",
              "       118,  67,  77, 141,  76, 138,  82,  78, 108, 129,  75, 111, 112,\n",
              "       140, 128,  91,  94, 106, 121,  99, 116,  48,  81, 126, 104, 103,\n",
              "        71,  59, 109,  90, 139,  69,  44,  93,  95, 145,  86, 130, 127,\n",
              "        64, 122,  96,  52, 110,  47,  73,  70,  79,  58,  57, 149, 124,\n",
              "        55, 133,  34, 113, 134,  42,  83, 125,  88,  63,  60,  45,  40,\n",
              "        41,  51, 102,  61,  66, 100,  53,  65,  62,  80,  74,  28,  49,\n",
              "        39,  50,  20,  24,  38,  68,  56,  29,  30,  46,  23,  36,  33,\n",
              "        16,  54,  19,  27,  37,  22,  31,  87,   9,  43,  32,  72,  35,\n",
              "        14,  21,  26,  17,  25,  18,  13,  11,  15,  10,  12,   5,   8,\n",
              "         4,   6,   7,   3,   2,   1,   0])"
            ]
          },
          "metadata": {
            "tags": []
          },
          "execution_count": 32
        }
      ]
    },
    {
      "cell_type": "code",
      "metadata": {
        "colab": {
          "base_uri": "https://localhost:8080/"
        },
        "id": "RFj5ISsZJc1p",
        "outputId": "1d2d5ec7-7995-498b-d102-8826fb527b2a"
      },
      "source": [
        "data.target"
      ],
      "execution_count": 33,
      "outputs": [
        {
          "output_type": "execute_result",
          "data": {
            "text/plain": [
              "array([0, 0, 0, 0, 0, 0, 0, 0, 0, 0, 0, 0, 0, 0, 0, 0, 0, 0, 0, 0, 0, 0,\n",
              "       0, 0, 0, 0, 0, 0, 0, 0, 0, 0, 0, 0, 0, 0, 0, 0, 0, 0, 0, 0, 0, 0,\n",
              "       0, 0, 0, 0, 0, 0, 1, 1, 1, 1, 1, 1, 1, 1, 1, 1, 1, 1, 1, 1, 1, 1,\n",
              "       1, 1, 1, 1, 1, 1, 1, 1, 1, 1, 1, 1, 1, 1, 1, 1, 1, 1, 1, 1, 1, 1,\n",
              "       1, 1, 1, 1, 1, 1, 1, 1, 1, 1, 1, 1, 2, 2, 2, 2, 2, 2, 2, 2, 2, 2,\n",
              "       2, 2, 2, 2, 2, 2, 2, 2, 2, 2, 2, 2, 2, 2, 2, 2, 2, 2, 2, 2, 2, 2,\n",
              "       2, 2, 2, 2, 2, 2, 2, 2, 2, 2, 2, 2, 2, 2, 2, 2, 2, 2])"
            ]
          },
          "metadata": {
            "tags": []
          },
          "execution_count": 33
        }
      ]
    },
    {
      "cell_type": "code",
      "metadata": {
        "id": "aZprZJzBJwPC"
      },
      "source": [
        "import numpy as np\r\n",
        "\r\n",
        "\r\n",
        "from matplotlib import pyplot as plt\r\n",
        "from scipy.cluster.hierarchy import dendrogram"
      ],
      "execution_count": 34,
      "outputs": []
    },
    {
      "cell_type": "code",
      "metadata": {
        "id": "cppEYvG6KQIp"
      },
      "source": [
        "def plot_dendrogram(model, **kwargs):\r\n",
        "    # Create linkage matrix and then plot the dendrogram\r\n",
        "\r\n",
        "    # create the counts of samples under each node\r\n",
        "    counts = np.zeros(model.children_.shape[0])\r\n",
        "    n_samples = len(model.labels_)\r\n",
        "    for i, merge in enumerate(model.children_):\r\n",
        "        current_count = 0\r\n",
        "        for child_idx in merge:\r\n",
        "            if child_idx < n_samples:\r\n",
        "                current_count += 1  # leaf node\r\n",
        "            else:\r\n",
        "                current_count += counts[child_idx - n_samples]\r\n",
        "        counts[i] = current_count\r\n",
        "\r\n",
        "    linkage_matrix = np.column_stack([model.children_, model.distances_,\r\n",
        "                                      counts]).astype(float)\r\n",
        "\r\n",
        "    # Plot the corresponding dendrogram\r\n",
        "    dendrogram(linkage_matrix, **kwargs)"
      ],
      "execution_count": 35,
      "outputs": []
    },
    {
      "cell_type": "code",
      "metadata": {
        "colab": {
          "base_uri": "https://localhost:8080/",
          "height": 265
        },
        "id": "qbIUlItEKUd1",
        "outputId": "5d438878-9284-4ce0-d12a-9873e48ccd46"
      },
      "source": [
        "plot_dendrogram(clustering)"
      ],
      "execution_count": 36,
      "outputs": [
        {
          "output_type": "display_data",
          "data": {
            "image/png": "[encoded data removed]",
            "text/plain": [
              "<Figure size 432x288 with 1 Axes>"
            ]
          },
          "metadata": {
            "tags": [],
            "needs_background": "light"
          }
        }
      ]
    },
    {
      "cell_type": "code",
      "metadata": {
        "colab": {
          "base_uri": "https://localhost:8080/"
        },
        "id": "haH6fiRTKb_Z",
        "outputId": "45a6af2e-734b-4191-86e1-1cf2ff6fad7e"
      },
      "source": [
        "clustering.labels_"
      ],
      "execution_count": 39,
      "outputs": [
        {
          "output_type": "execute_result",
          "data": {
            "text/plain": [
              "array([147, 131, 115, 136, 143,  85,  92, 148, 137, 146, 144,  97, 123,\n",
              "        84, 105, 107, 132, 114, 101, 142,  98,  89, 119, 120, 135, 117,\n",
              "       118,  67,  77, 141,  76, 138,  82,  78, 108, 129,  75, 111, 112,\n",
              "       140, 128,  91,  94, 106, 121,  99, 116,  48,  81, 126, 104, 103,\n",
              "        71,  59, 109,  90, 139,  69,  44,  93,  95, 145,  86, 130, 127,\n",
              "        64, 122,  96,  52, 110,  47,  73,  70,  79,  58,  57, 149, 124,\n",
              "        55, 133,  34, 113, 134,  42,  83, 125,  88,  63,  60,  45,  40,\n",
              "        41,  51, 102,  61,  66, 100,  53,  65,  62,  80,  74,  28,  49,\n",
              "        39,  50,  20,  24,  38,  68,  56,  29,  30,  46,  23,  36,  33,\n",
              "        16,  54,  19,  27,  37,  22,  31,  87,   9,  43,  32,  72,  35,\n",
              "        14,  21,  26,  17,  25,  18,  13,  11,  15,  10,  12,   5,   8,\n",
              "         4,   6,   7,   3,   2,   1,   0])"
            ]
          },
          "metadata": {
            "tags": []
          },
          "execution_count": 39
        }
      ]
    },
    {
      "cell_type": "code",
      "metadata": {
        "id": "N6L8TCipK0dk"
      },
      "source": [
        ""
      ],
      "execution_count": null,
      "outputs": []
    }
  ]
}