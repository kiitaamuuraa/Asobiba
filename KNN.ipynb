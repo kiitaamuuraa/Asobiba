{
  "nbformat": 4,
  "nbformat_minor": 0,
  "metadata": {
    "kernelspec": {
      "display_name": "Python 3",
      "language": "python",
      "name": "python3"
    },
    "language_info": {
      "codemirror_mode": {
        "name": "ipython",
        "version": 3
      },
      "file_extension": ".py",
      "mimetype": "text/x-python",
      "name": "python",
      "nbconvert_exporter": "python",
      "pygments_lexer": "ipython3",
      "version": "3.9.7"
    },
    "colab": {
      "name": "KNN.ipynb",
      "provenance": [],
      "include_colab_link": true
    }
  },
  "cells": [
    {
      "cell_type": "markdown",
      "metadata": {
        "id": "view-in-github",
        "colab_type": "text"
      },
      "source": [
        "<a href=\"https://colab.research.google.com/github/kiitaamuuraa/Asobiba/blob/main/KNN.ipynb\" target=\"_parent\"><img src=\"https://colab.research.google.com/assets/colab-badge.svg\" alt=\"Open In Colab\"/></a>"
      ]
    },
    {
      "cell_type": "code",
      "metadata": {
        "id": "sZCFNlFefAOt"
      },
      "source": [
        "%matplotlib inline"
      ],
      "execution_count": null,
      "outputs": []
    },
    {
      "cell_type": "markdown",
      "metadata": {
        "id": "qedeML2RfAOv"
      },
      "source": [
        "\n",
        "# Nearest Neighbors Classification\n",
        "\n",
        "Sample usage of Nearest Neighbors classification.\n",
        "It will plot the decision boundaries for each class.\n"
      ]
    },
    {
      "cell_type": "code",
      "metadata": {
        "id": "znQXyZR3g0Ne"
      },
      "source": [
        "import numpy as np\n",
        "import matplotlib.pyplot as plt\n",
        "import seaborn as sns\n",
        "from matplotlib.colors import ListedColormap\n",
        "from sklearn import neighbors, datasets\n",
        "\n",
        "n_neighbors = 15\n",
        "\n",
        "# import some data to play with\n",
        "iris = datasets.load_iris()\n",
        "\n",
        "\n",
        "# we only take the first two features. We could avoid this ugly\n",
        "# slicing by using a two-dim dataset\n",
        "X = iris.data[:, :2]\n",
        "y = iris.target\n",
        "\n",
        "h = 0.02  # step size in the mesh\n",
        "\n",
        "# Create color maps\n",
        "cmap_light = ListedColormap([\"orange\", \"cyan\", \"cornflowerblue\"])\n",
        "cmap_bold = [\"darkorange\", \"c\", \"darkblue\"]\n",
        "\n",
        "\n",
        "# Plot the decision boundary. For that, we will assign a color to each\n",
        "# point in the mesh [x_min, x_max]x[y_min, y_max].\n",
        "x_min, x_max = X[:, 0].min() - 1, X[:, 0].max() + 1\n",
        "y_min, y_max = X[:, 1].min() - 1, X[:, 1].max() + 1\n",
        "xx, yy = np.meshgrid(np.arange(x_min, x_max, h), np.arange(y_min, y_max, h))"
      ],
      "execution_count": null,
      "outputs": []
    },
    {
      "cell_type": "code",
      "metadata": {
        "colab": {
          "base_uri": "https://localhost:8080/"
        },
        "id": "NJkEL-Bll7nz",
        "outputId": "6a076eb0-9bca-4775-eac6-0705e539a510"
      },
      "source": [
        "iris.keys()"
      ],
      "execution_count": null,
      "outputs": [
        {
          "output_type": "execute_result",
          "data": {
            "text/plain": [
              "dict_keys(['data', 'target', 'frame', 'target_names', 'DESCR', 'feature_names', 'filename', 'data_module'])"
            ]
          },
          "metadata": {},
          "execution_count": 28
        }
      ]
    },
    {
      "cell_type": "code",
      "metadata": {
        "id": "Oc7kecMemAoR"
      },
      "source": [
        "from sklearn.model_selection import train_test_split\n",
        "X_train, X_test, y_train, y_test = train_test_split( X, y, test_size=0.2, random_state=42)"
      ],
      "execution_count": null,
      "outputs": []
    },
    {
      "cell_type": "code",
      "metadata": {
        "id": "4vr2MYUdmgTZ"
      },
      "source": [
        ""
      ],
      "execution_count": null,
      "outputs": []
    },
    {
      "cell_type": "code",
      "metadata": {
        "colab": {
          "base_uri": "https://localhost:8080/",
          "height": 421
        },
        "id": "grZeWfCVhEN7",
        "outputId": "0f1a318b-2940-4936-af45-9b3e8b8fb280"
      },
      "source": [
        "import pandas as pd\n",
        "dataset = pd.DataFrame(data=iris.data, columns=iris.feature_names)\n",
        "dataset"
      ],
      "execution_count": null,
      "outputs": [
        {
          "output_type": "execute_result",
          "data": {
            "text/html": [
              "<div>\n",
              "<style scoped>\n",
              "    .dataframe tbody tr th:only-of-type {\n",
              "        vertical-align: middle;\n",
              "    }\n",
              "\n",
              "    .dataframe tbody tr th {\n",
              "        vertical-align: top;\n",
              "    }\n",
              "\n",
              "    .dataframe thead th {\n",
              "        text-align: right;\n",
              "    }\n",
              "</style>\n",
              "<table border=\"1\" class=\"dataframe\">\n",
              "  <thead>\n",
              "    <tr style=\"text-align: right;\">\n",
              "      <th></th>\n",
              "      <th>sepal length (cm)</th>\n",
              "      <th>sepal width (cm)</th>\n",
              "      <th>petal length (cm)</th>\n",
              "      <th>petal width (cm)</th>\n",
              "    </tr>\n",
              "  </thead>\n",
              "  <tbody>\n",
              "    <tr>\n",
              "      <th>0</th>\n",
              "      <td>5.1</td>\n",
              "      <td>3.5</td>\n",
              "      <td>1.4</td>\n",
              "      <td>0.2</td>\n",
              "    </tr>\n",
              "    <tr>\n",
              "      <th>1</th>\n",
              "      <td>4.9</td>\n",
              "      <td>3.0</td>\n",
              "      <td>1.4</td>\n",
              "      <td>0.2</td>\n",
              "    </tr>\n",
              "    <tr>\n",
              "      <th>2</th>\n",
              "      <td>4.7</td>\n",
              "      <td>3.2</td>\n",
              "      <td>1.3</td>\n",
              "      <td>0.2</td>\n",
              "    </tr>\n",
              "    <tr>\n",
              "      <th>3</th>\n",
              "      <td>4.6</td>\n",
              "      <td>3.1</td>\n",
              "      <td>1.5</td>\n",
              "      <td>0.2</td>\n",
              "    </tr>\n",
              "    <tr>\n",
              "      <th>4</th>\n",
              "      <td>5.0</td>\n",
              "      <td>3.6</td>\n",
              "      <td>1.4</td>\n",
              "      <td>0.2</td>\n",
              "    </tr>\n",
              "    <tr>\n",
              "      <th>...</th>\n",
              "      <td>...</td>\n",
              "      <td>...</td>\n",
              "      <td>...</td>\n",
              "      <td>...</td>\n",
              "    </tr>\n",
              "    <tr>\n",
              "      <th>145</th>\n",
              "      <td>6.7</td>\n",
              "      <td>3.0</td>\n",
              "      <td>5.2</td>\n",
              "      <td>2.3</td>\n",
              "    </tr>\n",
              "    <tr>\n",
              "      <th>146</th>\n",
              "      <td>6.3</td>\n",
              "      <td>2.5</td>\n",
              "      <td>5.0</td>\n",
              "      <td>1.9</td>\n",
              "    </tr>\n",
              "    <tr>\n",
              "      <th>147</th>\n",
              "      <td>6.5</td>\n",
              "      <td>3.0</td>\n",
              "      <td>5.2</td>\n",
              "      <td>2.0</td>\n",
              "    </tr>\n",
              "    <tr>\n",
              "      <th>148</th>\n",
              "      <td>6.2</td>\n",
              "      <td>3.4</td>\n",
              "      <td>5.4</td>\n",
              "      <td>2.3</td>\n",
              "    </tr>\n",
              "    <tr>\n",
              "      <th>149</th>\n",
              "      <td>5.9</td>\n",
              "      <td>3.0</td>\n",
              "      <td>5.1</td>\n",
              "      <td>1.8</td>\n",
              "    </tr>\n",
              "  </tbody>\n",
              "</table>\n",
              "<p>150 rows × 4 columns</p>\n",
              "</div>"
            ],
            "text/plain": [
              "     sepal length (cm)  sepal width (cm)  petal length (cm)  petal width (cm)\n",
              "0                  5.1               3.5                1.4               0.2\n",
              "1                  4.9               3.0                1.4               0.2\n",
              "2                  4.7               3.2                1.3               0.2\n",
              "3                  4.6               3.1                1.5               0.2\n",
              "4                  5.0               3.6                1.4               0.2\n",
              "..                 ...               ...                ...               ...\n",
              "145                6.7               3.0                5.2               2.3\n",
              "146                6.3               2.5                5.0               1.9\n",
              "147                6.5               3.0                5.2               2.0\n",
              "148                6.2               3.4                5.4               2.3\n",
              "149                5.9               3.0                5.1               1.8\n",
              "\n",
              "[150 rows x 4 columns]"
            ]
          },
          "metadata": {},
          "execution_count": 22
        }
      ]
    },
    {
      "cell_type": "code",
      "metadata": {
        "colab": {
          "base_uri": "https://localhost:8080/",
          "height": 404
        },
        "id": "DqAzKz6nfAOx",
        "outputId": "4aedd452-5d8e-41d7-ef9b-f179fe06e748"
      },
      "source": [
        "for n_neighbors in range(1, 6, 5):\n",
        "    weights = \"uniform\" #weights in [\"uniform\", \"distance\"]\n",
        "    # we create an instance of Neighbours Classifier and fit the data.\n",
        "    clf = neighbors.KNeighborsClassifier(n_neighbors, weights=weights)\n",
        "    clf.fit(X_train, y_train)\n",
        "\n",
        "    Z = clf.predict(np.c_[xx.ravel(), yy.ravel()])\n",
        "\n",
        "    # Put the result into a color plot\n",
        "    Z = Z.reshape(xx.shape)\n",
        "    plt.figure(figsize=(8, 6))\n",
        "    plt.contourf(xx, yy, Z, cmap=cmap_light)\n",
        "\n",
        "    # Plot also the training points\n",
        "    sns.scatterplot(\n",
        "        x=X[:, 0],\n",
        "        y=X[:, 1],\n",
        "        hue=iris.target_names[y],\n",
        "        palette=cmap_bold,\n",
        "        alpha=1.0,\n",
        "        edgecolor=\"black\",\n",
        "    )\n",
        "    plt.xlim(xx.min(), xx.max())\n",
        "    plt.ylim(yy.min(), yy.max())\n",
        "    plt.title(\n",
        "        \"3-Class classification (k = %i, weights = '%s')\" % (n_neighbors, weights)\n",
        "    )\n",
        "    plt.xlabel(iris.feature_names[0])\n",
        "    plt.ylabel(iris.feature_names[1])\n",
        "\n",
        "plt.show()"
      ],
      "execution_count": null,
      "outputs": [
        {
          "output_type": "display_data",
          "data": {
            "image/png": "[encoded data removed]",
            "text/plain": [
              "<Figure size 576x432 with 1 Axes>"
            ]
          },
          "metadata": {
            "needs_background": "light"
          }
        }
      ]
    },
    {
      "cell_type": "code",
      "metadata": {
        "colab": {
          "base_uri": "https://localhost:8080/"
        },
        "id": "GsKizhqznGuj",
        "outputId": "8048132f-2662-4036-9c32-f1315f91de46"
      },
      "source": [
        "for n_neighbors in range(1, 1 + len(X_train)):\n",
        "    weights = \"uniform\" #weights in [\"uniform\", \"distance\"]\n",
        "    # we create an instance of Neighbours Classifier and fit the data.\n",
        "    clf = neighbors.KNeighborsClassifier(n_neighbors, weights=weights)\n",
        "    clf.fit(X_train, y_train)\n",
        "\n",
        "    y_pred = clf.predict(X_test)\n",
        "    print(n_neighbors, \": \", f1_score(y_test, y_pred, average='macro'))"
      ],
      "execution_count": null,
      "outputs": [
        {
          "output_type": "stream",
          "name": "stdout",
          "text": [
            "1 :  0.6666666666666666\n",
            "2 :  0.6930946291560103\n",
            "3 :  0.8329156223893066\n",
            "4 :  0.6930946291560103\n",
            "5 :  0.7979797979797979\n",
            "6 :  0.8000000000000002\n",
            "7 :  0.7660818713450293\n",
            "8 :  0.797979797979798\n",
            "9 :  0.8000000000000002\n",
            "10 :  0.797979797979798\n",
            "11 :  0.7660818713450293\n",
            "12 :  0.7660818713450291\n",
            "13 :  0.7660818713450293\n",
            "14 :  0.7660818713450293\n",
            "15 :  0.8294970161977835\n",
            "16 :  0.8329156223893066\n",
            "17 :  0.8534798534798534\n",
            "18 :  0.7660818713450293\n",
            "19 :  0.8222222222222223\n",
            "20 :  0.7660818713450293\n",
            "21 :  0.7916666666666666\n",
            "22 :  0.8294970161977835\n",
            "23 :  0.8294970161977835\n",
            "24 :  0.8653198653198654\n",
            "25 :  0.8653198653198654\n",
            "26 :  0.8653198653198654\n",
            "27 :  0.8653198653198654\n",
            "28 :  0.8653198653198654\n",
            "29 :  0.8653198653198654\n",
            "30 :  0.899749373433584\n",
            "31 :  0.9305555555555555\n",
            "32 :  0.8653198653198654\n",
            "33 :  0.8933333333333334\n",
            "34 :  0.8933333333333334\n",
            "35 :  0.8933333333333334\n",
            "36 :  0.8976982097186701\n",
            "37 :  0.8976982097186701\n",
            "38 :  0.8976982097186701\n",
            "39 :  0.8976982097186701\n",
            "40 :  0.8976982097186701\n",
            "41 :  0.8976982097186701\n",
            "42 :  0.8976982097186701\n",
            "43 :  0.8976982097186701\n",
            "44 :  0.9326599326599326\n",
            "45 :  0.9326599326599326\n",
            "46 :  0.9326599326599326\n",
            "47 :  0.8976982097186701\n",
            "48 :  0.9326599326599326\n",
            "49 :  0.9326599326599326\n",
            "50 :  0.9326599326599326\n",
            "51 :  0.8976982097186701\n",
            "52 :  0.9326599326599326\n",
            "53 :  0.8976982097186701\n",
            "54 :  0.8329156223893066\n",
            "55 :  0.8976982097186701\n",
            "56 :  0.8976982097186701\n",
            "57 :  0.8976982097186701\n",
            "58 :  0.9326599326599326\n",
            "59 :  0.9326599326599326\n",
            "60 :  0.8666666666666666\n",
            "61 :  0.8976982097186701\n",
            "62 :  0.8976982097186701\n",
            "63 :  0.8976982097186701\n",
            "64 :  0.8329156223893066\n",
            "65 :  0.8666666666666666\n",
            "66 :  0.8666666666666666\n",
            "67 :  0.8329156223893066\n",
            "68 :  0.8329156223893066\n",
            "69 :  0.8329156223893066\n",
            "70 :  0.8000000000000002\n",
            "71 :  0.8000000000000002\n",
            "72 :  0.8666666666666666\n",
            "73 :  0.8666666666666666\n",
            "74 :  0.8329156223893066\n",
            "75 :  0.8329156223893066\n",
            "76 :  0.8329156223893066\n",
            "77 :  0.797979797979798\n",
            "78 :  0.797979797979798\n",
            "79 :  0.7612958226768969\n",
            "80 :  0.7916666666666666\n",
            "81 :  0.7916666666666666\n",
            "82 :  0.7916666666666666\n",
            "83 :  0.7916666666666666\n",
            "84 :  0.8294970161977835\n",
            "85 :  0.8294970161977835\n",
            "86 :  0.7916666666666666\n",
            "87 :  0.7511111111111112\n",
            "88 :  0.7511111111111112\n",
            "89 :  0.7511111111111112\n",
            "90 :  0.706959706959707\n",
            "91 :  0.706959706959707\n",
            "92 :  0.706959706959707\n",
            "93 :  0.706959706959707\n",
            "94 :  0.706959706959707\n",
            "95 :  0.706959706959707\n",
            "96 :  0.706959706959707\n",
            "97 :  0.706959706959707\n",
            "98 :  0.706959706959707\n",
            "99 :  0.706959706959707\n",
            "100 :  0.6031746031746031\n",
            "101 :  0.6031746031746031\n",
            "102 :  0.6031746031746031\n",
            "103 :  0.5402298850574713\n",
            "104 :  0.5402298850574713\n",
            "105 :  0.5079365079365079\n",
            "106 :  0.5079365079365079\n",
            "107 :  0.6031746031746031\n",
            "108 :  0.49969751966122206\n",
            "109 :  0.5402298850574713\n",
            "110 :  0.21850079744816586\n",
            "111 :  0.15384615384615383\n",
            "112 :  0.15384615384615383\n",
            "113 :  0.15384615384615383\n",
            "114 :  0.21850079744816586\n",
            "115 :  0.15384615384615383\n",
            "116 :  0.15384615384615383\n",
            "117 :  0.15384615384615383\n",
            "118 :  0.15384615384615383\n",
            "119 :  0.15384615384615383\n",
            "120 :  0.15384615384615383\n"
          ]
        }
      ]
    },
    {
      "cell_type": "markdown",
      "metadata": {
        "id": "4CmsEDgRGn_K"
      },
      "source": [
        ""
      ]
    },
    {
      "cell_type": "code",
      "metadata": {
        "colab": {
          "base_uri": "https://localhost:8080/"
        },
        "id": "N0ZZ82zkGq1M",
        "outputId": "925d2ed1-ab3d-45dd-b02d-9934ccfacf65"
      },
      "source": [
        "a = np.array([2,3,4])\n",
        "b = np.array([2,3,4])\n",
        "np.matmul(a, b) == a@b ==np.dot(a, b)"
      ],
      "execution_count": null,
      "outputs": [
        {
          "output_type": "execute_result",
          "data": {
            "text/plain": [
              "True"
            ]
          },
          "metadata": {},
          "execution_count": 4
        }
      ]
    },
    {
      "cell_type": "code",
      "metadata": {
        "id": "qyU19IK1GoQy"
      },
      "source": [
        "import numpy as np"
      ],
      "execution_count": null,
      "outputs": []
    },
    {
      "cell_type": "code",
      "metadata": {
        "colab": {
          "base_uri": "https://localhost:8080/"
        },
        "id": "6ykxSM9BfD44",
        "outputId": "3938f2ae-043d-4aee-e487-09e334f05acd"
      },
      "source": [
        "from sklearn.metrics import f1_score\n",
        "y_pred = clf.predict(X_test)\n",
        "\n",
        "for avg in ['macro', 'micro', 'weighted']:\n",
        "    print(f1_score(y_test, y_pred, average=avg))"
      ],
      "execution_count": null,
      "outputs": [
        {
          "output_type": "stream",
          "name": "stdout",
          "text": [
            "0.6666666666666666\n",
            "0.6666666666666666\n",
            "0.6666666666666666\n"
          ]
        }
      ]
    },
    {
      "cell_type": "code",
      "metadata": {
        "id": "_R18MPlLnTj7"
      },
      "source": [
        ""
      ],
      "execution_count": null,
      "outputs": []
    }
  ]
}