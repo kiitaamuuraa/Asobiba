{
  "nbformat": 4,
  "nbformat_minor": 0,
  "metadata": {
    "accelerator": "GPU",
    "colab": {
      "name": "MyFirstPyTorchDDP.ipynb",
      "provenance": [],
      "authorship_tag": "ABX9TyMIVVWnkE6hG1hTVlhT5uGn",
      "include_colab_link": true
    },
    "kernelspec": {
      "display_name": "Python 3",
      "name": "python3"
    },
    "language_info": {
      "name": "python"
    }
  },
  "cells": [
    {
      "cell_type": "markdown",
      "metadata": {
        "id": "view-in-github",
        "colab_type": "text"
      },
      "source": [
        "<a href=\"https://colab.research.google.com/github/kiitaamuuraa/Asobiba/blob/main/MyFirstPyTorchDDP.ipynb\" target=\"_parent\"><img src=\"https://colab.research.google.com/assets/colab-badge.svg\" alt=\"Open In Colab\"/></a>"
      ]
    },
    {
      "cell_type": "code",
      "metadata": {
        "id": "id95aY35afuB"
      },
      "source": [
        "import os\n",
        "\n",
        "import torch\n",
        "import torch.nn as nn\n",
        "from torchvision import models\n",
        "\n",
        "# 分散データ並列\n",
        "import torch.distributed as dist\n",
        "from torch.multiprocessing import Process\n",
        "from torch.nn.parallel import DistributedDataParallel as DDP"
      ],
      "execution_count": 15,
      "outputs": []
    },
    {
      "cell_type": "code",
      "metadata": {
        "id": "9O1LtOGdanuh"
      },
      "source": [
        "device = torch.device(\"cuda:0\" if torch.cuda.is_available() else \"cpu\")\n",
        "input = torch.randn([16, 3, 224, 224])\n",
        "net = models.resnet152(pretrained=True)\n",
        "#net = nn.DataParallel(net)\n",
        "#net = net.to(device)\n",
        "out = net(input)"
      ],
      "execution_count": 13,
      "outputs": []
    },
    {
      "cell_type": "code",
      "metadata": {
        "id": "0i98O7T-atuL"
      },
      "source": [
        "os.environ['MASTER_ADDR'] = '127.0.0.1'\n",
        "os.environ['MASTER_PORT'] = '29500'"
      ],
      "execution_count": 6,
      "outputs": []
    },
    {
      "cell_type": "markdown",
      "metadata": {
        "id": "FWEFxneoPZJI"
      },
      "source": [
        ""
      ]
    },
    {
      "cell_type": "markdown",
      "metadata": {
        "id": "LIkU_9dCPi1M"
      },
      "source": [
        "## 分散の初期化を以下を参考に実施\n",
        "* ランクとサイズを取得する参考コード  \n",
        "https://www.programcreek.com/python/example/112916/torch.distributed.init_process_group\n",
        "* mp4i のインストール  \n",
        "https://mpi4py.readthedocs.io/en/stable/index.html\n",
        "* PyTorchの公式ドキュメント(DDP)  \n",
        " * サンプルコード: https://pytorch.org/docs/master/notes/ddp.html  \n",
        " * torch.distributedの解説: https://pytorch.org/docs/stable/distributed.html  \n",
        " `torch.distributed.init_process_group`はよく読んだ方がいい"
      ]
    },
    {
      "cell_type": "code",
      "metadata": {
        "id": "WD2hJgPAPqcu"
      },
      "source": [
        "!pip install mpi4py"
      ],
      "execution_count": null,
      "outputs": []
    },
    {
      "cell_type": "code",
      "metadata": {
        "colab": {
          "base_uri": "https://localhost:8080/"
        },
        "id": "fmKvAvynLycG",
        "outputId": "79c28efb-1d05-442f-c659-9e2ace0667df"
      },
      "source": [
        "from mpi4py import MPI\n",
        "mpi_rank = MPI.COMM_WORLD.Get_rank()\n",
        "mpi_size = MPI.COMM_WORLD.Get_size()\n",
        "mpi_rank, mpi_size"
      ],
      "execution_count": 3,
      "outputs": [
        {
          "output_type": "execute_result",
          "data": {
            "text/plain": [
              "(0, 1)"
            ]
          },
          "metadata": {
            "tags": []
          },
          "execution_count": 3
        }
      ]
    },
    {
      "cell_type": "code",
      "metadata": {
        "id": "ZvT__9qOMWlW"
      },
      "source": [
        "# プロセスグループの初期化\n",
        "dist.init_process_group(\"nccl\", rank=mpi_rank, world_size=mpi_size)"
      ],
      "execution_count": 10,
      "outputs": []
    },
    {
      "cell_type": "code",
      "metadata": {
        "id": "8CUJFzXxOHHM"
      },
      "source": [
        "# プロセスグループの終了\n",
        "dist.destroy_process_group()"
      ],
      "execution_count": 9,
      "outputs": []
    },
    {
      "cell_type": "code",
      "metadata": {
        "id": "zgz4Fvp1QY_q"
      },
      "source": [
        "# create local model\n",
        "net = net.to(mpi_rank)\n",
        "# DDPでラップ\n",
        "ddp_net = DDP(net, device_ids=[mpi_rank])"
      ],
      "execution_count": 16,
      "outputs": []
    },
    {
      "cell_type": "code",
      "metadata": {
        "colab": {
          "base_uri": "https://localhost:8080/"
        },
        "id": "uxdrOHM2Q9bW",
        "outputId": "8ca94f83-10ec-42fa-9bb9-280bfeb63529"
      },
      "source": [
        "type(ddp_net), ddp_net.device"
      ],
      "execution_count": 19,
      "outputs": [
        {
          "output_type": "execute_result",
          "data": {
            "text/plain": [
              "(torch.nn.parallel.distributed.DistributedDataParallel,\n",
              " device(type='cuda', index=0))"
            ]
          },
          "metadata": {
            "tags": []
          },
          "execution_count": 19
        }
      ]
    },
    {
      "cell_type": "code",
      "metadata": {
        "id": "uxLsctCDVa_7"
      },
      "source": [
        "# エポック開始時にGPUの同期を待ち\n",
        "dist.barrier()  # let all processes sync up before starting with a new epoch of training"
      ],
      "execution_count": null,
      "outputs": []
    },
    {
      "cell_type": "code",
      "metadata": {
        "id": "cNaFcHylWM_3"
      },
      "source": [
        "# https://tmyoda.hatenablog.com/entry/20210314/1615712115\n",
        "dist.all_reduce(running_loss, op=dist.ReduceOp.SUM)\n",
        "dist.all_reduce(running_corrects, op=dist.ReduceOp.SUM)"
      ],
      "execution_count": 29,
      "outputs": []
    },
    {
      "cell_type": "code",
      "metadata": {
        "colab": {
          "base_uri": "https://localhost:8080/"
        },
        "id": "6xwuoRY9WTiX",
        "outputId": "4199f4ce-325f-4009-ff24-d05956bc4cde"
      },
      "source": [
        "# 現在のバックエンドやランク、ワールドサイズを取得するAPI\n",
        "torch.distributed.get_backend()\n",
        "torch.distributed.get_rank()\n",
        "torch.distributed.get_world_size(group=None)\n",
        "torch.distributed.is_nccl_available()"
      ],
      "execution_count": 32,
      "outputs": [
        {
          "output_type": "execute_result",
          "data": {
            "text/plain": [
              "0"
            ]
          },
          "metadata": {
            "tags": []
          },
          "execution_count": 32
        }
      ]
    },
    {
      "cell_type": "code",
      "metadata": {
        "colab": {
          "base_uri": "https://localhost:8080/"
        },
        "id": "NRnuJ_lcWa-y",
        "outputId": "846e6730-e0d2-4982-f9c8-108b40d2ef17"
      },
      "source": [
        ""
      ],
      "execution_count": 34,
      "outputs": [
        {
          "output_type": "execute_result",
          "data": {
            "text/plain": [
              "True"
            ]
          },
          "metadata": {
            "tags": []
          },
          "execution_count": 34
        }
      ]
    },
    {
      "cell_type": "code",
      "metadata": {
        "id": "jq63ywZcY6SE"
      },
      "source": [
        ""
      ],
      "execution_count": null,
      "outputs": []
    }
  ]
}