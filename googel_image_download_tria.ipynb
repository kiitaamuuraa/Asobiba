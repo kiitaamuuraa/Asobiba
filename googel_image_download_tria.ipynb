{
  "nbformat": 4,
  "nbformat_minor": 0,
  "metadata": {
    "colab": {
      "name": "googel_image_download_tria.ipynb",
      "provenance": [],
      "authorship_tag": "ABX9TyOvd7JIlRYjppabiLUV26p9",
      "include_colab_link": true
    },
    "kernelspec": {
      "name": "python3",
      "display_name": "Python 3"
    }
  },
  "cells": [
    {
      "cell_type": "markdown",
      "metadata": {
        "id": "view-in-github",
        "colab_type": "text"
      },
      "source": [
        "<a href=\"https://colab.research.google.com/github/kiitaamuuraa/Asobiba/blob/main/googel_image_download_tria.ipynb\" target=\"_parent\"><img src=\"https://colab.research.google.com/assets/colab-badge.svg\" alt=\"Open In Colab\"/></a>"
      ]
    },
    {
      "cell_type": "markdown",
      "metadata": {
        "id": "dYeeHNj27iTO"
      },
      "source": [
        "## [Google Image Download](https://google-images-download.readthedocs.io/en/latest/index.html) を使って、画像を一括ダウンロード"
      ]
    },
    {
      "cell_type": "code",
      "metadata": {
        "colab": {
          "base_uri": "https://localhost:8080/"
        },
        "id": "FC4zReTe2MNr",
        "outputId": "643138ed-eafd-4617-9d0b-dca15ecbfc07"
      },
      "source": [
        "# https://qiita.com/kawataku-89love/items/60deeec2c762b3b6ffe7 を参考に、公式ではなく以下のリポジトリをクローン\r\n",
        "!git clone https://github.com/Joeclinton1/google-images-download.git tmp"
      ],
      "execution_count": 7,
      "outputs": [
        {
          "output_type": "stream",
          "text": [
            "Cloning into 'tmp'...\n",
            "remote: Enumerating objects: 8, done.\u001b[K\n",
            "remote: Counting objects:  12% (1/8)\u001b[K\rremote: Counting objects:  25% (2/8)\u001b[K\rremote: Counting objects:  37% (3/8)\u001b[K\rremote: Counting objects:  50% (4/8)\u001b[K\rremote: Counting objects:  62% (5/8)\u001b[K\rremote: Counting objects:  75% (6/8)\u001b[K\rremote: Counting objects:  87% (7/8)\u001b[K\rremote: Counting objects: 100% (8/8)\u001b[K\rremote: Counting objects: 100% (8/8), done.\u001b[K\n",
            "remote: Compressing objects:  12% (1/8)\u001b[K\rremote: Compressing objects:  25% (2/8)\u001b[K\rremote: Compressing objects:  37% (3/8)\u001b[K\rremote: Compressing objects:  50% (4/8)\u001b[K\rremote: Compressing objects:  62% (5/8)\u001b[K\rremote: Compressing objects:  75% (6/8)\u001b[K\rremote: Compressing objects:  87% (7/8)\u001b[K\rremote: Compressing objects: 100% (8/8)\u001b[K\rremote: Compressing objects: 100% (8/8), done.\u001b[K\n",
            "remote: Total 674 (delta 1), reused 1 (delta 0), pack-reused 666\u001b[K\n",
            "Receiving objects: 100% (674/674), 309.72 KiB | 7.37 MiB/s, done.\n",
            "Resolving deltas: 100% (391/391), done.\n"
          ],
          "name": "stdout"
        }
      ]
    },
    {
      "cell_type": "code",
      "metadata": {
        "colab": {
          "base_uri": "https://localhost:8080/"
        },
        "id": "j7BU3zjl2P2O",
        "outputId": "2f501a15-2f2c-4eed-b29d-9c325180036c"
      },
      "source": [
        "!pip install -e tmp"
      ],
      "execution_count": 8,
      "outputs": [
        {
          "output_type": "stream",
          "text": [
            "Obtaining file:///content/tmp\n",
            "Requirement already satisfied: selenium in /usr/local/lib/python3.7/dist-packages (from google-images-download==2.8.0) (3.141.0)\n",
            "Requirement already satisfied: urllib3 in /usr/local/lib/python3.7/dist-packages (from selenium->google-images-download==2.8.0) (1.24.3)\n",
            "Installing collected packages: google-images-download\n",
            "  Found existing installation: google-images-download 2.8.0\n",
            "    Can't uninstall 'google-images-download'. No files were found to uninstall.\n",
            "  Running setup.py develop for google-images-download\n",
            "Successfully installed google-images-download\n"
          ],
          "name": "stdout"
        }
      ]
    },
    {
      "cell_type": "code",
      "metadata": {
        "colab": {
          "base_uri": "https://localhost:8080/"
        },
        "id": "ydVIu0SWy0fO",
        "outputId": "b8d8a071-14c0-4dd6-b865-9dabae5975ee"
      },
      "source": [
        "!wget https://chromedriver.storage.googleapis.com/2.42/chromedriver_linux64.zip  && unzip chromedriver_linux64"
      ],
      "execution_count": 7,
      "outputs": [
        {
          "output_type": "stream",
          "text": [
            "Requirement already satisfied: google_images_download in /usr/local/lib/python3.7/dist-packages (2.8.0)\n",
            "Requirement already satisfied: selenium in /usr/local/lib/python3.7/dist-packages (from google_images_download) (3.141.0)\n",
            "Requirement already satisfied: urllib3 in /usr/local/lib/python3.7/dist-packages (from selenium->google_images_download) (1.24.3)\n",
            "--2021-03-04 01:19:50--  https://chromedriver.storage.googleapis.com/2.42/chromedriver_linux64.zip\n",
            "Resolving chromedriver.storage.googleapis.com (chromedriver.storage.googleapis.com)... 172.217.204.128, 2607:f8b0:400c:c15::80\n",
            "Connecting to chromedriver.storage.googleapis.com (chromedriver.storage.googleapis.com)|172.217.204.128|:443... connected.\n",
            "HTTP request sent, awaiting response... 200 OK\n",
            "Length: 4039043 (3.9M) [application/zip]\n",
            "Saving to: ‘chromedriver_linux64.zip’\n",
            "\n",
            "chromedriver_linux6 100%[===================>]   3.85M  --.-KB/s    in 0.04s   \n",
            "\n",
            "2021-03-04 01:19:50 (91.2 MB/s) - ‘chromedriver_linux64.zip’ saved [4039043/4039043]\n",
            "\n",
            "Archive:  chromedriver_linux64.zip\n",
            "  inflating: chromedriver            \n"
          ],
          "name": "stdout"
        }
      ]
    },
    {
      "cell_type": "code",
      "metadata": {
        "colab": {
          "base_uri": "https://localhost:8080/"
        },
        "id": "pLG043Wky2QK",
        "outputId": "15dc9cd2-9fbd-4f2d-ca20-ebc0264e35f3"
      },
      "source": [
        "from google_images_download import google_images_download  \r\n",
        "import os\r\n",
        "#Mount the drive from Google to save the dataset\r\n",
        "from google.colab import drive # this will be our driver\r\n",
        "drive.mount('/gdrive')\r\n",
        "root = '/gdrive/My Drive/'"
      ],
      "execution_count": 3,
      "outputs": [
        {
          "output_type": "stream",
          "text": [
            "Drive already mounted at /gdrive; to attempt to forcibly remount, call drive.mount(\"/gdrive\", force_remount=True).\n"
          ],
          "name": "stdout"
        }
      ]
    },
    {
      "cell_type": "code",
      "metadata": {
        "colab": {
          "base_uri": "https://localhost:8080/"
        },
        "id": "Qx9IRXFzzai8",
        "outputId": "68ef3a42-7f3f-468b-9d2c-87cefa2c5aad"
      },
      "source": [
        "# creating object \r\n",
        "response = google_images_download.googleimagesdownload()  \r\n",
        "  \r\n",
        "search_queries =['般若　ラスボス']\r\n",
        "  \r\n",
        "\r\n",
        "\r\n",
        "def downloadimages(query): \r\n",
        "    # 参照のこと\r\n",
        "    # https://google-images-download.readthedocs.io/en/latest/arguments.html\r\n",
        "    # keywords is the search query \r\n",
        "    # format is the image file format \r\n",
        "    # limit is the number of images to be downloaded \r\n",
        "    # print urs is to print the image file url \r\n",
        "    # size is the image size which can \r\n",
        "    # be specified manually (\"large, medium, icon\") \r\n",
        "    # aspect ratio denotes the height width ratio \r\n",
        "    # of images to download. (\"tall, square, wide, panoramic\") \r\n",
        "    arguments = {\"keywords\": query, \r\n",
        "                 \"format\": \"png\", \r\n",
        "                 \"limit\":100, \r\n",
        "                 \"print_urls\":True, \r\n",
        "                 \"size\": \"medium\", \r\n",
        "                 \"aspect_ratio\":\"square\"} \r\n",
        "    try: \r\n",
        "        response.download(arguments) \r\n",
        "      \r\n",
        "    # Handling File NotFound Error     \r\n",
        "    except FileNotFoundError:  \r\n",
        "        arguments = {\"keywords\": query, \r\n",
        "                     \"format\": \"jpg\", \r\n",
        "                     \"limit\":4, \r\n",
        "                     \"print_urls\":True,  \r\n",
        "                     \"size\": \"medium\"} \r\n",
        "                       \r\n",
        "        # Providing arguments for the searched query \r\n",
        "        try: \r\n",
        "            # Downloading the photos based \r\n",
        "            # on the given arguments \r\n",
        "            response.download(arguments)  \r\n",
        "        except: \r\n",
        "            pass\r\n",
        "  \r\n",
        "# Driver Code \r\n",
        "for query in search_queries: \r\n",
        "    downloadimages(query)  \r\n",
        "    print()  "
      ],
      "execution_count": 11,
      "outputs": [
        {
          "output_type": "stream",
          "text": [
            "\n",
            "Item no.: 1 --> Item name = \\u822c\\u82e5\\u3000\\u30e9\\u30b9\\u30dc\\u30b9\n",
            "Evaluating...\n",
            "Starting Download...\n",
            "Image URL: https://33man.jp/img/mmm/docs/003/563/001_s.png\n",
            "Completed Image ====> 1.001_s.png\n",
            "Image URL: https://re-1day.com/wp-content/uploads/2019/01/1-2-1.png\n",
            "Completed Image ====> 2.1-2-1.png\n",
            "Image URL: https://lookaside.fbsbx.com/lookaside/crawler/media/?media_id=1416321598507545\n",
            "Invalid image format 'text/html'. Skipping...\n",
            "Image URL: https://re-1day.com/wp-content/uploads/2019/01/1-6-1.png\n",
            "Completed Image ====> 3.1-6-1.png\n",
            "Image URL: https://33man.jp/img/mmm/docs/000/401/003_s.png\n",
            "Completed Image ====> 4.003_s.png\n",
            "Image URL: https://re-1day.com/wp-content/uploads/2019/01/1-5-1.png\n",
            "Completed Image ====> 5.1-5-1.png\n",
            "Image URL: https://pbs.twimg.com/profile_images/1116969415751258114/GxU0QnZB_400x400.png\n",
            "Completed Image ====> 6.gxu0qnzb_400x400.png\n",
            "Image URL: https://re-1day.com/wp-content/uploads/2019/01/1-4-1.png\n",
            "Completed Image ====> 7.1-4-1.png\n",
            "Image URL: https://d38fgd7fmrcuct.cloudfront.net/bh_400/bw_400/pf_1/1_3o51n5lquuksnrqfj452j.png\n",
            "Completed Image ====> 8.1_3o51n5lquuksnrqfj452j.png\n",
            "Image URL: https://kokkoblog.com/wp-content/uploads/2016/11/2FF7DAF0-3156-4A5B-8836-45552D24B72C-7109-0000041152E1069E.png\n",
            "Completed Image ====> 9.2ff7daf0-3156-4a5b-8836-45552d24b72c-7109-0000041152e1069e.png\n",
            "Image URL: https://re-1day.com/wp-content/uploads/2019/01/1-1-1.png\n",
            "Completed Image ====> 10.1-1-1.png\n",
            "Image URL: https://lookaside.fbsbx.com/lookaside/crawler/media/?media_id=490289127830425\n",
            "Invalid image format 'text/html'. Skipping...\n",
            "Image URL: https://bboyta2.com/wp-content/uploads/2019/02/namedaruma_33.png\n",
            "Completed Image ====> 11.namedaruma_33.png\n",
            "Image URL: https://lh3.googleusercontent.com/proxy/WqiFcOqu9XDiR89qxNXyhqGBReVsZEMOkCL62wALHuwnz2yNSUKaOEeFyFCpagAtj3yKLNszHYGwpKQKjNaPk2w=s0-d\n",
            "Completed Image ====> 12.wqifcoqu9xdir89qxnxyhqgbrevszemokcl62walhuwnz2ynsukaoeefyfcpagatj3yklnszhygwpkqkjnapk2w=s0-d.png\n",
            "Image URL: https://www.kairakuen-ongakusai.com/img/artist2020/hannya.png\n",
            "Completed Image ====> 13.hannya.png\n",
            "Image URL: https://bboyta2.com/wp-content/uploads/2020/02/hiphop-deai05_30.png\n",
            "Completed Image ====> 14.hiphop-deai05_30.png\n",
            "Image URL: https://tools.applemediaservices.com/api/badges/app-icon-music/standard/en-US?size=83x83&h=49c5a81c5c7d3a806277f00e27f4c783\n",
            "Completed Image ====> 15.en-us.png\n",
            "Image URL: https://liginc.co.jp/wp-content/uploads/2018/05/400ee33cefcabf8becf5e11ef6edf2ad.png\n",
            "Completed Image ====> 16.400ee33cefcabf8becf5e11ef6edf2ad.png\n",
            "Image URL: https://d38fgd7fmrcuct.cloudfront.net/bh_400/bw_400/pf_1/cc_48.64.866.899/1_3kftl42h1gataw5dc2jay.png\n",
            "Completed Image ====> 17.1_3kftl42h1gataw5dc2jay.png\n",
            "Image URL: https://cdn.amebaowndme.com/madrid-prd/madrid-web/images/sites/111620/d9923bcbb512c0c2c57cf864fa25d866_161bed5c7cdbbf4814b2d0b7a4c11743.png?width=770\n",
            "Completed Image ====> 18.d9923bcbb512c0c2c57cf864fa25d866_161bed5c7cdbbf4814b2d0b7a4c11743.png\n",
            "Image URL: https://d38fgd7fmrcuct.cloudfront.net/bh_400/bw_400/pf_1/7903f3051a102a47.png\n",
            "Completed Image ====> 19.7903f3051a102a47.png\n",
            "Image URL: https://is2-ssl.mzstatic.com/image/thumb/Podcasts123/v4/86/3f/99/863f99c8-fe46-402c-c585-7d7204cf8804/mza_5062873941873188612.jpg/600x600wp.png\n",
            "Completed Image ====> 20.600x600wp.png\n",
            "Image URL: http://sh-games.com/wp-content/uploads/2016/03/G_logo2014-03.png\n",
            "Completed Image ====> 21.g_logo2014-03.png\n",
            "Image URL: http://hiphop-jap.com/wp-content/uploads/2020/05/HIP-HOP-JAP-1.png\n",
            "Completed Image ====> 22.hip-hop-jap-1.png\n",
            "Image URL: https://i.rubese.net/twisoq/img/56a26b787a67e26069068fb3c41bc307.jpg\n",
            "URLError on an image...trying next one... Error: <urlopen error [SSL: CERTIFICATE_VERIFY_FAILED] certificate verify failed: unable to get local issuer certificate (_ssl.c:1091)>\n",
            "Image URL: https://www.tokoha-u.ac.jp/media/tokohaweb.kimura.png\n",
            "Completed Image ====> 23.tokohaweb.kimura.png\n",
            "Image URL: https://pics.prcm.jp/bb87db851a44e/81954491/png/81954491_480x480.png\n",
            "Completed Image ====> 24.81954491_480x480.png\n",
            "Image URL: https://tanaboublog.com/wp-content/uploads/2019/08/IMG_1252.png\n",
            "Completed Image ====> 25.img_1252.png\n",
            "Image URL: https://pbs.twimg.com/profile_images/1131108427420262400/sJXdtSGc_400x400.png\n",
            "Completed Image ====> 26.sjxdtsgc_400x400.png\n",
            "Image URL: https://cdn.image.st-hatena.com/image/scale/3a3c59585a00b213c549476f6dafec94de9739d5/enlarge=0;height=220;version=1;width=586/https%3A%2F%2Fcdn-ak.f.st-hatena.com%2Fimages%2Ffotolife%2Fs%2Fsyounagon%2F20201001%2F20201001192443.png\n",
            "Completed Image ====> 27.https%3a%2f%2fcdn-ak.f.st-hatena.com%2fimages%2ffotolife%2fs%2fsyounagon%2f20201001%2f20201001192443.png\n",
            "Image URL: https://cdn-ak.f.st-hatena.com/images/fotolife/k/kantabile/20190517/20190517190730.png\n",
            "Completed Image ====> 28.20190517190730.png\n",
            "Image URL: https://cdn.images-dot.com/static/img/common/dotlogo_512x512.png\n",
            "Completed Image ====> 29.dotlogo_512x512.png\n",
            "Image URL: https://kgrneer.com/wp-content/uploads/2020/02/eacd0e570c23cf71cd69bf694b8f28de.png\n",
            "Completed Image ====> 30.eacd0e570c23cf71cd69bf694b8f28de.png\n",
            "Image URL: http://jpstreet.jp/system/wp-content/uploads/2020/09/Twitter_Social_Icon_Rounded_Square_Color.png\n",
            "Completed Image ====> 31.twitter_social_icon_rounded_square_color.png\n",
            "Image URL: https://free-ownedmedia.com/wp-content/uploads/2020/10/freemedia.png\n",
            "Completed Image ====> 32.freemedia.png\n",
            "Image URL: https://himameblog.net/wp-content/plugins/all-in-one-seo-pack/images/default-user-image.png\n",
            "Completed Image ====> 33.default-user-image.png\n",
            "Image URL: https://pics.prcm.jp/fdbae6b90dc36/84117630/png/84117630.png\n",
            "Completed Image ====> 34.84117630.png\n",
            "Image URL: https://pics.prcm.jp/981a40f24c28d/57726608/png/57726608_480x480.png\n",
            "Completed Image ====> 35.57726608_480x480.png\n",
            "Image URL: https://dic.nicovideo.jp/oekaki/671519.png\n",
            "Completed Image ====> 36.671519.png\n",
            "Image URL: https://pbs.twimg.com/profile_images/1151346273607274497/WLfWfOrI_400x400.png\n",
            "Completed Image ====> 37.wlfwfori_400x400.png\n",
            "Image URL: https://jpstreet.jp/system/wp-content/uploads/2020/09/JPSTREET.png\n",
            "Completed Image ====> 38.jpstreet.png\n",
            "Image URL: https://cdn-ak.f.st-hatena.com/images/fotolife/b/bojisowaka/20200619/20200619185520.png\n",
            "Completed Image ====> 39.20200619185520.png\n",
            "Image URL: https://rockinon.com/images/entry/width:600/189714/1\n",
            "Completed Image ====> 40.1.png\n",
            "Image URL: https://d38fgd7fmrcuct.cloudfront.net/bh_400/bw_400/pf_1/771db560b22dd68e.png\n",
            "Completed Image ====> 41.771db560b22dd68e.png\n",
            "Image URL: https://pics.prcm.jp/56a642977f3fb/83836585/png/83836585_480x480.png\n",
            "Completed Image ====> 42.83836585_480x480.png\n",
            "Image URL: https://kgrneer.com/wp-content/uploads/2020/02/3046518626436c068172459b566a4185.png\n",
            "Completed Image ====> 43.3046518626436c068172459b566a4185.png\n",
            "Image URL: https://liginc.co.jp/wp-content/uploads/2018/05/profile_list_normal-18.png\n",
            "Completed Image ====> 44.profile_list_normal-18.png\n",
            "Image URL: https://pics.prcm.jp/ab3cea801a469/76579121/png/76579121_480x480.png\n",
            "Completed Image ====> 45.76579121_480x480.png\n",
            "Image URL: https://d38fgd7fmrcuct.cloudfront.net/bh_400/bw_400/pf_1/1c74fb8135bfc0f8.png\n",
            "Completed Image ====> 46.1c74fb8135bfc0f8.png\n",
            "Image URL: https://d38fgd7fmrcuct.cloudfront.net/bh_400/bw_400/pf_1/81ee69960b67c057.png\n",
            "Completed Image ====> 47.81ee69960b67c057.png\n",
            "Image URL: https://pbs.twimg.com/profile_images/1137369562490400768/4wwVCStT_400x400.png\n",
            "Completed Image ====> 48.4wwvcstt_400x400.png\n",
            "Image URL: https://pics.prcm.jp/6d4a62d6cfc3d/80993655/png/80993655_480x480.png\n",
            "Completed Image ====> 49.80993655_480x480.png\n",
            "Image URL: https://pics.prcm.jp/a1c1345aa3bf4/70197578/png/70197578_480x480.png\n",
            "Completed Image ====> 50.70197578_480x480.png\n",
            "Image URL: https://cdn.tw6.jp/i/tw6/origin/0010/865095_f00102_item_ic.png\n",
            "Completed Image ====> 51.865095_f00102_item_ic.png\n",
            "Image URL: https://d38fgd7fmrcuct.cloudfront.net/bh_400/bw_400/pf_1/1_3k8s72iwaxvul6fy5dage.png\n",
            "Completed Image ====> 52.1_3k8s72iwaxvul6fy5dage.png\n",
            "Image URL: https://pics.prcm.jp/311638141c103/81531080/png/81531080_480x480.png\n",
            "Completed Image ====> 53.81531080_480x480.png\n",
            "Image URL: https://lh3.googleusercontent.com/b5S0sNBpdiJgr9We23am9ArKBnTKMgygMcUV8mAhUKvbTpEI17goYoF355Lsa-3NXhqE3pdGDi-a-IYe-8PR4H2eLMkYdxPPTS0A3lRTZ0S98A\n",
            "Completed Image ====> 54.b5s0snbpdijgr9we23am9arkbntkmgygmcuv8mahukvbtpei17goyof355lsa-3nxhqe3pdgdi-a-iye-8pr4h2elmkydxppts0a3lrtz0s98a.png\n",
            "Image URL: https://pics.prcm.jp/a0a96c8ac436a/79776847/png/79776847_480x480.png\n",
            "Completed Image ====> 55.79776847_480x480.png\n",
            "Image URL: https://pbs.twimg.com/profile_images/1363142348964728845/N-jhUBxB_400x400.png\n",
            "Completed Image ====> 56.n-jhubxb_400x400.png\n",
            "Image URL: https://scdn.line-apps.com/stf/linenews-issue-1374/rssitem-22090990/052a87707d455fd14606ad3dd572aebb07072a4c.png\n",
            "Completed Image ====> 57.052a87707d455fd14606ad3dd572aebb07072a4c.png\n",
            "Image URL: https://pbs.twimg.com/media/D5uw4GAUcAAOb8n.png:small\n",
            "Completed Image ====> 58.d5uw4gaucaaob8n.png:small.png\n",
            "Image URL: https://pics.prcm.jp/2848090af34bb/74317859/png/74317859_480x480.png\n",
            "Completed Image ====> 59.74317859_480x480.png\n",
            "Image URL: https://pics.prcm.jp/6c5bb5c992443/82295523/png/82295523_480x480.png\n",
            "Completed Image ====> 60.82295523_480x480.png\n",
            "Image URL: https://pbs.twimg.com/profile_images/1098844223011352576/Vv91qxNC.png\n",
            "Completed Image ====> 61.vv91qxnc.png\n",
            "Image URL: https://pics.prcm.jp/7c965e1438da6/56457107/png/56457107_480x480.png\n",
            "Completed Image ====> 62.56457107_480x480.png\n",
            "Image URL: https://pbs.twimg.com/profile_images/1102785881704812544/ZkeeoiI7_400x400.png\n",
            "URLError on an image...trying next one... Error: HTTP Error 404: Not Found\n",
            "Image URL: https://pbs.twimg.com/profile_images/1123398946011795456/rnuB6fR_.png\n",
            "Completed Image ====> 63.rnub6fr_.png\n",
            "Image URL: https://bboyta2.com/wp-content/uploads/2019/02/namedaruma_44.png\n",
            "Completed Image ====> 64.namedaruma_44.png\n",
            "Image URL: https://bboyta2.com/wp-content/uploads/2019/02/namedaruma_46.png\n",
            "Completed Image ====> 65.namedaruma_46.png\n",
            "Image URL: https://pics.prcm.jp/0b242a37d4a4c/53655354/png/53655354_480x480.png\n",
            "Completed Image ====> 66.53655354_480x480.png\n",
            "Image URL: https://img.omni7.jp/co/productimage/0001/product/06/1107174406/image/null\n",
            "Completed Image ====> 67.null.png\n",
            "Image URL: https://bboyta2.com/wp-content/uploads/2019/02/namedaruma_42.png\n",
            "Completed Image ====> 68.namedaruma_42.png\n",
            "Image URL: https://cdn-ak.f.st-hatena.com/images/fotolife/M/MCGF/20190420/20190420223200.png\n",
            "Completed Image ====> 69.20190420223200.png\n",
            "Image URL: https://bboyta2.com/wp-content/uploads/2019/02/namedaruma_58.png\n",
            "Completed Image ====> 70.namedaruma_58.png\n",
            "Image URL: https://mcbattle-ch.jp/assets/other/ogp_default.png\n",
            "Completed Image ====> 71.ogp_default.png\n",
            "Image URL: https://bboyta2.com/wp-content/uploads/2019/02/namedaruma_57.png\n",
            "Completed Image ====> 72.namedaruma_57.png\n",
            "Image URL: http://blog.cnobi.jp/v1/blog/user/304d852688b6d3b76d94b0a9e0345e4c/1491546803?w=434&h=434\n",
            "Completed Image ====> 73.1491546803.png\n",
            "Image URL: https://pics.prcm.jp/06870f525ca12/84400832/png/84400832_480x480.png\n",
            "Completed Image ====> 74.84400832_480x480.png\n",
            "Image URL: https://bboyta2.com/wp-content/uploads/2019/02/namedaruma_56.png\n",
            "Completed Image ====> 75.namedaruma_56.png\n",
            "Image URL: https://pbs.twimg.com/media/DuD1rF7U0AAqrBj.png:small\n",
            "Completed Image ====> 76.dud1rf7u0aaqrbj.png:small.png\n",
            "Image URL: https://scdn.line-apps.com/stf/linenews-issue-1374/rssitem-22090990/fc9ab451b48c30bdbb2d03747f635936e66295b9.png\n",
            "Completed Image ====> 77.fc9ab451b48c30bdbb2d03747f635936e66295b9.png\n",
            "Image URL: https://blog-imgs-117.fc2.com/g/a/z/gazouhokankoz/482892338715.png\n",
            "Completed Image ====> 78.482892338715.png\n",
            "Image URL: https://bboyta2.com/wp-content/uploads/2019/02/namedaruma_45.png\n",
            "Completed Image ====> 79.namedaruma_45.png\n",
            "Image URL: https://bboyta2.com/wp-content/uploads/2019/02/namedaruma_35.png\n",
            "Completed Image ====> 80.namedaruma_35.png\n",
            "Image URL: https://storage.nana-music.com/picture/1485685-7ee494ae-4bcd-4b94-87af-c773e33b8c89-large.png\n",
            "Completed Image ====> 81.1485685-7ee494ae-4bcd-4b94-87af-c773e33b8c89-large.png\n",
            "Image URL: https://www.kairakuen-ongakusai.com/img/artist2020/kzm.png\n",
            "Completed Image ====> 82.kzm.png\n",
            "Image URL: https://d38fgd7fmrcuct.cloudfront.net/bh_400/bw_400/pf_1/cc_33.5.193.191/1_3hyk02fj1tc24fieid60g.png\n",
            "Completed Image ====> 83.1_3hyk02fj1tc24fieid60g.png\n",
            "Image URL: https://bboyta2.com/wp-content/uploads/2019/02/namedaruma_32.png\n",
            "Completed Image ====> 84.namedaruma_32.png\n",
            "Image URL: https://bboyta2.com/wp-content/uploads/2019/02/namedaruma_59.png\n",
            "Completed Image ====> 85.namedaruma_59.png\n",
            "Image URL: https://bboyta2.com/wp-content/uploads/2019/02/namedaruma_60.png\n",
            "Completed Image ====> 86.namedaruma_60.png\n",
            "Image URL: https://livedoor.blogimg.jp/iwagakidaisuke/imgs/c/7/c7b5a743.png\n",
            "Completed Image ====> 87.c7b5a743.png\n",
            "Image URL: https://pbs.twimg.com/profile_images/1342773597941628929/3sqPN9YM_400x400.png\n",
            "Completed Image ====> 88.3sqpn9ym_400x400.png\n",
            "Image URL: https://pics.prcm.jp/276f8371f6b26/79939337/png/79939337_480x480.png\n",
            "Completed Image ====> 89.79939337_480x480.png\n",
            "Image URL: https://www.kairakuen-ongakusai.com/img/artist2020/mckensaku.png\n",
            "Completed Image ====> 90.mckensaku.png\n",
            "Image URL: https://pics.prcm.jp/seliseli/82878577/png/82878577_480x480.png\n",
            "Completed Image ====> 91.82878577_480x480.png\n",
            "Image URL: https://www.kairakuen-ongakusai.com/img/artist2020/magenies.png\n",
            "Completed Image ====> 92.magenies.png\n",
            "Image URL: https://pics.prcm.jp/6997904a34133/81952269/png/81952269_480x480.png\n",
            "Completed Image ====> 93.81952269_480x480.png\n",
            "Image URL: https://cdn.image.st-hatena.com/image/scale/46eb9807fbfdbd330db3e82d8030090c571bd8b5/enlarge=0;height=220;version=1;width=586/https%3A%2F%2Fcdn-ak.f.st-hatena.com%2Fimages%2Ffotolife%2Fk%2Fkyanakoforyou%2F20200802%2F20200802211924.png\n",
            "Completed Image ====> 94.https%3a%2f%2fcdn-ak.f.st-hatena.com%2fimages%2ffotolife%2fk%2fkyanakoforyou%2f20200802%2f20200802211924.png\n",
            "Image URL: https://bboyta2.com/wp-content/uploads/2019/02/namedaruma_34.png\n",
            "Completed Image ====> 95.namedaruma_34.png\n",
            "Image URL: https://www.kairakuen-ongakusai.com/img/artist2020/shrknpap.png\n",
            "Completed Image ====> 96.shrknpap.png\n",
            "\n",
            "\n",
            "Unfortunately all 100 could not be downloaded because some images were not downloadable. 96 is all we got for this search filter!\n",
            "\n",
            "Errors: 4\n",
            "\n",
            "\n"
          ],
          "name": "stdout"
        }
      ]
    },
    {
      "cell_type": "code",
      "metadata": {
        "id": "rrKRuGSjAjSN"
      },
      "source": [
        ""
      ],
      "execution_count": null,
      "outputs": []
    }
  ]
}